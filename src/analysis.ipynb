{
 "cells": [
  {
   "attachments": {},
   "cell_type": "markdown",
   "metadata": {},
   "source": [
    "# Tugas Besar Probabilitas dan Statistika\n",
    "### Analisis Data dan Tes Hipotesis\n",
    "\n",
    "<a href=\"https://github.com/maikeljh\">Michael Jonathan Halim - 13521124</a>  \n",
    "<a href=\"https://github.com/alifioditya\">Enrique Alifio Ditya - 13521142</a>"
   ]
  },
  {
   "attachments": {},
   "cell_type": "markdown",
   "metadata": {},
   "source": [
    "# Import Necessary Libraries"
   ]
  },
  {
   "cell_type": "code",
   "execution_count": 434,
   "metadata": {},
   "outputs": [],
   "source": [
    "import pandas as pd\n",
    "import numpy as np\n",
    "import matplotlib.pyplot as plt\n",
    "import seaborn as sns\n",
    "import plotly.express as px\n",
    "import scipy\n",
    "from math import sqrt\n",
    "from scipy.stats import t, f\n",
    "from IPython.display import Markdown, display"
   ]
  },
  {
   "attachments": {},
   "cell_type": "markdown",
   "metadata": {},
   "source": [
    "# Import Dataset"
   ]
  },
  {
   "cell_type": "code",
   "execution_count": 435,
   "metadata": {},
   "outputs": [
    {
     "data": {
      "text/html": [
       "<div>\n",
       "<style scoped>\n",
       "    .dataframe tbody tr th:only-of-type {\n",
       "        vertical-align: middle;\n",
       "    }\n",
       "\n",
       "    .dataframe tbody tr th {\n",
       "        vertical-align: top;\n",
       "    }\n",
       "\n",
       "    .dataframe thead th {\n",
       "        text-align: right;\n",
       "    }\n",
       "</style>\n",
       "<table border=\"1\" class=\"dataframe\">\n",
       "  <thead>\n",
       "    <tr style=\"text-align: right;\">\n",
       "      <th></th>\n",
       "      <th>fixed acidity</th>\n",
       "      <th>volatile acidity</th>\n",
       "      <th>citric acid</th>\n",
       "      <th>residual sugar</th>\n",
       "      <th>chlorides</th>\n",
       "      <th>free sulfur dioxide</th>\n",
       "      <th>total sulfur dioxide</th>\n",
       "      <th>density</th>\n",
       "      <th>pH</th>\n",
       "      <th>sulphates</th>\n",
       "      <th>alcohol</th>\n",
       "      <th>quality</th>\n",
       "    </tr>\n",
       "  </thead>\n",
       "  <tbody>\n",
       "    <tr>\n",
       "      <th>0</th>\n",
       "      <td>5.90</td>\n",
       "      <td>0.4451</td>\n",
       "      <td>0.1813</td>\n",
       "      <td>2.049401</td>\n",
       "      <td>0.070574</td>\n",
       "      <td>16.593818</td>\n",
       "      <td>42.27</td>\n",
       "      <td>0.9982</td>\n",
       "      <td>3.27</td>\n",
       "      <td>0.71</td>\n",
       "      <td>8.64</td>\n",
       "      <td>7</td>\n",
       "    </tr>\n",
       "    <tr>\n",
       "      <th>1</th>\n",
       "      <td>8.40</td>\n",
       "      <td>0.5768</td>\n",
       "      <td>0.2099</td>\n",
       "      <td>3.109590</td>\n",
       "      <td>0.101681</td>\n",
       "      <td>22.555519</td>\n",
       "      <td>16.01</td>\n",
       "      <td>0.9960</td>\n",
       "      <td>3.35</td>\n",
       "      <td>0.57</td>\n",
       "      <td>10.03</td>\n",
       "      <td>8</td>\n",
       "    </tr>\n",
       "    <tr>\n",
       "      <th>2</th>\n",
       "      <td>7.54</td>\n",
       "      <td>0.5918</td>\n",
       "      <td>0.3248</td>\n",
       "      <td>3.673744</td>\n",
       "      <td>0.072416</td>\n",
       "      <td>9.316866</td>\n",
       "      <td>35.52</td>\n",
       "      <td>0.9990</td>\n",
       "      <td>3.31</td>\n",
       "      <td>0.64</td>\n",
       "      <td>9.23</td>\n",
       "      <td>8</td>\n",
       "    </tr>\n",
       "    <tr>\n",
       "      <th>3</th>\n",
       "      <td>5.39</td>\n",
       "      <td>0.4201</td>\n",
       "      <td>0.3131</td>\n",
       "      <td>3.371815</td>\n",
       "      <td>0.072755</td>\n",
       "      <td>18.212300</td>\n",
       "      <td>41.97</td>\n",
       "      <td>0.9945</td>\n",
       "      <td>3.34</td>\n",
       "      <td>0.55</td>\n",
       "      <td>14.07</td>\n",
       "      <td>9</td>\n",
       "    </tr>\n",
       "    <tr>\n",
       "      <th>4</th>\n",
       "      <td>6.51</td>\n",
       "      <td>0.5675</td>\n",
       "      <td>0.1940</td>\n",
       "      <td>4.404723</td>\n",
       "      <td>0.066379</td>\n",
       "      <td>9.360591</td>\n",
       "      <td>46.27</td>\n",
       "      <td>0.9925</td>\n",
       "      <td>3.27</td>\n",
       "      <td>0.45</td>\n",
       "      <td>11.49</td>\n",
       "      <td>8</td>\n",
       "    </tr>\n",
       "    <tr>\n",
       "      <th>...</th>\n",
       "      <td>...</td>\n",
       "      <td>...</td>\n",
       "      <td>...</td>\n",
       "      <td>...</td>\n",
       "      <td>...</td>\n",
       "      <td>...</td>\n",
       "      <td>...</td>\n",
       "      <td>...</td>\n",
       "      <td>...</td>\n",
       "      <td>...</td>\n",
       "      <td>...</td>\n",
       "      <td>...</td>\n",
       "    </tr>\n",
       "    <tr>\n",
       "      <th>995</th>\n",
       "      <td>7.96</td>\n",
       "      <td>0.6046</td>\n",
       "      <td>0.2662</td>\n",
       "      <td>1.592048</td>\n",
       "      <td>0.057555</td>\n",
       "      <td>14.892445</td>\n",
       "      <td>44.61</td>\n",
       "      <td>0.9975</td>\n",
       "      <td>3.35</td>\n",
       "      <td>0.54</td>\n",
       "      <td>10.41</td>\n",
       "      <td>8</td>\n",
       "    </tr>\n",
       "    <tr>\n",
       "      <th>996</th>\n",
       "      <td>8.48</td>\n",
       "      <td>0.4080</td>\n",
       "      <td>0.2227</td>\n",
       "      <td>0.681955</td>\n",
       "      <td>0.051627</td>\n",
       "      <td>23.548965</td>\n",
       "      <td>25.83</td>\n",
       "      <td>0.9972</td>\n",
       "      <td>3.41</td>\n",
       "      <td>0.46</td>\n",
       "      <td>9.91</td>\n",
       "      <td>8</td>\n",
       "    </tr>\n",
       "    <tr>\n",
       "      <th>997</th>\n",
       "      <td>6.11</td>\n",
       "      <td>0.4841</td>\n",
       "      <td>0.3720</td>\n",
       "      <td>2.377267</td>\n",
       "      <td>0.042806</td>\n",
       "      <td>21.624585</td>\n",
       "      <td>48.75</td>\n",
       "      <td>0.9928</td>\n",
       "      <td>3.23</td>\n",
       "      <td>0.55</td>\n",
       "      <td>9.94</td>\n",
       "      <td>7</td>\n",
       "    </tr>\n",
       "    <tr>\n",
       "      <th>998</th>\n",
       "      <td>7.76</td>\n",
       "      <td>0.3590</td>\n",
       "      <td>0.3208</td>\n",
       "      <td>4.294486</td>\n",
       "      <td>0.098276</td>\n",
       "      <td>12.746186</td>\n",
       "      <td>44.53</td>\n",
       "      <td>0.9952</td>\n",
       "      <td>3.30</td>\n",
       "      <td>0.66</td>\n",
       "      <td>9.76</td>\n",
       "      <td>8</td>\n",
       "    </tr>\n",
       "    <tr>\n",
       "      <th>999</th>\n",
       "      <td>5.87</td>\n",
       "      <td>0.5214</td>\n",
       "      <td>0.1883</td>\n",
       "      <td>2.179490</td>\n",
       "      <td>0.052923</td>\n",
       "      <td>16.203864</td>\n",
       "      <td>24.37</td>\n",
       "      <td>0.9983</td>\n",
       "      <td>3.29</td>\n",
       "      <td>0.70</td>\n",
       "      <td>10.17</td>\n",
       "      <td>7</td>\n",
       "    </tr>\n",
       "  </tbody>\n",
       "</table>\n",
       "<p>1000 rows × 12 columns</p>\n",
       "</div>"
      ],
      "text/plain": [
       "     fixed acidity  volatile acidity  citric acid  residual sugar  chlorides  \\\n",
       "0             5.90            0.4451       0.1813        2.049401   0.070574   \n",
       "1             8.40            0.5768       0.2099        3.109590   0.101681   \n",
       "2             7.54            0.5918       0.3248        3.673744   0.072416   \n",
       "3             5.39            0.4201       0.3131        3.371815   0.072755   \n",
       "4             6.51            0.5675       0.1940        4.404723   0.066379   \n",
       "..             ...               ...          ...             ...        ...   \n",
       "995           7.96            0.6046       0.2662        1.592048   0.057555   \n",
       "996           8.48            0.4080       0.2227        0.681955   0.051627   \n",
       "997           6.11            0.4841       0.3720        2.377267   0.042806   \n",
       "998           7.76            0.3590       0.3208        4.294486   0.098276   \n",
       "999           5.87            0.5214       0.1883        2.179490   0.052923   \n",
       "\n",
       "     free sulfur dioxide  total sulfur dioxide  density    pH  sulphates  \\\n",
       "0              16.593818                 42.27   0.9982  3.27       0.71   \n",
       "1              22.555519                 16.01   0.9960  3.35       0.57   \n",
       "2               9.316866                 35.52   0.9990  3.31       0.64   \n",
       "3              18.212300                 41.97   0.9945  3.34       0.55   \n",
       "4               9.360591                 46.27   0.9925  3.27       0.45   \n",
       "..                   ...                   ...      ...   ...        ...   \n",
       "995            14.892445                 44.61   0.9975  3.35       0.54   \n",
       "996            23.548965                 25.83   0.9972  3.41       0.46   \n",
       "997            21.624585                 48.75   0.9928  3.23       0.55   \n",
       "998            12.746186                 44.53   0.9952  3.30       0.66   \n",
       "999            16.203864                 24.37   0.9983  3.29       0.70   \n",
       "\n",
       "     alcohol  quality  \n",
       "0       8.64        7  \n",
       "1      10.03        8  \n",
       "2       9.23        8  \n",
       "3      14.07        9  \n",
       "4      11.49        8  \n",
       "..       ...      ...  \n",
       "995    10.41        8  \n",
       "996     9.91        8  \n",
       "997     9.94        7  \n",
       "998     9.76        8  \n",
       "999    10.17        7  \n",
       "\n",
       "[1000 rows x 12 columns]"
      ]
     },
     "execution_count": 435,
     "metadata": {},
     "output_type": "execute_result"
    }
   ],
   "source": [
    "df = pd.read_csv(\"../data/anggur.csv\")\n",
    "df"
   ]
  },
  {
   "attachments": {},
   "cell_type": "markdown",
   "metadata": {},
   "source": [
    "# Exploratory Data Analysis"
   ]
  },
  {
   "attachments": {},
   "cell_type": "markdown",
   "metadata": {},
   "source": [
    "For a full and thorough overview of the dataset, you can open the `EDA.html` file in the `public` folder."
   ]
  },
  {
   "attachments": {},
   "cell_type": "markdown",
   "metadata": {},
   "source": [
    "## Descriptive Statistics\n",
    "\n",
    "In this section, we will examine a brief overview of the dataset."
   ]
  },
  {
   "attachments": {},
   "cell_type": "markdown",
   "metadata": {},
   "source": [
    "### Missing Values"
   ]
  },
  {
   "cell_type": "code",
   "execution_count": 436,
   "metadata": {},
   "outputs": [
    {
     "data": {
      "text/markdown": [
       "Missing Data: 0"
      ],
      "text/plain": [
       "<IPython.core.display.Markdown object>"
      ]
     },
     "metadata": {},
     "output_type": "display_data"
    }
   ],
   "source": [
    "missing_values = df.isnull().sum(axis=0)\n",
    "nan_cols = missing_values[missing_values > 0]\n",
    "display(Markdown(f\"Missing Data: {len(nan_cols)}\"))"
   ]
  },
  {
   "attachments": {},
   "cell_type": "markdown",
   "metadata": {},
   "source": [
    "The dataset contains no missing data."
   ]
  },
  {
   "attachments": {},
   "cell_type": "markdown",
   "metadata": {},
   "source": [
    "### Feature Information"
   ]
  },
  {
   "cell_type": "code",
   "execution_count": 437,
   "metadata": {},
   "outputs": [
    {
     "name": "stdout",
     "output_type": "stream",
     "text": [
      "<class 'pandas.core.frame.DataFrame'>\n",
      "RangeIndex: 1000 entries, 0 to 999\n",
      "Data columns (total 12 columns):\n",
      " #   Column                Non-Null Count  Dtype  \n",
      "---  ------                --------------  -----  \n",
      " 0   fixed acidity         1000 non-null   float64\n",
      " 1   volatile acidity      1000 non-null   float64\n",
      " 2   citric acid           1000 non-null   float64\n",
      " 3   residual sugar        1000 non-null   float64\n",
      " 4   chlorides             1000 non-null   float64\n",
      " 5   free sulfur dioxide   1000 non-null   float64\n",
      " 6   total sulfur dioxide  1000 non-null   float64\n",
      " 7   density               1000 non-null   float64\n",
      " 8   pH                    1000 non-null   float64\n",
      " 9   sulphates             1000 non-null   float64\n",
      " 10  alcohol               1000 non-null   float64\n",
      " 11  quality               1000 non-null   int64  \n",
      "dtypes: float64(11), int64(1)\n",
      "memory usage: 93.9 KB\n"
     ]
    }
   ],
   "source": [
    "df.info()"
   ]
  },
  {
   "attachments": {},
   "cell_type": "markdown",
   "metadata": {},
   "source": [
    "Based on the information above, all features are of numeric type"
   ]
  },
  {
   "attachments": {},
   "cell_type": "markdown",
   "metadata": {},
   "source": [
    "### Statistical Summary"
   ]
  },
  {
   "cell_type": "code",
   "execution_count": 438,
   "metadata": {},
   "outputs": [
    {
     "data": {
      "text/html": [
       "<div>\n",
       "<style scoped>\n",
       "    .dataframe tbody tr th:only-of-type {\n",
       "        vertical-align: middle;\n",
       "    }\n",
       "\n",
       "    .dataframe tbody tr th {\n",
       "        vertical-align: top;\n",
       "    }\n",
       "\n",
       "    .dataframe thead th {\n",
       "        text-align: right;\n",
       "    }\n",
       "</style>\n",
       "<table border=\"1\" class=\"dataframe\">\n",
       "  <thead>\n",
       "    <tr style=\"text-align: right;\">\n",
       "      <th></th>\n",
       "      <th>fixed acidity</th>\n",
       "      <th>volatile acidity</th>\n",
       "      <th>citric acid</th>\n",
       "      <th>residual sugar</th>\n",
       "      <th>chlorides</th>\n",
       "      <th>free sulfur dioxide</th>\n",
       "      <th>total sulfur dioxide</th>\n",
       "      <th>density</th>\n",
       "      <th>pH</th>\n",
       "      <th>sulphates</th>\n",
       "      <th>alcohol</th>\n",
       "      <th>quality</th>\n",
       "    </tr>\n",
       "  </thead>\n",
       "  <tbody>\n",
       "    <tr>\n",
       "      <th>count</th>\n",
       "      <td>1000.000000</td>\n",
       "      <td>1000.000000</td>\n",
       "      <td>1000.000000</td>\n",
       "      <td>1000.000000</td>\n",
       "      <td>1000.000000</td>\n",
       "      <td>1000.000000</td>\n",
       "      <td>1000.000000</td>\n",
       "      <td>1000.000000</td>\n",
       "      <td>1000.000000</td>\n",
       "      <td>1000.000000</td>\n",
       "      <td>1000.000000</td>\n",
       "      <td>1000.000000</td>\n",
       "    </tr>\n",
       "    <tr>\n",
       "      <th>mean</th>\n",
       "      <td>7.152530</td>\n",
       "      <td>0.520839</td>\n",
       "      <td>0.270517</td>\n",
       "      <td>2.567104</td>\n",
       "      <td>0.081195</td>\n",
       "      <td>14.907679</td>\n",
       "      <td>40.290150</td>\n",
       "      <td>0.995925</td>\n",
       "      <td>3.303610</td>\n",
       "      <td>0.598390</td>\n",
       "      <td>10.592280</td>\n",
       "      <td>7.958000</td>\n",
       "    </tr>\n",
       "    <tr>\n",
       "      <th>std</th>\n",
       "      <td>1.201598</td>\n",
       "      <td>0.095848</td>\n",
       "      <td>0.049098</td>\n",
       "      <td>0.987915</td>\n",
       "      <td>0.020111</td>\n",
       "      <td>4.888100</td>\n",
       "      <td>9.965767</td>\n",
       "      <td>0.002020</td>\n",
       "      <td>0.104875</td>\n",
       "      <td>0.100819</td>\n",
       "      <td>1.510706</td>\n",
       "      <td>0.902802</td>\n",
       "    </tr>\n",
       "    <tr>\n",
       "      <th>min</th>\n",
       "      <td>3.320000</td>\n",
       "      <td>0.139900</td>\n",
       "      <td>0.116700</td>\n",
       "      <td>0.032555</td>\n",
       "      <td>0.015122</td>\n",
       "      <td>0.194679</td>\n",
       "      <td>3.150000</td>\n",
       "      <td>0.988800</td>\n",
       "      <td>2.970000</td>\n",
       "      <td>0.290000</td>\n",
       "      <td>6.030000</td>\n",
       "      <td>5.000000</td>\n",
       "    </tr>\n",
       "    <tr>\n",
       "      <th>25%</th>\n",
       "      <td>6.377500</td>\n",
       "      <td>0.456100</td>\n",
       "      <td>0.237800</td>\n",
       "      <td>1.896330</td>\n",
       "      <td>0.066574</td>\n",
       "      <td>11.426717</td>\n",
       "      <td>33.785000</td>\n",
       "      <td>0.994600</td>\n",
       "      <td>3.230000</td>\n",
       "      <td>0.530000</td>\n",
       "      <td>9.560000</td>\n",
       "      <td>7.000000</td>\n",
       "    </tr>\n",
       "    <tr>\n",
       "      <th>50%</th>\n",
       "      <td>7.150000</td>\n",
       "      <td>0.524850</td>\n",
       "      <td>0.272200</td>\n",
       "      <td>2.519430</td>\n",
       "      <td>0.082167</td>\n",
       "      <td>14.860346</td>\n",
       "      <td>40.190000</td>\n",
       "      <td>0.996000</td>\n",
       "      <td>3.300000</td>\n",
       "      <td>0.595000</td>\n",
       "      <td>10.610000</td>\n",
       "      <td>8.000000</td>\n",
       "    </tr>\n",
       "    <tr>\n",
       "      <th>75%</th>\n",
       "      <td>8.000000</td>\n",
       "      <td>0.585375</td>\n",
       "      <td>0.302325</td>\n",
       "      <td>3.220873</td>\n",
       "      <td>0.095312</td>\n",
       "      <td>18.313098</td>\n",
       "      <td>47.022500</td>\n",
       "      <td>0.997200</td>\n",
       "      <td>3.370000</td>\n",
       "      <td>0.670000</td>\n",
       "      <td>11.622500</td>\n",
       "      <td>9.000000</td>\n",
       "    </tr>\n",
       "    <tr>\n",
       "      <th>max</th>\n",
       "      <td>11.490000</td>\n",
       "      <td>0.805100</td>\n",
       "      <td>0.409600</td>\n",
       "      <td>5.550755</td>\n",
       "      <td>0.140758</td>\n",
       "      <td>27.462525</td>\n",
       "      <td>69.960000</td>\n",
       "      <td>1.002600</td>\n",
       "      <td>3.710000</td>\n",
       "      <td>0.960000</td>\n",
       "      <td>15.020000</td>\n",
       "      <td>10.000000</td>\n",
       "    </tr>\n",
       "  </tbody>\n",
       "</table>\n",
       "</div>"
      ],
      "text/plain": [
       "       fixed acidity  volatile acidity  citric acid  residual sugar  \\\n",
       "count    1000.000000       1000.000000  1000.000000     1000.000000   \n",
       "mean        7.152530          0.520839     0.270517        2.567104   \n",
       "std         1.201598          0.095848     0.049098        0.987915   \n",
       "min         3.320000          0.139900     0.116700        0.032555   \n",
       "25%         6.377500          0.456100     0.237800        1.896330   \n",
       "50%         7.150000          0.524850     0.272200        2.519430   \n",
       "75%         8.000000          0.585375     0.302325        3.220873   \n",
       "max        11.490000          0.805100     0.409600        5.550755   \n",
       "\n",
       "         chlorides  free sulfur dioxide  total sulfur dioxide      density  \\\n",
       "count  1000.000000          1000.000000           1000.000000  1000.000000   \n",
       "mean      0.081195            14.907679             40.290150     0.995925   \n",
       "std       0.020111             4.888100              9.965767     0.002020   \n",
       "min       0.015122             0.194679              3.150000     0.988800   \n",
       "25%       0.066574            11.426717             33.785000     0.994600   \n",
       "50%       0.082167            14.860346             40.190000     0.996000   \n",
       "75%       0.095312            18.313098             47.022500     0.997200   \n",
       "max       0.140758            27.462525             69.960000     1.002600   \n",
       "\n",
       "                pH    sulphates      alcohol      quality  \n",
       "count  1000.000000  1000.000000  1000.000000  1000.000000  \n",
       "mean      3.303610     0.598390    10.592280     7.958000  \n",
       "std       0.104875     0.100819     1.510706     0.902802  \n",
       "min       2.970000     0.290000     6.030000     5.000000  \n",
       "25%       3.230000     0.530000     9.560000     7.000000  \n",
       "50%       3.300000     0.595000    10.610000     8.000000  \n",
       "75%       3.370000     0.670000    11.622500     9.000000  \n",
       "max       3.710000     0.960000    15.020000    10.000000  "
      ]
     },
     "execution_count": 438,
     "metadata": {},
     "output_type": "execute_result"
    }
   ],
   "source": [
    "df.describe()"
   ]
  },
  {
   "attachments": {},
   "cell_type": "markdown",
   "metadata": {},
   "source": [
    "### Mode"
   ]
  },
  {
   "cell_type": "code",
   "execution_count": 439,
   "metadata": {},
   "outputs": [],
   "source": [
    "def show_feature_modes(df):\n",
    "    for col in df.columns:\n",
    "        if df[col].nunique() == df[col].count():\n",
    "            display(Markdown(f\"{col}: Contains all unique values\"))\n",
    "        else:\n",
    "            modes = df[col].mode().to_list()\n",
    "            mode_str = \", \".join(str(mode) for mode in modes)\n",
    "            display(Markdown(f\"{col}: {mode_str}\"))"
   ]
  },
  {
   "cell_type": "code",
   "execution_count": 440,
   "metadata": {},
   "outputs": [
    {
     "data": {
      "text/markdown": [
       "fixed acidity: 6.54"
      ],
      "text/plain": [
       "<IPython.core.display.Markdown object>"
      ]
     },
     "metadata": {},
     "output_type": "display_data"
    },
    {
     "data": {
      "text/markdown": [
       "volatile acidity: 0.5546"
      ],
      "text/plain": [
       "<IPython.core.display.Markdown object>"
      ]
     },
     "metadata": {},
     "output_type": "display_data"
    },
    {
     "data": {
      "text/markdown": [
       "citric acid: 0.3019"
      ],
      "text/plain": [
       "<IPython.core.display.Markdown object>"
      ]
     },
     "metadata": {},
     "output_type": "display_data"
    },
    {
     "data": {
      "text/markdown": [
       "residual sugar: Contains all unique values"
      ],
      "text/plain": [
       "<IPython.core.display.Markdown object>"
      ]
     },
     "metadata": {},
     "output_type": "display_data"
    },
    {
     "data": {
      "text/markdown": [
       "chlorides: Contains all unique values"
      ],
      "text/plain": [
       "<IPython.core.display.Markdown object>"
      ]
     },
     "metadata": {},
     "output_type": "display_data"
    },
    {
     "data": {
      "text/markdown": [
       "free sulfur dioxide: Contains all unique values"
      ],
      "text/plain": [
       "<IPython.core.display.Markdown object>"
      ]
     },
     "metadata": {},
     "output_type": "display_data"
    },
    {
     "data": {
      "text/markdown": [
       "total sulfur dioxide: 35.2, 37.25, 39.64, 40.61, 41.05, 41.59, 44.51"
      ],
      "text/plain": [
       "<IPython.core.display.Markdown object>"
      ]
     },
     "metadata": {},
     "output_type": "display_data"
    },
    {
     "data": {
      "text/markdown": [
       "density: 0.9959, 0.9961, 0.9965, 0.997"
      ],
      "text/plain": [
       "<IPython.core.display.Markdown object>"
      ]
     },
     "metadata": {},
     "output_type": "display_data"
    },
    {
     "data": {
      "text/markdown": [
       "pH: 3.34"
      ],
      "text/plain": [
       "<IPython.core.display.Markdown object>"
      ]
     },
     "metadata": {},
     "output_type": "display_data"
    },
    {
     "data": {
      "text/markdown": [
       "sulphates: 0.59"
      ],
      "text/plain": [
       "<IPython.core.display.Markdown object>"
      ]
     },
     "metadata": {},
     "output_type": "display_data"
    },
    {
     "data": {
      "text/markdown": [
       "alcohol: 9.86, 10.31"
      ],
      "text/plain": [
       "<IPython.core.display.Markdown object>"
      ]
     },
     "metadata": {},
     "output_type": "display_data"
    },
    {
     "data": {
      "text/markdown": [
       "quality: 8"
      ],
      "text/plain": [
       "<IPython.core.display.Markdown object>"
      ]
     },
     "metadata": {},
     "output_type": "display_data"
    }
   ],
   "source": [
    "show_feature_modes(df)"
   ]
  },
  {
   "attachments": {},
   "cell_type": "markdown",
   "metadata": {},
   "source": [
    "### Unique Values"
   ]
  },
  {
   "cell_type": "code",
   "execution_count": 441,
   "metadata": {},
   "outputs": [
    {
     "data": {
      "text/plain": [
       "fixed acidity            417\n",
       "volatile acidity         879\n",
       "citric acid              769\n",
       "residual sugar          1000\n",
       "chlorides               1000\n",
       "free sulfur dioxide     1000\n",
       "total sulfur dioxide     881\n",
       "density                  107\n",
       "pH                        61\n",
       "sulphates                 60\n",
       "alcohol                  490\n",
       "quality                    6\n",
       "dtype: int64"
      ]
     },
     "execution_count": 441,
     "metadata": {},
     "output_type": "execute_result"
    }
   ],
   "source": [
    "df.nunique()"
   ]
  },
  {
   "attachments": {},
   "cell_type": "markdown",
   "metadata": {},
   "source": [
    "From the output above, we can see that most of the features on the data contain a high number of unique values. The reason for this could be that the features are all of numerical type. On the other side, the target variable `quality` is a categorical column of numeric type, containing six different levels of quality."
   ]
  },
  {
   "attachments": {},
   "cell_type": "markdown",
   "metadata": {},
   "source": [
    "### Skewness"
   ]
  },
  {
   "cell_type": "code",
   "execution_count": 442,
   "metadata": {},
   "outputs": [
    {
     "data": {
      "text/plain": [
       "fixed acidity          -0.028879\n",
       "volatile acidity       -0.197699\n",
       "citric acid            -0.045576\n",
       "residual sugar          0.132638\n",
       "chlorides              -0.051319\n",
       "free sulfur dioxide     0.007130\n",
       "total sulfur dioxide   -0.024060\n",
       "density                -0.076883\n",
       "pH                      0.147673\n",
       "sulphates               0.149199\n",
       "alcohol                -0.018991\n",
       "quality                -0.089054\n",
       "dtype: float64"
      ]
     },
     "execution_count": 442,
     "metadata": {},
     "output_type": "execute_result"
    }
   ],
   "source": [
    "df.skew()"
   ]
  },
  {
   "attachments": {},
   "cell_type": "markdown",
   "metadata": {},
   "source": [
    "Skewness is a statistical measure that indicates the symmetry of the distribution of a variable. A skewness value of 0 indicates a perfectly symmetrical distribution, while a positive or negative value indicates that the distribution is skewed to the right or left, respectively.\n",
    "\n",
    "In the provided output, the skewness values for the columns implies the following:\n",
    "\n",
    "| Columns               | Skewness| Interpretation                    |\n",
    "|-----------------------|---------|-----------------------------------|\n",
    "| `fixed acidity`       |-0.028879| Almost symmetrical distribution   |\n",
    "| `volatile acidity`    |-0.197699| Moderately skewed to the left     |\n",
    "| `citric acid`         |-0.045576| Almost symmetrical distribution   |\n",
    "| `residual sugar`      |0.132638 | Moderately skewed to the right    |\n",
    "| `chlorides`           |-0.051319| Almost symmetrical distribution   |\n",
    "| `free sulfur dioxide` |0.007130 | Almost symmetrical distribution   |\n",
    "| `total sulfur dioxide`|-0.024060| Almost symmetrical distribution   |\n",
    "| `density`             |-0.076883| Almost symmetrical distribution   |\n",
    "| `pH`                  |0.147673 | Moderately skewed to the right    |\n",
    "| `sulphates`           |0.149199 | Moderately skewed to the right    |\n",
    "| `alcohol`             |-0.018991| Almost symmetrical distribution   |\n",
    "| `quality`             |-0.089054| Almost symmetrical distribution   |"
   ]
  },
  {
   "attachments": {},
   "cell_type": "markdown",
   "metadata": {},
   "source": [
    "### Kurtosis"
   ]
  },
  {
   "cell_type": "code",
   "execution_count": 443,
   "metadata": {},
   "outputs": [
    {
     "data": {
      "text/plain": [
       "fixed acidity          -0.019292\n",
       "volatile acidity        0.161853\n",
       "citric acid            -0.104679\n",
       "residual sugar         -0.042980\n",
       "chlorides              -0.246508\n",
       "free sulfur dioxide    -0.364964\n",
       "total sulfur dioxide    0.063950\n",
       "density                 0.016366\n",
       "pH                      0.080910\n",
       "sulphates               0.064819\n",
       "alcohol                -0.131732\n",
       "quality                 0.108291\n",
       "dtype: float64"
      ]
     },
     "execution_count": 443,
     "metadata": {},
     "output_type": "execute_result"
    }
   ],
   "source": [
    "df.kurtosis()"
   ]
  },
  {
   "attachments": {},
   "cell_type": "markdown",
   "metadata": {},
   "source": [
    "Kurtosis is a statistical measure that describes the shape of the distribution of a variable, specifically the degree of peakedness and thickness of the tails compared to a normal distribution. A kurtosis value of 0 indicates a normal distribution, while a positive value indicates a more peaked and thicker-tailed distribution (leptokurtic), and a negative value indicates a flatter and thinner-tailed distribution (platykurtic).\n",
    "\n",
    "In the provided output, the kurtosis values for the columns are as follows:\n",
    "\n",
    "| Columns               | Kurtosis| Interpretation                    |\n",
    "|-----------------------|---------|-----------------------------------|\n",
    "| `fixed acidity`       |-0.019292| Slightly platykurtic              |\n",
    "| `volatile acidity`    | 0.161853| Slightly leptokurtic              |\n",
    "| `citric acid`         |-0.104679| Slightly platykurtic              |\n",
    "| `residual sugar`      |-0.042980| Slightly platykurtic              |\n",
    "| `chlorides`           |-0.246508| Moderately platykurtic            |\n",
    "| `free sulfur dioxide` |-0.364964| Moderately platykurtic            |\n",
    "| `total sulfur dioxide`| 0.063950| Slightly leptokurtic              |\n",
    "| `density`             |0.016366 | Slightly leptokurtic              |\n",
    "| `pH`                  |0.080910 | Slightly leptokurtic              |\n",
    "| `sulphates`           |0.064819 | Slightly leptokurtic              |\n",
    "| `alcohol`             |-0.131732| Slightly platykurtic              |\n",
    "| `quality`             |0.108291 | Slightly leptokurtic              |"
   ]
  },
  {
   "attachments": {},
   "cell_type": "markdown",
   "metadata": {},
   "source": [
    "### Quartiles and Interquartile Range"
   ]
  },
  {
   "cell_type": "code",
   "execution_count": 444,
   "metadata": {},
   "outputs": [],
   "source": [
    "# Examine interquartile range\n",
    "def iqr(data, col):\n",
    "    # Determine IQR for column\n",
    "    col_values = data[col].values\n",
    "    q25, q75 = np.percentile(col_values, 25), np.percentile(col_values, 75)\n",
    "    iqr = q75 - q25\n",
    "    cut_off = iqr * 1.5\n",
    "    lower, upper = q25 - cut_off, q75 + cut_off\n",
    "    return (\"| `{}` | {} | {} | {} | {} | {} | {} |\\n\".format(col, q25, q75, iqr, cut_off, lower, upper))"
   ]
  },
  {
   "cell_type": "code",
   "execution_count": 445,
   "metadata": {},
   "outputs": [
    {
     "data": {
      "text/markdown": [
       "| Columns | Q25 | Q75 | IQR | Cut Off | Lower Bound | Upper Bound |\n",
       "| ------ | --- | --- | --- | ------- | ----------- | ----------- |\n",
       "| `fixed acidity` | 6.3774999999999995 | 8.0 | 1.6225000000000005 | 2.4337500000000007 | 3.9437499999999988 | 10.43375 |\n",
       "| `volatile acidity` | 0.4561 | 0.585375 | 0.12927499999999997 | 0.19391249999999996 | 0.2621875 | 0.7792874999999999 |\n",
       "| `citric acid` | 0.2378 | 0.302325 | 0.064525 | 0.0967875 | 0.1410125 | 0.3991125 |\n",
       "| `residual sugar` | 1.896329943488683 | 3.220873482829786 | 1.3245435393411031 | 1.9868153090116547 | -0.09048536552297182 | 5.2076887918414405 |\n",
       "| `chlorides` | 0.06657363190977357 | 0.09531150148556258 | 0.028737869575789013 | 0.04310680436368352 | 0.02346682754609005 | 0.1384183058492461 |\n",
       "| `free sulfur dioxide` | 11.426716949457617 | 18.313097915395005 | 6.886380965937388 | 10.329571448906082 | 1.0971455005515356 | 28.642669364301085 |\n",
       "| `total sulfur dioxide` | 33.785 | 47.0225 | 13.237500000000004 | 19.856250000000006 | 13.92874999999999 | 66.87875000000001 |\n",
       "| `density` | 0.9946 | 0.9972 | 0.0025999999999999357 | 0.0038999999999999035 | 0.9907000000000001 | 1.0010999999999999 |\n",
       "| `pH` | 3.23 | 3.37 | 0.14000000000000012 | 0.2100000000000002 | 3.0199999999999996 | 3.58 |\n",
       "| `sulphates` | 0.53 | 0.67 | 0.14 | 0.21000000000000002 | 0.32 | 0.8800000000000001 |\n",
       "| `alcohol` | 9.56 | 11.622499999999999 | 2.0624999999999982 | 3.0937499999999973 | 6.466250000000003 | 14.716249999999995 |\n",
       "| `quality` | 7.0 | 9.0 | 2.0 | 3.0 | 4.0 | 12.0 |\n"
      ],
      "text/plain": [
       "<IPython.core.display.Markdown object>"
      ]
     },
     "metadata": {},
     "output_type": "display_data"
    }
   ],
   "source": [
    "iqr_table = \"| Columns | Q25 | Q75 | IQR | Cut Off | Lower Bound | Upper Bound |\\n\"\n",
    "iqr_table += \"| ------ | --- | --- | --- | ------- | ----------- | ----------- |\\n\"\n",
    "for col in df.columns:\n",
    "    iqr_table += iqr(df, col)\n",
    "\n",
    "display(Markdown(iqr_table))"
   ]
  },
  {
   "attachments": {},
   "cell_type": "markdown",
   "metadata": {},
   "source": [
    "Quartiles divides a dataset into four equal parts. Q1 or the first quartile is the value that separates the lowest 25% of the data. Q2 or the second quartile is the value that separates the data into two equal parts. Q3 or the third quartile is the value that separates the highest 25% of the data.\n",
    "\n",
    "The interquartile range (IQR) is a measure of the spread of a dataset with quartiles. \n",
    "The formula for IQR:\n",
    "\n",
    "$$ IQR = Q_{3} - Q_{1} $$\n",
    "\n",
    "In the provided output, the IQR values for the columns are as follows:\n",
    "\n",
    "| Columns               | IQR     | Interpretation                    |\n",
    "|-----------------------|---------|-----------------------------------|\n",
    "| `fixed acidity`       | 1.6225  | Moderately variable               |\n",
    "| `volatile acidity`    | 0.1293  | Relatively less variable          |\n",
    "| `citric acid`         | 0.0645  | Relatively less variable          |\n",
    "| `residual sugar`      | 1.3245  | Moderately variable               |\n",
    "| `chlorides`           | 0.0287  | Relatively less variable          |\n",
    "| `free sulfur dioxide` | 6.8864  | Moderately variable               |\n",
    "| `total sulfur dioxide`| 13.2375 | Highly variable                   |\n",
    "| `density`             | 0.0026  | Relatively less variable          |\n",
    "| `pH`                  | 0.14    | Moderately variable               |\n",
    "| `sulphates`           | 0.14    | Moderately variable               |\n",
    "| `alcohol`             | 2.0625  | Moderately variable               |\n",
    "| `quality`             | 2.0     | Moderately variable               |"
   ]
  },
  {
   "attachments": {},
   "cell_type": "markdown",
   "metadata": {},
   "source": [
    "## Univariate Analysis\n",
    "\n",
    "In this section, we will analyze each feature of the dataset in isolation. We will also conduct normality testing to check whether a feature is normally distributed."
   ]
  },
  {
   "attachments": {},
   "cell_type": "markdown",
   "metadata": {},
   "source": [
    "### Brief Introduction  \n",
    "### Histograms\n",
    "Histograms shows the frequency distribution of the data in a column. The x-axis represents the values of the column, while the y-axis shows the frequency of those values.  \n",
    "\n",
    "### Boxplots\n",
    "Boxplots displays the distribution of the data in a compact manner. It shows the quartiles of the distribution, with the horizontal line in the box representing the median, the top and bottom of the box representing the first and third quartiles, and the whiskers representing the range of the data.\n",
    "\n",
    "### Normal test\n",
    "A normal test is a statistical method used to determine whether a set of data is normally distributed, which means that it follows a normal or Gaussian distribution. In this section, we will use D’Agostino-Pearson test provided by the scipy library. the D’Agostino-Pearson test is based on the following null hypothesis: the data comes from a normal distribution. The test statistic is a combination of the measures of skewness and kurtosis, and the p-value is computed based on the null distribution of this test statistic under the assumption that the data are normally distributed."
   ]
  },
  {
   "cell_type": "code",
   "execution_count": 446,
   "metadata": {},
   "outputs": [],
   "source": [
    "def hist_box_plot(data):\n",
    "    # Create a figure with two subplots\n",
    "    fig, ax = plt.subplots(ncols=2, figsize=(12, 4))\n",
    "\n",
    "    # Create a histogram subplot\n",
    "    sns.histplot(data=data, ax=ax[0], kde=True)\n",
    "    ax[0].set_xlabel('Values')\n",
    "    ax[0].set_ylabel('Frequency')\n",
    "    ax[0].set_title('Histogram')\n",
    "\n",
    "    # Create a boxplot subplot\n",
    "    sns.boxplot(data=data, ax=ax[1])\n",
    "    ax[1].set_xlabel('Values')\n",
    "    ax[1].set_ylabel('Distribution')\n",
    "    ax[1].set_title('Boxplot')\n",
    "\n",
    "    # Display the plot\n",
    "    plt.show()"
   ]
  },
  {
   "cell_type": "code",
   "execution_count": 447,
   "metadata": {},
   "outputs": [],
   "source": [
    "def describe_feature(data, feature):\n",
    "    hist_box_plot(data[feature])\n",
    "\n",
    "    # Calculate statistics\n",
    "    median = data[feature].median()\n",
    "    q1 = data[feature].quantile(0.25)\n",
    "    q3 = data[feature].quantile(0.75)\n",
    "    iqr = q3 - q1\n",
    "    lower = q1 - 1.5 * iqr\n",
    "    upper = q3 + 1.5 * iqr\n",
    "\n",
    "    # Create description\n",
    "    if (feature != 'pH'):\n",
    "        description = f\"### {feature.capitalize()}\\n\"\n",
    "    else:\n",
    "        description = \"### pH\\n\"\n",
    "    description += f\"The distribution of `{feature}` is:\\n\"\n",
    "\n",
    "    # Shape\n",
    "    if data[feature].skew() < -1 or data[feature].skew() > 1:\n",
    "        description += \"- Highly skewed\\n\"\n",
    "    elif data[feature].skew() < -0.5 or data[feature].skew() > 0.5:\n",
    "        description += \"- Moderately skewed\\n\"\n",
    "    else:\n",
    "        description += \"- Approximately symmetric\\n\"\n",
    "\n",
    "    # Central tendency\n",
    "    description += f\"- The median is {median:.2f}\\n\"\n",
    "\n",
    "    # Spread\n",
    "    if data[feature].kurtosis() > 3:\n",
    "        description += \"- Heavy-tailed\\n\"\n",
    "    elif data[feature].kurtosis() < 3:\n",
    "        description += \"- Light-tailed\\n\"\n",
    "    else:\n",
    "        description += \"- Mesokurtic\\n\"\n",
    "\n",
    "    # Boxplot\n",
    "    description += f\"\\nThe boxplot of `{feature}` shows:\\n\"\n",
    "    description += f\"- The median is {median:.2f}\\n\"\n",
    "    description += f\"- The first quartile is {q1:.2f}\\n\"\n",
    "    description += f\"- The third quartile is {q3:.2f}\\n\"\n",
    "    description += f\"- The interquartile range is {iqr:.2f}\\n\"\n",
    "    description += f\"- Values below {lower:.2f} or above {upper:.2f} are considered outliers\\n\"\n",
    "\n",
    "    # Display description\n",
    "    display(Markdown(description))\n"
   ]
  },
  {
   "cell_type": "code",
   "execution_count": 448,
   "metadata": {},
   "outputs": [],
   "source": [
    "def normality_test(df, col, alpha):\n",
    "    statistic_value, p_value = scipy.stats.normaltest(df[col])\n",
    "    message = \"After conducting the normality test, we get:\\n\\n\"\n",
    "    message += f\"Statistic Value: {statistic_value}\\n\\n\"\n",
    "    message += f\"P-Value: {p_value}\\n\\n\"\n",
    "    if(p_value < alpha):\n",
    "        message += f\"With {(1.0 - alpha) * 100}% confidence, we can conclude that the {col} feature is not normally distributed\"\n",
    "    else:\n",
    "        message += f\"With {(1.0 - alpha) * 100}% confidence, we can conclude that the {col} feature is normally distributed\"\n",
    "    display(Markdown(message))"
   ]
  },
  {
   "attachments": {},
   "cell_type": "markdown",
   "metadata": {},
   "source": [
    "#### `Fixed Acidity`"
   ]
  },
  {
   "cell_type": "code",
   "execution_count": 449,
   "metadata": {},
   "outputs": [
    {
     "data": {
      "image/png": "[encoded data removed]",
      "text/plain": [
       "<Figure size 864x288 with 2 Axes>"
      ]
     },
     "metadata": {
      "needs_background": "light"
     },
     "output_type": "display_data"
    },
    {
     "data": {
      "text/markdown": [
       "### Fixed acidity\n",
       "The distribution of `fixed acidity` is:\n",
       "- Approximately symmetric\n",
       "- The median is 7.15\n",
       "- Light-tailed\n",
       "\n",
       "The boxplot of `fixed acidity` shows:\n",
       "- The median is 7.15\n",
       "- The first quartile is 6.38\n",
       "- The third quartile is 8.00\n",
       "- The interquartile range is 1.62\n",
       "- Values below 3.94 or above 10.43 are considered outliers\n"
      ],
      "text/plain": [
       "<IPython.core.display.Markdown object>"
      ]
     },
     "metadata": {},
     "output_type": "display_data"
    }
   ],
   "source": [
    "describe_feature(df, 'fixed acidity')"
   ]
  },
  {
   "attachments": {},
   "cell_type": "markdown",
   "metadata": {},
   "source": [
    "The `fixed acidity` feature has a bell-shaped distribution resembling a normal distribution. It has a tendency to be centrally clustered around the value 7, spreading across ranges of 3 to 11.\n",
    "\n",
    "From the boxplot, we can see that this feature have most of the values ranging from 6 to 8, with 7 being the median. It also has minimal datapoints on the whiskers indicating that it does not have many outliers."
   ]
  },
  {
   "cell_type": "code",
   "execution_count": 450,
   "metadata": {},
   "outputs": [
    {
     "data": {
      "text/markdown": [
       "After conducting the normality test, we get:\n",
       "\n",
       "Statistic Value: 0.14329615661430725\n",
       "\n",
       "P-Value: 0.9308584274486692\n",
       "\n",
       "With 95.0% confidence, we can conclude that the fixed acidity feature is normally distributed"
      ],
      "text/plain": [
       "<IPython.core.display.Markdown object>"
      ]
     },
     "metadata": {},
     "output_type": "display_data"
    }
   ],
   "source": [
    "normality_test(df, 'fixed acidity', 0.05)"
   ]
  },
  {
   "attachments": {},
   "cell_type": "markdown",
   "metadata": {},
   "source": [
    "#### `Volatile Acidity`"
   ]
  },
  {
   "cell_type": "code",
   "execution_count": 451,
   "metadata": {},
   "outputs": [
    {
     "data": {
      "image/png": "[encoded data removed]",
      "text/plain": [
       "<Figure size 864x288 with 2 Axes>"
      ]
     },
     "metadata": {
      "needs_background": "light"
     },
     "output_type": "display_data"
    },
    {
     "data": {
      "text/markdown": [
       "### Volatile acidity\n",
       "The distribution of `volatile acidity` is:\n",
       "- Approximately symmetric\n",
       "- The median is 0.52\n",
       "- Light-tailed\n",
       "\n",
       "The boxplot of `volatile acidity` shows:\n",
       "- The median is 0.52\n",
       "- The first quartile is 0.46\n",
       "- The third quartile is 0.59\n",
       "- The interquartile range is 0.13\n",
       "- Values below 0.26 or above 0.78 are considered outliers\n"
      ],
      "text/plain": [
       "<IPython.core.display.Markdown object>"
      ]
     },
     "metadata": {},
     "output_type": "display_data"
    }
   ],
   "source": [
    "describe_feature(df, 'volatile acidity')"
   ]
  },
  {
   "attachments": {},
   "cell_type": "markdown",
   "metadata": {},
   "source": [
    "The `volatile acidity` feature has a bell-shaped distribution resembling a normal distribution. It has a tendency to be centrally clustered around the value 0.5, with values a little bit shifted to the right.\n",
    "\n",
    "From the boxplot, we can see that this feature have most of the values ranging from 0.45 to 0.6, with 0.5 being the median. It also has moderate amount of datapoints on the whiskers indicating outliers."
   ]
  },
  {
   "cell_type": "code",
   "execution_count": 452,
   "metadata": {},
   "outputs": [
    {
     "data": {
      "text/markdown": [
       "After conducting the normality test, we get:\n",
       "\n",
       "Statistic Value: 7.581251985533493\n",
       "\n",
       "P-Value: 0.022581461594113835\n",
       "\n",
       "With 95.0% confidence, we can conclude that the volatile acidity feature is not normally distributed"
      ],
      "text/plain": [
       "<IPython.core.display.Markdown object>"
      ]
     },
     "metadata": {},
     "output_type": "display_data"
    }
   ],
   "source": [
    "normality_test(df, 'volatile acidity', 0.05)"
   ]
  },
  {
   "attachments": {},
   "cell_type": "markdown",
   "metadata": {},
   "source": [
    "#### `Citric Acid`"
   ]
  },
  {
   "cell_type": "code",
   "execution_count": 453,
   "metadata": {},
   "outputs": [
    {
     "data": {
      "image/png": "[encoded data removed]",
      "text/plain": [
       "<Figure size 864x288 with 2 Axes>"
      ]
     },
     "metadata": {
      "needs_background": "light"
     },
     "output_type": "display_data"
    },
    {
     "data": {
      "text/markdown": [
       "### Citric acid\n",
       "The distribution of `citric acid` is:\n",
       "- Approximately symmetric\n",
       "- The median is 0.27\n",
       "- Light-tailed\n",
       "\n",
       "The boxplot of `citric acid` shows:\n",
       "- The median is 0.27\n",
       "- The first quartile is 0.24\n",
       "- The third quartile is 0.30\n",
       "- The interquartile range is 0.06\n",
       "- Values below 0.14 or above 0.40 are considered outliers\n"
      ],
      "text/plain": [
       "<IPython.core.display.Markdown object>"
      ]
     },
     "metadata": {},
     "output_type": "display_data"
    }
   ],
   "source": [
    "describe_feature(df, 'citric acid')"
   ]
  },
  {
   "attachments": {},
   "cell_type": "markdown",
   "metadata": {},
   "source": [
    "The `citric acid` feature has a bell-shaped distribution resembling a normal distribution. It has a tendency to be centrally clustered around the value 0.25, with values that has minimal spread.\n",
    "\n",
    "From the boxplot, we can see that this feature have most of the values ranging from 0.25 to 0.3, with 0.25 being the median. It also has moderate amount of datapoints on the whiskers indicating outliers."
   ]
  },
  {
   "cell_type": "code",
   "execution_count": 454,
   "metadata": {},
   "outputs": [
    {
     "data": {
      "text/markdown": [
       "After conducting the normality test, we get:\n",
       "\n",
       "Statistic Value: 0.7663607229418252\n",
       "\n",
       "P-Value: 0.6816899375976969\n",
       "\n",
       "With 95.0% confidence, we can conclude that the citric acid feature is normally distributed"
      ],
      "text/plain": [
       "<IPython.core.display.Markdown object>"
      ]
     },
     "metadata": {},
     "output_type": "display_data"
    }
   ],
   "source": [
    "normality_test(df, 'citric acid', 0.05)"
   ]
  },
  {
   "attachments": {},
   "cell_type": "markdown",
   "metadata": {},
   "source": [
    "#### `Residual Sugar`"
   ]
  },
  {
   "cell_type": "code",
   "execution_count": 455,
   "metadata": {},
   "outputs": [
    {
     "data": {
      "image/png": "[encoded data removed]",
      "text/plain": [
       "<Figure size 864x288 with 2 Axes>"
      ]
     },
     "metadata": {
      "needs_background": "light"
     },
     "output_type": "display_data"
    },
    {
     "data": {
      "text/markdown": [
       "### Residual sugar\n",
       "The distribution of `residual sugar` is:\n",
       "- Approximately symmetric\n",
       "- The median is 2.52\n",
       "- Light-tailed\n",
       "\n",
       "The boxplot of `residual sugar` shows:\n",
       "- The median is 2.52\n",
       "- The first quartile is 1.90\n",
       "- The third quartile is 3.22\n",
       "- The interquartile range is 1.32\n",
       "- Values below -0.09 or above 5.21 are considered outliers\n"
      ],
      "text/plain": [
       "<IPython.core.display.Markdown object>"
      ]
     },
     "metadata": {},
     "output_type": "display_data"
    }
   ],
   "source": [
    "describe_feature(df, 'residual sugar')"
   ]
  },
  {
   "attachments": {},
   "cell_type": "markdown",
   "metadata": {},
   "source": [
    "The `residual sugar` feature has a bell-shaped distribution resembling a normal distribution. It has a tendency to be centrally clustered around the value 2.5, with a little bit of skewness to the left.\n",
    "\n",
    "From the boxplot, we can see that this feature have most of the values ranging from 2 to 3, with 2.5 being the median. It also has minimal amount of datapoints on the whiskers indicating that most of the values lie between Q1 and Q3."
   ]
  },
  {
   "cell_type": "code",
   "execution_count": 456,
   "metadata": {},
   "outputs": [
    {
     "data": {
      "text/markdown": [
       "After conducting the normality test, we get:\n",
       "\n",
       "Statistic Value: 2.9862716504538622\n",
       "\n",
       "P-Value: 0.22466703321310558\n",
       "\n",
       "With 95.0% confidence, we can conclude that the residual sugar feature is normally distributed"
      ],
      "text/plain": [
       "<IPython.core.display.Markdown object>"
      ]
     },
     "metadata": {},
     "output_type": "display_data"
    }
   ],
   "source": [
    "normality_test(df, 'residual sugar', 0.05)"
   ]
  },
  {
   "attachments": {},
   "cell_type": "markdown",
   "metadata": {},
   "source": [
    "#### `Chlorides`"
   ]
  },
  {
   "cell_type": "code",
   "execution_count": 457,
   "metadata": {},
   "outputs": [
    {
     "data": {
      "image/png": "[encoded data removed]",
      "text/plain": [
       "<Figure size 864x288 with 2 Axes>"
      ]
     },
     "metadata": {
      "needs_background": "light"
     },
     "output_type": "display_data"
    },
    {
     "data": {
      "text/markdown": [
       "### Chlorides\n",
       "The distribution of `chlorides` is:\n",
       "- Approximately symmetric\n",
       "- The median is 0.08\n",
       "- Light-tailed\n",
       "\n",
       "The boxplot of `chlorides` shows:\n",
       "- The median is 0.08\n",
       "- The first quartile is 0.07\n",
       "- The third quartile is 0.10\n",
       "- The interquartile range is 0.03\n",
       "- Values below 0.02 or above 0.14 are considered outliers\n"
      ],
      "text/plain": [
       "<IPython.core.display.Markdown object>"
      ]
     },
     "metadata": {},
     "output_type": "display_data"
    }
   ],
   "source": [
    "describe_feature(df, 'chlorides')"
   ]
  },
  {
   "attachments": {},
   "cell_type": "markdown",
   "metadata": {},
   "source": [
    "The `chlorides` feature has a bell-shaped distribution resembling a normal distribution. It has a tendency to be centrally clustered around the value 0.08, with jagged frequencies having the most at around 0.09.\n",
    "\n",
    "From the boxplot, we can see that this feature has most of the values ranging from 0.06 to 0.09, with 0.08 being the median. It also has minimal amount of datapoints on the whiskers indicating it does not have many outliers."
   ]
  },
  {
   "cell_type": "code",
   "execution_count": 458,
   "metadata": {},
   "outputs": [
    {
     "data": {
      "text/markdown": [
       "After conducting the normality test, we get:\n",
       "\n",
       "Statistic Value: 3.538242355484952\n",
       "\n",
       "P-Value: 0.17048274704296862\n",
       "\n",
       "With 95.0% confidence, we can conclude that the chlorides feature is normally distributed"
      ],
      "text/plain": [
       "<IPython.core.display.Markdown object>"
      ]
     },
     "metadata": {},
     "output_type": "display_data"
    }
   ],
   "source": [
    "normality_test(df, 'chlorides', 0.05)"
   ]
  },
  {
   "attachments": {},
   "cell_type": "markdown",
   "metadata": {},
   "source": [
    "#### `Free Sulfur Dioxide`"
   ]
  },
  {
   "cell_type": "code",
   "execution_count": 459,
   "metadata": {},
   "outputs": [
    {
     "data": {
      "image/png": "[encoded data removed]",
      "text/plain": [
       "<Figure size 864x288 with 2 Axes>"
      ]
     },
     "metadata": {
      "needs_background": "light"
     },
     "output_type": "display_data"
    },
    {
     "data": {
      "text/markdown": [
       "### Free sulfur dioxide\n",
       "The distribution of `free sulfur dioxide` is:\n",
       "- Approximately symmetric\n",
       "- The median is 14.86\n",
       "- Light-tailed\n",
       "\n",
       "The boxplot of `free sulfur dioxide` shows:\n",
       "- The median is 14.86\n",
       "- The first quartile is 11.43\n",
       "- The third quartile is 18.31\n",
       "- The interquartile range is 6.89\n",
       "- Values below 1.10 or above 28.64 are considered outliers\n"
      ],
      "text/plain": [
       "<IPython.core.display.Markdown object>"
      ]
     },
     "metadata": {},
     "output_type": "display_data"
    }
   ],
   "source": [
    "describe_feature(df, 'free sulfur dioxide')"
   ]
  },
  {
   "attachments": {},
   "cell_type": "markdown",
   "metadata": {},
   "source": [
    "The `free sulfur dioxide` feature has a bell-shaped distribution resembling a normal distribution. It has a tendency to be centrally clustered around the value 15, having a wide spread of values around 0 to 25.\n",
    "\n",
    "From the boxplot, we can see that this feature has most of the values ranging from 12 to 18, with 15 being the median. It also has little to no amount of datapoints on the whiskers indicating outliers."
   ]
  },
  {
   "cell_type": "code",
   "execution_count": 460,
   "metadata": {},
   "outputs": [
    {
     "data": {
      "text/markdown": [
       "After conducting the normality test, we get:\n",
       "\n",
       "Statistic Value: 8.099074980855514\n",
       "\n",
       "P-Value: 0.01743043451827735\n",
       "\n",
       "With 95.0% confidence, we can conclude that the free sulfur dioxide feature is not normally distributed"
      ],
      "text/plain": [
       "<IPython.core.display.Markdown object>"
      ]
     },
     "metadata": {},
     "output_type": "display_data"
    }
   ],
   "source": [
    "normality_test(df, 'free sulfur dioxide', 0.05)"
   ]
  },
  {
   "attachments": {},
   "cell_type": "markdown",
   "metadata": {},
   "source": [
    "#### `Total Sulfur Dioxide`"
   ]
  },
  {
   "cell_type": "code",
   "execution_count": 461,
   "metadata": {},
   "outputs": [
    {
     "data": {
      "image/png": "[encoded data removed]",
      "text/plain": [
       "<Figure size 864x288 with 2 Axes>"
      ]
     },
     "metadata": {
      "needs_background": "light"
     },
     "output_type": "display_data"
    },
    {
     "data": {
      "text/markdown": [
       "### Total sulfur dioxide\n",
       "The distribution of `total sulfur dioxide` is:\n",
       "- Approximately symmetric\n",
       "- The median is 40.19\n",
       "- Light-tailed\n",
       "\n",
       "The boxplot of `total sulfur dioxide` shows:\n",
       "- The median is 40.19\n",
       "- The first quartile is 33.78\n",
       "- The third quartile is 47.02\n",
       "- The interquartile range is 13.24\n",
       "- Values below 13.93 or above 66.88 are considered outliers\n"
      ],
      "text/plain": [
       "<IPython.core.display.Markdown object>"
      ]
     },
     "metadata": {},
     "output_type": "display_data"
    }
   ],
   "source": [
    "describe_feature(df, 'total sulfur dioxide')"
   ]
  },
  {
   "attachments": {},
   "cell_type": "markdown",
   "metadata": {},
   "source": [
    "The `total sulfur dioxide` feature has a bell-shaped distribution resembling a normal distribution. It has a tendency to be centrally clustered around the value 40, with high frequency around the median.\n",
    "\n",
    "From the boxplot, we can see that this feature has most of the values ranging from 35 to 45, with 40 being the median. It also has moderate amount of datapoints on the whiskers indicating outliers."
   ]
  },
  {
   "cell_type": "code",
   "execution_count": 462,
   "metadata": {},
   "outputs": [
    {
     "data": {
      "text/markdown": [
       "After conducting the normality test, we get:\n",
       "\n",
       "Statistic Value: 0.3276640291639825\n",
       "\n",
       "P-Value: 0.8488846101395726\n",
       "\n",
       "With 95.0% confidence, we can conclude that the total sulfur dioxide feature is normally distributed"
      ],
      "text/plain": [
       "<IPython.core.display.Markdown object>"
      ]
     },
     "metadata": {},
     "output_type": "display_data"
    }
   ],
   "source": [
    "normality_test(df, 'total sulfur dioxide', 0.05)"
   ]
  },
  {
   "attachments": {},
   "cell_type": "markdown",
   "metadata": {},
   "source": [
    "#### `Density`"
   ]
  },
  {
   "cell_type": "code",
   "execution_count": 463,
   "metadata": {},
   "outputs": [
    {
     "data": {
      "image/png": "[encoded data removed]",
      "text/plain": [
       "<Figure size 864x288 with 2 Axes>"
      ]
     },
     "metadata": {
      "needs_background": "light"
     },
     "output_type": "display_data"
    },
    {
     "data": {
      "text/markdown": [
       "### Density\n",
       "The distribution of `density` is:\n",
       "- Approximately symmetric\n",
       "- The median is 1.00\n",
       "- Light-tailed\n",
       "\n",
       "The boxplot of `density` shows:\n",
       "- The median is 1.00\n",
       "- The first quartile is 0.99\n",
       "- The third quartile is 1.00\n",
       "- The interquartile range is 0.00\n",
       "- Values below 0.99 or above 1.00 are considered outliers\n"
      ],
      "text/plain": [
       "<IPython.core.display.Markdown object>"
      ]
     },
     "metadata": {},
     "output_type": "display_data"
    }
   ],
   "source": [
    "describe_feature(df, 'density')"
   ]
  },
  {
   "attachments": {},
   "cell_type": "markdown",
   "metadata": {},
   "source": [
    "The `density` feature has a bell-shaped distribution resembling a normal distribution. It has a tendency to be centrally clustered around the value 0.996, with minimal spread ranging around 0.990 to 1.002.\n",
    "\n",
    "From the boxplot, we can see that this feature has most of the values ranging from 0.995 to 0.997, with 0.996 being the median. It also has a moderately high amount of datapoints on the whiskers indicating outliers."
   ]
  },
  {
   "cell_type": "code",
   "execution_count": 464,
   "metadata": {},
   "outputs": [
    {
     "data": {
      "text/markdown": [
       "After conducting the normality test, we get:\n",
       "\n",
       "Statistic Value: 1.026581544320803\n",
       "\n",
       "P-Value: 0.5985227325531981\n",
       "\n",
       "With 95.0% confidence, we can conclude that the density feature is normally distributed"
      ],
      "text/plain": [
       "<IPython.core.display.Markdown object>"
      ]
     },
     "metadata": {},
     "output_type": "display_data"
    }
   ],
   "source": [
    "normality_test(df, 'density', 0.05)"
   ]
  },
  {
   "attachments": {},
   "cell_type": "markdown",
   "metadata": {},
   "source": [
    "#### `pH`"
   ]
  },
  {
   "cell_type": "code",
   "execution_count": 465,
   "metadata": {},
   "outputs": [
    {
     "data": {
      "image/png": "[encoded data removed]",
      "text/plain": [
       "<Figure size 864x288 with 2 Axes>"
      ]
     },
     "metadata": {
      "needs_background": "light"
     },
     "output_type": "display_data"
    },
    {
     "data": {
      "text/markdown": [
       "### pH\n",
       "The distribution of `pH` is:\n",
       "- Approximately symmetric\n",
       "- The median is 3.30\n",
       "- Light-tailed\n",
       "\n",
       "The boxplot of `pH` shows:\n",
       "- The median is 3.30\n",
       "- The first quartile is 3.23\n",
       "- The third quartile is 3.37\n",
       "- The interquartile range is 0.14\n",
       "- Values below 3.02 or above 3.58 are considered outliers\n"
      ],
      "text/plain": [
       "<IPython.core.display.Markdown object>"
      ]
     },
     "metadata": {},
     "output_type": "display_data"
    }
   ],
   "source": [
    "describe_feature(df, 'pH')"
   ]
  },
  {
   "attachments": {},
   "cell_type": "markdown",
   "metadata": {},
   "source": [
    "The `pH` feature has a bell-shaped distribution resembling a normal distribution. It has a tendency to be centrally clustered around the value 3.3, with values a little bit skewed to the left.\n",
    "\n",
    "From the boxplot, we can see that this feature has most of the values ranging from 3.23 to 3.38, with 3.3 being the median. It also has moderate amount of datapoints on the whiskers indicating outliers."
   ]
  },
  {
   "cell_type": "code",
   "execution_count": 466,
   "metadata": {},
   "outputs": [
    {
     "data": {
      "text/markdown": [
       "After conducting the normality test, we get:\n",
       "\n",
       "Statistic Value: 3.9786546459928545\n",
       "\n",
       "P-Value: 0.13678740824860436\n",
       "\n",
       "With 95.0% confidence, we can conclude that the pH feature is normally distributed"
      ],
      "text/plain": [
       "<IPython.core.display.Markdown object>"
      ]
     },
     "metadata": {},
     "output_type": "display_data"
    }
   ],
   "source": [
    "normality_test(df, 'pH', 0.05)"
   ]
  },
  {
   "attachments": {},
   "cell_type": "markdown",
   "metadata": {},
   "source": [
    "#### `Sulphates`"
   ]
  },
  {
   "cell_type": "code",
   "execution_count": 467,
   "metadata": {},
   "outputs": [
    {
     "data": {
      "image/png": "[encoded data removed]",
      "text/plain": [
       "<Figure size 864x288 with 2 Axes>"
      ]
     },
     "metadata": {
      "needs_background": "light"
     },
     "output_type": "display_data"
    },
    {
     "data": {
      "text/markdown": [
       "### Sulphates\n",
       "The distribution of `sulphates` is:\n",
       "- Approximately symmetric\n",
       "- The median is 0.59\n",
       "- Light-tailed\n",
       "\n",
       "The boxplot of `sulphates` shows:\n",
       "- The median is 0.59\n",
       "- The first quartile is 0.53\n",
       "- The third quartile is 0.67\n",
       "- The interquartile range is 0.14\n",
       "- Values below 0.32 or above 0.88 are considered outliers\n"
      ],
      "text/plain": [
       "<IPython.core.display.Markdown object>"
      ]
     },
     "metadata": {},
     "output_type": "display_data"
    }
   ],
   "source": [
    "describe_feature(df, 'sulphates')"
   ]
  },
  {
   "attachments": {},
   "cell_type": "markdown",
   "metadata": {},
   "source": [
    "The `sulphates` feature has a bell-shaped distribution resembling a normal distribution. It has a tendency to be centrally clustered around the value 0.6, with values spreading around 0.3 to 0.9.\n",
    "\n",
    "From the boxplot, we can see that this feature has most of the values ranging from 0.52 to 0.68, with 0.6 being the median. It also has moderate amount of datapoints on the whiskers indicating outliers."
   ]
  },
  {
   "cell_type": "code",
   "execution_count": 468,
   "metadata": {},
   "outputs": [
    {
     "data": {
      "text/markdown": [
       "After conducting the normality test, we get:\n",
       "\n",
       "Statistic Value: 3.948820277859041\n",
       "\n",
       "P-Value: 0.13884318628391681\n",
       "\n",
       "With 95.0% confidence, we can conclude that the sulphates feature is normally distributed"
      ],
      "text/plain": [
       "<IPython.core.display.Markdown object>"
      ]
     },
     "metadata": {},
     "output_type": "display_data"
    }
   ],
   "source": [
    "normality_test(df, 'sulphates', 0.05)"
   ]
  },
  {
   "attachments": {},
   "cell_type": "markdown",
   "metadata": {},
   "source": [
    "#### `Alcohol`"
   ]
  },
  {
   "cell_type": "code",
   "execution_count": 469,
   "metadata": {},
   "outputs": [
    {
     "data": {
      "image/png": "[encoded data removed]",
      "text/plain": [
       "<Figure size 864x288 with 2 Axes>"
      ]
     },
     "metadata": {
      "needs_background": "light"
     },
     "output_type": "display_data"
    },
    {
     "data": {
      "text/markdown": [
       "### Alcohol\n",
       "The distribution of `alcohol` is:\n",
       "- Approximately symmetric\n",
       "- The median is 10.61\n",
       "- Light-tailed\n",
       "\n",
       "The boxplot of `alcohol` shows:\n",
       "- The median is 10.61\n",
       "- The first quartile is 9.56\n",
       "- The third quartile is 11.62\n",
       "- The interquartile range is 2.06\n",
       "- Values below 6.47 or above 14.72 are considered outliers\n"
      ],
      "text/plain": [
       "<IPython.core.display.Markdown object>"
      ]
     },
     "metadata": {},
     "output_type": "display_data"
    }
   ],
   "source": [
    "describe_feature(df, 'alcohol')"
   ]
  },
  {
   "attachments": {},
   "cell_type": "markdown",
   "metadata": {},
   "source": [
    "The `alcohol` feature has a bell-shaped distribution resembling a normal distribution. It has a tendency to be centrally clustered around the value 11, with values spread around 6 to 14.\n",
    "\n",
    "From the boxplot, we can see that this feature has most of the values ranging from 9 to 11.5, with 10.5 being the median. It also has moderate amount of datapoints on the whiskers indicating outliers."
   ]
  },
  {
   "cell_type": "code",
   "execution_count": 470,
   "metadata": {},
   "outputs": [
    {
     "data": {
      "text/markdown": [
       "After conducting the normality test, we get:\n",
       "\n",
       "Statistic Value: 0.7740076714171271\n",
       "\n",
       "P-Value: 0.6790884901361043\n",
       "\n",
       "With 95.0% confidence, we can conclude that the alcohol feature is normally distributed"
      ],
      "text/plain": [
       "<IPython.core.display.Markdown object>"
      ]
     },
     "metadata": {},
     "output_type": "display_data"
    }
   ],
   "source": [
    "normality_test(df, 'alcohol', 0.05)"
   ]
  },
  {
   "attachments": {},
   "cell_type": "markdown",
   "metadata": {},
   "source": [
    "#### `Quality`"
   ]
  },
  {
   "cell_type": "code",
   "execution_count": 471,
   "metadata": {},
   "outputs": [
    {
     "data": {
      "image/png": "[encoded data removed]",
      "text/plain": [
       "<Figure size 864x288 with 2 Axes>"
      ]
     },
     "metadata": {
      "needs_background": "light"
     },
     "output_type": "display_data"
    },
    {
     "data": {
      "text/markdown": [
       "### Quality\n",
       "The distribution of `quality` is:\n",
       "- Approximately symmetric\n",
       "- The median is 8.00\n",
       "- Light-tailed\n",
       "\n",
       "The boxplot of `quality` shows:\n",
       "- The median is 8.00\n",
       "- The first quartile is 7.00\n",
       "- The third quartile is 9.00\n",
       "- The interquartile range is 2.00\n",
       "- Values below 4.00 or above 12.00 are considered outliers\n"
      ],
      "text/plain": [
       "<IPython.core.display.Markdown object>"
      ]
     },
     "metadata": {},
     "output_type": "display_data"
    }
   ],
   "source": [
    "describe_feature(df, 'quality')"
   ]
  },
  {
   "attachments": {},
   "cell_type": "markdown",
   "metadata": {},
   "source": [
    "The `quality` feature is the target variable with values ranging from 5 to 10. The dataset contains the highest frequency of quality level with the value of 8, followed by 7 and 9. \n",
    "\n",
    "From the boxplot, we can see that this feature does not have any outliers, as the feature is of categoric type containing numerical values, having integer classes from 5 to 10."
   ]
  },
  {
   "cell_type": "code",
   "execution_count": 472,
   "metadata": {},
   "outputs": [
    {
     "data": {
      "text/markdown": [
       "After conducting the normality test, we get:\n",
       "\n",
       "Statistic Value: 1.8893087092494893\n",
       "\n",
       "P-Value: 0.3888139394184818\n",
       "\n",
       "With 95.0% confidence, we can conclude that the quality feature is normally distributed"
      ],
      "text/plain": [
       "<IPython.core.display.Markdown object>"
      ]
     },
     "metadata": {},
     "output_type": "display_data"
    }
   ],
   "source": [
    "normality_test(df, 'quality', 0.05)"
   ]
  },
  {
   "attachments": {},
   "cell_type": "markdown",
   "metadata": {},
   "source": [
    "### Proportion of the Target Variable"
   ]
  },
  {
   "cell_type": "code",
   "execution_count": 473,
   "metadata": {},
   "outputs": [],
   "source": [
    "def plot_classes(y):\n",
    "    counts = y.value_counts().sort_index()\n",
    "    counts = counts.rename_axis(\"Quality\").reset_index(name=\"Count\")\n",
    "    fig = px.pie(counts, values=\"Count\", names=\"Quality\", title=\"Quality Proportion Percentage\", template=\"seaborn\")\n",
    "    fig.update_traces(textposition=\"inside\", textinfo=\"percent+label\")\n",
    "    fig.show()\n",
    "    print(counts)\n",
    "    print()"
   ]
  },
  {
   "cell_type": "code",
   "execution_count": 474,
   "metadata": {},
   "outputs": [
    {
     "data": {
      "application/vnd.plotly.v1+json": {
       "config": {
        "plotlyServerURL": "https://plot.ly"
       },
       "data": [
        {
         "domain": {
          "x": [
           0,
           1
          ],
          "y": [
           0,
           1
          ]
         },
         "hovertemplate": "Quality=%{label}<br>Count=%{value}<extra></extra>",
         "labels": [
          5,
          6,
          7,
          8,
          9,
          10
         ],
         "legendgroup": "",
         "name": "",
         "showlegend": true,
         "textinfo": "percent+label",
         "textposition": "inside",
         "type": "pie",
         "values": [
          5,
          38,
          248,
          449,
          223,
          37
         ]
        }
       ],
       "layout": {
        "legend": {
         "tracegroupgap": 0
        },
        "template": {
         "data": {
          "bar": [
           {
            "error_x": {
             "color": "rgb(36,36,36)"
            },
            "error_y": {
             "color": "rgb(36,36,36)"
            },
            "marker": {
             "line": {
              "color": "rgb(234,234,242)",
              "width": 0.5
             },
             "pattern": {
              "fillmode": "overlay",
              "size": 10,
              "solidity": 0.2
             }
            },
            "type": "bar"
           }
          ],
          "barpolar": [
           {
            "marker": {
             "line": {
              "color": "rgb(234,234,242)",
              "width": 0.5
             },
             "pattern": {
              "fillmode": "overlay",
              "size": 10,
              "solidity": 0.2
             }
            },
            "type": "barpolar"
           }
          ],
          "carpet": [
           {
            "aaxis": {
             "endlinecolor": "rgb(36,36,36)",
             "gridcolor": "white",
             "linecolor": "white",
             "minorgridcolor": "white",
             "startlinecolor": "rgb(36,36,36)"
            },
            "baxis": {
             "endlinecolor": "rgb(36,36,36)",
             "gridcolor": "white",
             "linecolor": "white",
             "minorgridcolor": "white",
             "startlinecolor": "rgb(36,36,36)"
            },
            "type": "carpet"
           }
          ],
          "choropleth": [
           {
            "colorbar": {
             "outlinewidth": 0,
             "tickcolor": "rgb(36,36,36)",
             "ticklen": 8,
             "ticks": "outside",
             "tickwidth": 2
            },
            "type": "choropleth"
           }
          ],
          "contour": [
           {
            "colorbar": {
             "outlinewidth": 0,
             "tickcolor": "rgb(36,36,36)",
             "ticklen": 8,
             "ticks": "outside",
             "tickwidth": 2
            },
            "colorscale": [
             [
              0,
              "rgb(2,4,25)"
             ],
             [
              0.06274509803921569,
              "rgb(24,15,41)"
             ],
             [
              0.12549019607843137,
              "rgb(47,23,57)"
             ],
             [
              0.18823529411764706,
              "rgb(71,28,72)"
             ],
             [
              0.25098039215686274,
              "rgb(97,30,82)"
             ],
             [
              0.3137254901960784,
              "rgb(123,30,89)"
             ],
             [
              0.3764705882352941,
              "rgb(150,27,91)"
             ],
             [
              0.4392156862745098,
              "rgb(177,22,88)"
             ],
             [
              0.5019607843137255,
              "rgb(203,26,79)"
             ],
             [
              0.5647058823529412,
              "rgb(223,47,67)"
             ],
             [
              0.6274509803921569,
              "rgb(236,76,61)"
             ],
             [
              0.6901960784313725,
              "rgb(242,107,73)"
             ],
             [
              0.7529411764705882,
              "rgb(244,135,95)"
             ],
             [
              0.8156862745098039,
              "rgb(245,162,122)"
             ],
             [
              0.8784313725490196,
              "rgb(246,188,153)"
             ],
             [
              0.9411764705882353,
              "rgb(247,212,187)"
             ],
             [
              1,
              "rgb(250,234,220)"
             ]
            ],
            "type": "contour"
           }
          ],
          "contourcarpet": [
           {
            "colorbar": {
             "outlinewidth": 0,
             "tickcolor": "rgb(36,36,36)",
             "ticklen": 8,
             "ticks": "outside",
             "tickwidth": 2
            },
            "type": "contourcarpet"
           }
          ],
          "heatmap": [
           {
            "colorbar": {
             "outlinewidth": 0,
             "tickcolor": "rgb(36,36,36)",
             "ticklen": 8,
             "ticks": "outside",
             "tickwidth": 2
            },
            "colorscale": [
             [
              0,
              "rgb(2,4,25)"
             ],
             [
              0.06274509803921569,
              "rgb(24,15,41)"
             ],
             [
              0.12549019607843137,
              "rgb(47,23,57)"
             ],
             [
              0.18823529411764706,
              "rgb(71,28,72)"
             ],
             [
              0.25098039215686274,
              "rgb(97,30,82)"
             ],
             [
              0.3137254901960784,
              "rgb(123,30,89)"
             ],
             [
              0.3764705882352941,
              "rgb(150,27,91)"
             ],
             [
              0.4392156862745098,
              "rgb(177,22,88)"
             ],
             [
              0.5019607843137255,
              "rgb(203,26,79)"
             ],
             [
              0.5647058823529412,
              "rgb(223,47,67)"
             ],
             [
              0.6274509803921569,
              "rgb(236,76,61)"
             ],
             [
              0.6901960784313725,
              "rgb(242,107,73)"
             ],
             [
              0.7529411764705882,
              "rgb(244,135,95)"
             ],
             [
              0.8156862745098039,
              "rgb(245,162,122)"
             ],
             [
              0.8784313725490196,
              "rgb(246,188,153)"
             ],
             [
              0.9411764705882353,
              "rgb(247,212,187)"
             ],
             [
              1,
              "rgb(250,234,220)"
             ]
            ],
            "type": "heatmap"
           }
          ],
          "heatmapgl": [
           {
            "colorbar": {
             "outlinewidth": 0,
             "tickcolor": "rgb(36,36,36)",
             "ticklen": 8,
             "ticks": "outside",
             "tickwidth": 2
            },
            "colorscale": [
             [
              0,
              "rgb(2,4,25)"
             ],
             [
              0.06274509803921569,
              "rgb(24,15,41)"
             ],
             [
              0.12549019607843137,
              "rgb(47,23,57)"
             ],
             [
              0.18823529411764706,
              "rgb(71,28,72)"
             ],
             [
              0.25098039215686274,
              "rgb(97,30,82)"
             ],
             [
              0.3137254901960784,
              "rgb(123,30,89)"
             ],
             [
              0.3764705882352941,
              "rgb(150,27,91)"
             ],
             [
              0.4392156862745098,
              "rgb(177,22,88)"
             ],
             [
              0.5019607843137255,
              "rgb(203,26,79)"
             ],
             [
              0.5647058823529412,
              "rgb(223,47,67)"
             ],
             [
              0.6274509803921569,
              "rgb(236,76,61)"
             ],
             [
              0.6901960784313725,
              "rgb(242,107,73)"
             ],
             [
              0.7529411764705882,
              "rgb(244,135,95)"
             ],
             [
              0.8156862745098039,
              "rgb(245,162,122)"
             ],
             [
              0.8784313725490196,
              "rgb(246,188,153)"
             ],
             [
              0.9411764705882353,
              "rgb(247,212,187)"
             ],
             [
              1,
              "rgb(250,234,220)"
             ]
            ],
            "type": "heatmapgl"
           }
          ],
          "histogram": [
           {
            "marker": {
             "pattern": {
              "fillmode": "overlay",
              "size": 10,
              "solidity": 0.2
             }
            },
            "type": "histogram"
           }
          ],
          "histogram2d": [
           {
            "colorbar": {
             "outlinewidth": 0,
             "tickcolor": "rgb(36,36,36)",
             "ticklen": 8,
             "ticks": "outside",
             "tickwidth": 2
            },
            "colorscale": [
             [
              0,
              "rgb(2,4,25)"
             ],
             [
              0.06274509803921569,
              "rgb(24,15,41)"
             ],
             [
              0.12549019607843137,
              "rgb(47,23,57)"
             ],
             [
              0.18823529411764706,
              "rgb(71,28,72)"
             ],
             [
              0.25098039215686274,
              "rgb(97,30,82)"
             ],
             [
              0.3137254901960784,
              "rgb(123,30,89)"
             ],
             [
              0.3764705882352941,
              "rgb(150,27,91)"
             ],
             [
              0.4392156862745098,
              "rgb(177,22,88)"
             ],
             [
              0.5019607843137255,
              "rgb(203,26,79)"
             ],
             [
              0.5647058823529412,
              "rgb(223,47,67)"
             ],
             [
              0.6274509803921569,
              "rgb(236,76,61)"
             ],
             [
              0.6901960784313725,
              "rgb(242,107,73)"
             ],
             [
              0.7529411764705882,
              "rgb(244,135,95)"
             ],
             [
              0.8156862745098039,
              "rgb(245,162,122)"
             ],
             [
              0.8784313725490196,
              "rgb(246,188,153)"
             ],
             [
              0.9411764705882353,
              "rgb(247,212,187)"
             ],
             [
              1,
              "rgb(250,234,220)"
             ]
            ],
            "type": "histogram2d"
           }
          ],
          "histogram2dcontour": [
           {
            "colorbar": {
             "outlinewidth": 0,
             "tickcolor": "rgb(36,36,36)",
             "ticklen": 8,
             "ticks": "outside",
             "tickwidth": 2
            },
            "colorscale": [
             [
              0,
              "rgb(2,4,25)"
             ],
             [
              0.06274509803921569,
              "rgb(24,15,41)"
             ],
             [
              0.12549019607843137,
              "rgb(47,23,57)"
             ],
             [
              0.18823529411764706,
              "rgb(71,28,72)"
             ],
             [
              0.25098039215686274,
              "rgb(97,30,82)"
             ],
             [
              0.3137254901960784,
              "rgb(123,30,89)"
             ],
             [
              0.3764705882352941,
              "rgb(150,27,91)"
             ],
             [
              0.4392156862745098,
              "rgb(177,22,88)"
             ],
             [
              0.5019607843137255,
              "rgb(203,26,79)"
             ],
             [
              0.5647058823529412,
              "rgb(223,47,67)"
             ],
             [
              0.6274509803921569,
              "rgb(236,76,61)"
             ],
             [
              0.6901960784313725,
              "rgb(242,107,73)"
             ],
             [
              0.7529411764705882,
              "rgb(244,135,95)"
             ],
             [
              0.8156862745098039,
              "rgb(245,162,122)"
             ],
             [
              0.8784313725490196,
              "rgb(246,188,153)"
             ],
             [
              0.9411764705882353,
              "rgb(247,212,187)"
             ],
             [
              1,
              "rgb(250,234,220)"
             ]
            ],
            "type": "histogram2dcontour"
           }
          ],
          "mesh3d": [
           {
            "colorbar": {
             "outlinewidth": 0,
             "tickcolor": "rgb(36,36,36)",
             "ticklen": 8,
             "ticks": "outside",
             "tickwidth": 2
            },
            "type": "mesh3d"
           }
          ],
          "parcoords": [
           {
            "line": {
             "colorbar": {
              "outlinewidth": 0,
              "tickcolor": "rgb(36,36,36)",
              "ticklen": 8,
              "ticks": "outside",
              "tickwidth": 2
             }
            },
            "type": "parcoords"
           }
          ],
          "pie": [
           {
            "automargin": true,
            "type": "pie"
           }
          ],
          "scatter": [
           {
            "fillpattern": {
             "fillmode": "overlay",
             "size": 10,
             "solidity": 0.2
            },
            "type": "scatter"
           }
          ],
          "scatter3d": [
           {
            "line": {
             "colorbar": {
              "outlinewidth": 0,
              "tickcolor": "rgb(36,36,36)",
              "ticklen": 8,
              "ticks": "outside",
              "tickwidth": 2
             }
            },
            "marker": {
             "colorbar": {
              "outlinewidth": 0,
              "tickcolor": "rgb(36,36,36)",
              "ticklen": 8,
              "ticks": "outside",
              "tickwidth": 2
             }
            },
            "type": "scatter3d"
           }
          ],
          "scattercarpet": [
           {
            "marker": {
             "colorbar": {
              "outlinewidth": 0,
              "tickcolor": "rgb(36,36,36)",
              "ticklen": 8,
              "ticks": "outside",
              "tickwidth": 2
             }
            },
            "type": "scattercarpet"
           }
          ],
          "scattergeo": [
           {
            "marker": {
             "colorbar": {
              "outlinewidth": 0,
              "tickcolor": "rgb(36,36,36)",
              "ticklen": 8,
              "ticks": "outside",
              "tickwidth": 2
             }
            },
            "type": "scattergeo"
           }
          ],
          "scattergl": [
           {
            "marker": {
             "colorbar": {
              "outlinewidth": 0,
              "tickcolor": "rgb(36,36,36)",
              "ticklen": 8,
              "ticks": "outside",
              "tickwidth": 2
             }
            },
            "type": "scattergl"
           }
          ],
          "scattermapbox": [
           {
            "marker": {
             "colorbar": {
              "outlinewidth": 0,
              "tickcolor": "rgb(36,36,36)",
              "ticklen": 8,
              "ticks": "outside",
              "tickwidth": 2
             }
            },
            "type": "scattermapbox"
           }
          ],
          "scatterpolar": [
           {
            "marker": {
             "colorbar": {
              "outlinewidth": 0,
              "tickcolor": "rgb(36,36,36)",
              "ticklen": 8,
              "ticks": "outside",
              "tickwidth": 2
             }
            },
            "type": "scatterpolar"
           }
          ],
          "scatterpolargl": [
           {
            "marker": {
             "colorbar": {
              "outlinewidth": 0,
              "tickcolor": "rgb(36,36,36)",
              "ticklen": 8,
              "ticks": "outside",
              "tickwidth": 2
             }
            },
            "type": "scatterpolargl"
           }
          ],
          "scatterternary": [
           {
            "marker": {
             "colorbar": {
              "outlinewidth": 0,
              "tickcolor": "rgb(36,36,36)",
              "ticklen": 8,
              "ticks": "outside",
              "tickwidth": 2
             }
            },
            "type": "scatterternary"
           }
          ],
          "surface": [
           {
            "colorbar": {
             "outlinewidth": 0,
             "tickcolor": "rgb(36,36,36)",
             "ticklen": 8,
             "ticks": "outside",
             "tickwidth": 2
            },
            "colorscale": [
             [
              0,
              "rgb(2,4,25)"
             ],
             [
              0.06274509803921569,
              "rgb(24,15,41)"
             ],
             [
              0.12549019607843137,
              "rgb(47,23,57)"
             ],
             [
              0.18823529411764706,
              "rgb(71,28,72)"
             ],
             [
              0.25098039215686274,
              "rgb(97,30,82)"
             ],
             [
              0.3137254901960784,
              "rgb(123,30,89)"
             ],
             [
              0.3764705882352941,
              "rgb(150,27,91)"
             ],
             [
              0.4392156862745098,
              "rgb(177,22,88)"
             ],
             [
              0.5019607843137255,
              "rgb(203,26,79)"
             ],
             [
              0.5647058823529412,
              "rgb(223,47,67)"
             ],
             [
              0.6274509803921569,
              "rgb(236,76,61)"
             ],
             [
              0.6901960784313725,
              "rgb(242,107,73)"
             ],
             [
              0.7529411764705882,
              "rgb(244,135,95)"
             ],
             [
              0.8156862745098039,
              "rgb(245,162,122)"
             ],
             [
              0.8784313725490196,
              "rgb(246,188,153)"
             ],
             [
              0.9411764705882353,
              "rgb(247,212,187)"
             ],
             [
              1,
              "rgb(250,234,220)"
             ]
            ],
            "type": "surface"
           }
          ],
          "table": [
           {
            "cells": {
             "fill": {
              "color": "rgb(231,231,240)"
             },
             "line": {
              "color": "white"
             }
            },
            "header": {
             "fill": {
              "color": "rgb(183,183,191)"
             },
             "line": {
              "color": "white"
             }
            },
            "type": "table"
           }
          ]
         },
         "layout": {
          "annotationdefaults": {
           "arrowcolor": "rgb(67,103,167)"
          },
          "autotypenumbers": "strict",
          "coloraxis": {
           "colorbar": {
            "outlinewidth": 0,
            "tickcolor": "rgb(36,36,36)",
            "ticklen": 8,
            "ticks": "outside",
            "tickwidth": 2
           }
          },
          "colorscale": {
           "sequential": [
            [
             0,
             "rgb(2,4,25)"
            ],
            [
             0.06274509803921569,
             "rgb(24,15,41)"
            ],
            [
             0.12549019607843137,
             "rgb(47,23,57)"
            ],
            [
             0.18823529411764706,
             "rgb(71,28,72)"
            ],
            [
             0.25098039215686274,
             "rgb(97,30,82)"
            ],
            [
             0.3137254901960784,
             "rgb(123,30,89)"
            ],
            [
             0.3764705882352941,
             "rgb(150,27,91)"
            ],
            [
             0.4392156862745098,
             "rgb(177,22,88)"
            ],
            [
             0.5019607843137255,
             "rgb(203,26,79)"
            ],
            [
             0.5647058823529412,
             "rgb(223,47,67)"
            ],
            [
             0.6274509803921569,
             "rgb(236,76,61)"
            ],
            [
             0.6901960784313725,
             "rgb(242,107,73)"
            ],
            [
             0.7529411764705882,
             "rgb(244,135,95)"
            ],
            [
             0.8156862745098039,
             "rgb(245,162,122)"
            ],
            [
             0.8784313725490196,
             "rgb(246,188,153)"
            ],
            [
             0.9411764705882353,
             "rgb(247,212,187)"
            ],
            [
             1,
             "rgb(250,234,220)"
            ]
           ],
           "sequentialminus": [
            [
             0,
             "rgb(2,4,25)"
            ],
            [
             0.06274509803921569,
             "rgb(24,15,41)"
            ],
            [
             0.12549019607843137,
             "rgb(47,23,57)"
            ],
            [
             0.18823529411764706,
             "rgb(71,28,72)"
            ],
            [
             0.25098039215686274,
             "rgb(97,30,82)"
            ],
            [
             0.3137254901960784,
             "rgb(123,30,89)"
            ],
            [
             0.3764705882352941,
             "rgb(150,27,91)"
            ],
            [
             0.4392156862745098,
             "rgb(177,22,88)"
            ],
            [
             0.5019607843137255,
             "rgb(203,26,79)"
            ],
            [
             0.5647058823529412,
             "rgb(223,47,67)"
            ],
            [
             0.6274509803921569,
             "rgb(236,76,61)"
            ],
            [
             0.6901960784313725,
             "rgb(242,107,73)"
            ],
            [
             0.7529411764705882,
             "rgb(244,135,95)"
            ],
            [
             0.8156862745098039,
             "rgb(245,162,122)"
            ],
            [
             0.8784313725490196,
             "rgb(246,188,153)"
            ],
            [
             0.9411764705882353,
             "rgb(247,212,187)"
            ],
            [
             1,
             "rgb(250,234,220)"
            ]
           ]
          },
          "colorway": [
           "rgb(76,114,176)",
           "rgb(221,132,82)",
           "rgb(85,168,104)",
           "rgb(196,78,82)",
           "rgb(129,114,179)",
           "rgb(147,120,96)",
           "rgb(218,139,195)",
           "rgb(140,140,140)",
           "rgb(204,185,116)",
           "rgb(100,181,205)"
          ],
          "font": {
           "color": "rgb(36,36,36)"
          },
          "geo": {
           "bgcolor": "white",
           "lakecolor": "white",
           "landcolor": "rgb(234,234,242)",
           "showlakes": true,
           "showland": true,
           "subunitcolor": "white"
          },
          "hoverlabel": {
           "align": "left"
          },
          "hovermode": "closest",
          "paper_bgcolor": "white",
          "plot_bgcolor": "rgb(234,234,242)",
          "polar": {
           "angularaxis": {
            "gridcolor": "white",
            "linecolor": "white",
            "showgrid": true,
            "ticks": ""
           },
           "bgcolor": "rgb(234,234,242)",
           "radialaxis": {
            "gridcolor": "white",
            "linecolor": "white",
            "showgrid": true,
            "ticks": ""
           }
          },
          "scene": {
           "xaxis": {
            "backgroundcolor": "rgb(234,234,242)",
            "gridcolor": "white",
            "gridwidth": 2,
            "linecolor": "white",
            "showbackground": true,
            "showgrid": true,
            "ticks": "",
            "zerolinecolor": "white"
           },
           "yaxis": {
            "backgroundcolor": "rgb(234,234,242)",
            "gridcolor": "white",
            "gridwidth": 2,
            "linecolor": "white",
            "showbackground": true,
            "showgrid": true,
            "ticks": "",
            "zerolinecolor": "white"
           },
           "zaxis": {
            "backgroundcolor": "rgb(234,234,242)",
            "gridcolor": "white",
            "gridwidth": 2,
            "linecolor": "white",
            "showbackground": true,
            "showgrid": true,
            "ticks": "",
            "zerolinecolor": "white"
           }
          },
          "shapedefaults": {
           "fillcolor": "rgb(67,103,167)",
           "line": {
            "width": 0
           },
           "opacity": 0.5
          },
          "ternary": {
           "aaxis": {
            "gridcolor": "white",
            "linecolor": "white",
            "showgrid": true,
            "ticks": ""
           },
           "baxis": {
            "gridcolor": "white",
            "linecolor": "white",
            "showgrid": true,
            "ticks": ""
           },
           "bgcolor": "rgb(234,234,242)",
           "caxis": {
            "gridcolor": "white",
            "linecolor": "white",
            "showgrid": true,
            "ticks": ""
           }
          },
          "xaxis": {
           "automargin": true,
           "gridcolor": "white",
           "linecolor": "white",
           "showgrid": true,
           "ticks": "",
           "title": {
            "standoff": 15
           },
           "zerolinecolor": "white"
          },
          "yaxis": {
           "automargin": true,
           "gridcolor": "white",
           "linecolor": "white",
           "showgrid": true,
           "ticks": "",
           "title": {
            "standoff": 15
           },
           "zerolinecolor": "white"
          }
         }
        },
        "title": {
         "text": "Quality Proportion Percentage"
        }
       }
      }
     },
     "metadata": {},
     "output_type": "display_data"
    },
    {
     "name": "stdout",
     "output_type": "stream",
     "text": [
      "   Quality  Count\n",
      "0        5      5\n",
      "1        6     38\n",
      "2        7    248\n",
      "3        8    449\n",
      "4        9    223\n",
      "5       10     37\n",
      "\n"
     ]
    }
   ],
   "source": [
    "plot_classes(df['quality'])"
   ]
  },
  {
   "attachments": {},
   "cell_type": "markdown",
   "metadata": {},
   "source": [
    "From the pie chart, we can infer that the quality classes are highly imbalanced, with class 8 having the highest proportion."
   ]
  },
  {
   "attachments": {},
   "cell_type": "markdown",
   "metadata": {},
   "source": [
    "## Multivariate Analysis\n",
    "\n",
    "In this section, we will analyze the underlying relationships and interactions between the variables in the dataset."
   ]
  },
  {
   "attachments": {},
   "cell_type": "markdown",
   "metadata": {},
   "source": [
    "### Feature Correlation"
   ]
  },
  {
   "cell_type": "code",
   "execution_count": 475,
   "metadata": {},
   "outputs": [
    {
     "data": {
      "image/png": "[encoded data removed]",
      "text/plain": [
       "<Figure size 900x540 with 2 Axes>"
      ]
     },
     "metadata": {
      "needs_background": "light"
     },
     "output_type": "display_data"
    }
   ],
   "source": [
    "plt.figure(figsize = (12.5,7.5))\n",
    "plt.title(\"Correlation Matrix\", fontsize = 18)\n",
    "sns.heatmap(df.corr(), cmap = 'coolwarm_r', annot = True)\n",
    "plt.xticks(fontsize=12, rotation = 90)\n",
    "plt.yticks(fontsize=12, rotation = 0)\n",
    "plt.show()"
   ]
  },
  {
   "attachments": {},
   "cell_type": "markdown",
   "metadata": {},
   "source": [
    "The correlation matrix reveals that the `alcohol` feature has a strong positive correlation with the target variable, followed by `fixed acidity` and `residual sugar`. This suggests that higher quality wines generally have high alcohol contents. Furthermore, we can also see that the correlation between the predictor variables are minimal, indicating that there is little multicollinearity among the non-target variables."
   ]
  },
  {
   "attachments": {},
   "cell_type": "markdown",
   "metadata": {},
   "source": [
    "### Alcohol vs Quality"
   ]
  },
  {
   "cell_type": "code",
   "execution_count": 476,
   "metadata": {},
   "outputs": [
    {
     "data": {
      "image/png": "[encoded data removed]",
      "text/plain": [
       "<Figure size 432x288 with 1 Axes>"
      ]
     },
     "metadata": {
      "needs_background": "light"
     },
     "output_type": "display_data"
    }
   ],
   "source": [
    "# Group the data by the 'quality' column and calculate the mean of 'alcohol'\n",
    "alcohol_by_quality = df.groupby('quality')['alcohol'].mean()\n",
    "\n",
    "# Plot a line chart of the average 'alcohol' value for each 'quality' level\n",
    "alcohol_by_quality.plot(kind='line', x='quality', y='alcohol')\n",
    "plt.xlabel('Quality')\n",
    "plt.ylabel('Average Alcohol')\n",
    "plt.title('Average Alcohol by Quality')\n",
    "plt.show()"
   ]
  },
  {
   "attachments": {},
   "cell_type": "markdown",
   "metadata": {},
   "source": [
    "From the line plot above, we can conclude that the `alcohol` feature has a linear relationship towards the `quality` of wine."
   ]
  },
  {
   "attachments": {},
   "cell_type": "markdown",
   "metadata": {},
   "source": [
    "### Fixed Acidity vs Quality"
   ]
  },
  {
   "cell_type": "code",
   "execution_count": 477,
   "metadata": {},
   "outputs": [
    {
     "data": {
      "image/png": "[encoded data removed]",
      "text/plain": [
       "<Figure size 432x288 with 1 Axes>"
      ]
     },
     "metadata": {
      "needs_background": "light"
     },
     "output_type": "display_data"
    }
   ],
   "source": [
    "# Group the data by the 'quality' column and calculate the mean of 'fixed acidity'\n",
    "fixed_acidity_by_quality = df.groupby('quality')['fixed acidity'].mean()\n",
    "\n",
    "# Plot a line chart of the average 'fixed acidity' value for each 'quality' level\n",
    "fixed_acidity_by_quality.plot(kind='line', x='quality', y='fixed acidity')\n",
    "plt.xlabel('Quality')\n",
    "plt.ylabel('Average Fixed Acidity')\n",
    "plt.title('Average Fixed Acidity by Quality')\n",
    "plt.show()"
   ]
  },
  {
   "attachments": {},
   "cell_type": "markdown",
   "metadata": {},
   "source": [
    "Similar to `alcohol`, the `fixed acidity` feature also have an approximately linear relationship with the `quality` variable."
   ]
  },
  {
   "attachments": {},
   "cell_type": "markdown",
   "metadata": {},
   "source": [
    "### Residual Sugar vs Alcohol"
   ]
  },
  {
   "cell_type": "code",
   "execution_count": 478,
   "metadata": {},
   "outputs": [
    {
     "data": {
      "image/png": "[encoded data removed]",
      "text/plain": [
       "<Figure size 432x288 with 1 Axes>"
      ]
     },
     "metadata": {
      "needs_background": "light"
     },
     "output_type": "display_data"
    }
   ],
   "source": [
    "# Group the data by the 'quality' column and calculate the mean of 'residual sugar'\n",
    "residual_sugar_by_quality = df.groupby('quality')['residual sugar'].mean()\n",
    "\n",
    "# Plot a line chart of the average 'residual sugar' value for each 'quality' level\n",
    "residual_sugar_by_quality.plot(kind='line', x='quality', y='residual sugar')\n",
    "plt.xlabel('Quality')\n",
    "plt.ylabel('Average Residual Sugar')\n",
    "plt.title('Average Residual Sugar by Quality')\n",
    "plt.show()"
   ]
  },
  {
   "attachments": {},
   "cell_type": "markdown",
   "metadata": {},
   "source": [
    "From this insight, we can say that the `quality` of wine improves exponentially towards the `residual sugar` feature."
   ]
  },
  {
   "attachments": {},
   "cell_type": "markdown",
   "metadata": {},
   "source": [
    "# Hypothesis Testing\n",
    "\n",
    "In this section, we will conduct single-sample and multisample hypothesis testing on the dataset."
   ]
  },
  {
   "attachments": {},
   "cell_type": "markdown",
   "metadata": {},
   "source": [
    "## Single-sample Hypothesis"
   ]
  },
  {
   "cell_type": "code",
   "execution_count": 479,
   "metadata": {},
   "outputs": [],
   "source": [
    "def t_test_mean(sample, attribute, mean, tail):\n",
    "    computed_average = sample[attribute].mean()\n",
    "    computed_std = sample[attribute].std()\n",
    "\n",
    "    t_value = (computed_average - mean) / (computed_std / sqrt(len(sample)))\n",
    "    degree = len(sample) - 1\n",
    "\n",
    "    if (tail == 2):\n",
    "        p_value = 2 * (1 - scipy.stats.t.cdf(abs(t_value), degree))\n",
    "    else:\n",
    "        p_value = scipy.stats.t.cdf(t_value, degree)\n",
    "\n",
    "    display(Markdown(f\"Computed Average : {computed_average}\"))\n",
    "    display(Markdown(f\"Computed Standard Derivation : {computed_std}\"))\n",
    "    display(Markdown(f\"T-Value : {t_value}\"))\n",
    "    display(Markdown(f\"P-Value : {p_value}\"))\n",
    "\n",
    "    return t_value, p_value"
   ]
  },
  {
   "cell_type": "code",
   "execution_count": 480,
   "metadata": {},
   "outputs": [],
   "source": [
    "def z_test_proportion(sample, qualified_sample, proportion):\n",
    "    n = len(sample)\n",
    "    x = len(qualified_sample)\n",
    "\n",
    "    p = x / n\n",
    "    z_value = (p - proportion) / sqrt((proportion * (1 - proportion) / n))\n",
    "    p_value = scipy.stats.norm.sf(abs(z_value)) * 2\n",
    "\n",
    "    display(Markdown(f\"n       : {n}\"))\n",
    "    display(Markdown(f\"x       : {x}\"))\n",
    "    display(Markdown(f\"Z-Value : {z_value}\"))\n",
    "    display(Markdown(f\"P-Value : {p_value}\"))\n",
    "    "
   ]
  },
  {
   "cell_type": "code",
   "execution_count": 481,
   "metadata": {},
   "outputs": [],
   "source": [
    "def calculate_t_critical_value(LOS, degree):\n",
    "    critical_value = scipy.stats.t.ppf(LOS, degree)\n",
    "\n",
    "    return critical_value"
   ]
  },
  {
   "attachments": {},
   "cell_type": "markdown",
   "metadata": {},
   "source": [
    "### 1. Is the mean `pH` value greater than 3.29?"
   ]
  },
  {
   "attachments": {},
   "cell_type": "markdown",
   "metadata": {},
   "source": [
    "Step 1 : Specifying the null hypothesis (<b>H<sub>0</sub>)\n",
    "\n",
    "<b>H<sub>0</sub> : The mean pH value equals to 3.29 ( *&mu;* = 3.29 )</b>"
   ]
  },
  {
   "attachments": {},
   "cell_type": "markdown",
   "metadata": {},
   "source": [
    "Step 2 : Specifying the alternative hypothesis (H<sub>1</sub>)\n",
    "\n",
    "<b>H<sub>1</sub> : The mean pH value is greater than 3.29 ( *&mu;* > 3.29 ) (one-tailed test)</b>"
   ]
  },
  {
   "attachments": {},
   "cell_type": "markdown",
   "metadata": {},
   "source": [
    "Step 3 : Decide the level of significance (α)\n",
    "\n",
    "<b>α = 0.05</b>"
   ]
  },
  {
   "attachments": {},
   "cell_type": "markdown",
   "metadata": {},
   "source": [
    "Step 4 : Choosing the appropriate statistical test and determine the critical area\n",
    "\n",
    "<b>\n",
    "Statistical test = T-Test &rarr; Variance of population is unknown<br>\n",
    "Critical area = t > t<sub>0.95, 999</sub>\n",
    "</b>"
   ]
  },
  {
   "cell_type": "code",
   "execution_count": 482,
   "metadata": {},
   "outputs": [
    {
     "data": {
      "text/markdown": [
       "Critical Value = 1.6463803454275356"
      ],
      "text/plain": [
       "<IPython.core.display.Markdown object>"
      ]
     },
     "metadata": {},
     "output_type": "display_data"
    },
    {
     "data": {
      "text/markdown": [
       "So, the t-value must be greater than 1.6463803454275356 to reject the null hypothesis"
      ],
      "text/plain": [
       "<IPython.core.display.Markdown object>"
      ]
     },
     "metadata": {},
     "output_type": "display_data"
    }
   ],
   "source": [
    "t_critical_value = abs(calculate_t_critical_value(0.05, len(df) - 1))\n",
    "\n",
    "display(Markdown(f\"Critical Value = {t_critical_value}\"))\n",
    "display(Markdown(f\"So, the t-value must be greater than {t_critical_value} to reject the null hypothesis\"))"
   ]
  },
  {
   "attachments": {},
   "cell_type": "markdown",
   "metadata": {},
   "source": [
    "Step 5 : Calculate T-Test and P-Value from Data Sample"
   ]
  },
  {
   "attachments": {},
   "cell_type": "markdown",
   "metadata": {},
   "source": [
    "The formula of t-value:\n",
    "\n",
    "$$ t = \\frac{\\bar{x_{}} - μ_{0}} {s/\\sqrt{n}} $$"
   ]
  },
  {
   "cell_type": "code",
   "execution_count": 483,
   "metadata": {},
   "outputs": [
    {
     "data": {
      "text/markdown": [
       "Computed Average : 3.30361"
      ],
      "text/plain": [
       "<IPython.core.display.Markdown object>"
      ]
     },
     "metadata": {},
     "output_type": "display_data"
    },
    {
     "data": {
      "text/markdown": [
       "Computed Standard Derivation : 0.10487548220040166"
      ],
      "text/plain": [
       "<IPython.core.display.Markdown object>"
      ]
     },
     "metadata": {},
     "output_type": "display_data"
    },
    {
     "data": {
      "text/markdown": [
       "T-Value : 4.1037807933651145"
      ],
      "text/plain": [
       "<IPython.core.display.Markdown object>"
      ]
     },
     "metadata": {},
     "output_type": "display_data"
    },
    {
     "data": {
      "text/markdown": [
       "P-Value : 0.9999780204169362"
      ],
      "text/plain": [
       "<IPython.core.display.Markdown object>"
      ]
     },
     "metadata": {},
     "output_type": "display_data"
    }
   ],
   "source": [
    "t_value, p_value = t_test_mean(df, \"pH\", 3.29, 1)"
   ]
  },
  {
   "attachments": {},
   "cell_type": "markdown",
   "metadata": {},
   "source": [
    "Step 6 : Make a decision and conclusion\n",
    "\n",
    "<b>Reject H<sub>0</sub> and conclude that the mean pH value is greater than 3.29 because the T-Value is greater than the critical value (t > 1.646) and the P-Value is also far less than 0.05 (level of significance)</b>"
   ]
  },
  {
   "attachments": {},
   "cell_type": "markdown",
   "metadata": {},
   "source": [
    "### 2. Is the mean of `Residual Sugar` not equal to 2.5?"
   ]
  },
  {
   "attachments": {},
   "cell_type": "markdown",
   "metadata": {},
   "source": [
    "Step 1 : Specifying the null hypothesis (<b>H<sub>0</sub>)\n",
    "\n",
    "<b>H<sub>0</sub> : the mean of Residual Sugar equals to 2.5 ( *&mu;* = 2.5 )</b>"
   ]
  },
  {
   "attachments": {},
   "cell_type": "markdown",
   "metadata": {},
   "source": [
    "Step 2 : Specifying the alternative hypothesis (H<sub>1</sub>)\n",
    "\n",
    "<b>H<sub>1</sub> : the mean of Residual Sugar is not equal to 2.5 ( *&mu;* ≠ 2.5 ) (two-tailed test)</b>"
   ]
  },
  {
   "cell_type": "markdown",
   "metadata": {},
   "source": [
    "Step 3 : Decide the level of significance (α)\n",
    "\n",
    "<b>α = 0.05</b>"
   ]
  },
  {
   "attachments": {},
   "cell_type": "markdown",
   "metadata": {},
   "source": [
    "Step 4 : Choosing the appropriate statistical test and determine the critical area\n",
    "\n",
    "<b>\n",
    "Statistical test = T-Test &rarr; Variance of population is unknown<br>\n",
    "Critical area = t < - t<sub>0.025, 999</sub> and t > t<sub>0.025, 999</sub>\n",
    "</b>"
   ]
  },
  {
   "cell_type": "code",
   "execution_count": 484,
   "metadata": {},
   "outputs": [
    {
     "data": {
      "text/markdown": [
       "Critical Value = ± 1.962341461133449"
      ],
      "text/plain": [
       "<IPython.core.display.Markdown object>"
      ]
     },
     "metadata": {},
     "output_type": "display_data"
    },
    {
     "data": {
      "text/markdown": [
       "So, the t-value must be greater than 1.962341461133449 or less than - 1.962341461133449 to reject the null hypothesis"
      ],
      "text/plain": [
       "<IPython.core.display.Markdown object>"
      ]
     },
     "metadata": {},
     "output_type": "display_data"
    }
   ],
   "source": [
    "t_critical_value = abs(calculate_t_critical_value(0.025, 999))\n",
    "\n",
    "display(Markdown(f\"Critical Value = \\xB1 {t_critical_value}\"))\n",
    "display(Markdown(f\"So, the t-value must be greater than {t_critical_value} or less than - {t_critical_value} to reject the null hypothesis\"))"
   ]
  },
  {
   "attachments": {},
   "cell_type": "markdown",
   "metadata": {},
   "source": [
    "Step 5 : Calculate T-Test and P-Value from Data Sample"
   ]
  },
  {
   "attachments": {},
   "cell_type": "markdown",
   "metadata": {},
   "source": [
    "The formula of t-value:\n",
    "\n",
    "$$ t = \\frac{\\bar{x_{}} - μ_{0}} {s/\\sqrt{n}} $$"
   ]
  },
  {
   "cell_type": "code",
   "execution_count": 485,
   "metadata": {},
   "outputs": [
    {
     "data": {
      "text/markdown": [
       "Computed Average : 2.5671036825067595"
      ],
      "text/plain": [
       "<IPython.core.display.Markdown object>"
      ]
     },
     "metadata": {},
     "output_type": "display_data"
    },
    {
     "data": {
      "text/markdown": [
       "Computed Standard Derivation : 0.9879154365046929"
      ],
      "text/plain": [
       "<IPython.core.display.Markdown object>"
      ]
     },
     "metadata": {},
     "output_type": "display_data"
    },
    {
     "data": {
      "text/markdown": [
       "T-Value : 2.1479619435539523"
      ],
      "text/plain": [
       "<IPython.core.display.Markdown object>"
      ]
     },
     "metadata": {},
     "output_type": "display_data"
    },
    {
     "data": {
      "text/markdown": [
       "P-Value : 0.03195672670861671"
      ],
      "text/plain": [
       "<IPython.core.display.Markdown object>"
      ]
     },
     "metadata": {},
     "output_type": "display_data"
    }
   ],
   "source": [
    "t_value, p_value = t_test_mean(df, \"residual sugar\", 2.5, 2)"
   ]
  },
  {
   "attachments": {},
   "cell_type": "markdown",
   "metadata": {},
   "source": [
    "Step 6 : Make a decision and conclusion\n",
    "\n",
    "<b>Reject H<sub>0</sub> and conclude that the mean Residual Sugar value is not equal to 2.5 but greater than 2.5 because the T-Value is greater than the critical value (t > 1.962) and the P-Value is also less than 0.05 (level of significance)</b>"
   ]
  },
  {
   "attachments": {},
   "cell_type": "markdown",
   "metadata": {},
   "source": [
    "### 3. Is the mean value of the first 150 rows of the `sulphates` column not equal to 0.65?"
   ]
  },
  {
   "attachments": {},
   "cell_type": "markdown",
   "metadata": {},
   "source": [
    "Step 1 : Specifying the null hypothesis (<b>H<sub>0</sub>)\n",
    "\n",
    "<b>H<sub>0</sub> : *&mu;* = 0.65</b>"
   ]
  },
  {
   "attachments": {},
   "cell_type": "markdown",
   "metadata": {},
   "source": [
    "Step 2 : Specifying the alternative hypothesis (H<sub>1</sub>)\n",
    "\n",
    "<b>H<sub>1</sub> : *&mu;* ≠ 0.65 (two-tailed test)</b>"
   ]
  },
  {
   "cell_type": "markdown",
   "metadata": {},
   "source": [
    "Step 3 : Decide the level of significance (α)\n",
    "\n",
    "<b>α = 0.05</b>"
   ]
  },
  {
   "attachments": {},
   "cell_type": "markdown",
   "metadata": {},
   "source": [
    "Step 4 : Choosing the appropriate statistical test and determine the critical area\n",
    "\n",
    "<b>\n",
    "Statistical test = T-Test &rarr; Variance of population is unknown<br>\n",
    "Critical area = t < - t<sub>0.025, 149</sub> and t > t<sub>0.025, 149</sub>\n",
    "</b>"
   ]
  },
  {
   "cell_type": "code",
   "execution_count": 486,
   "metadata": {},
   "outputs": [
    {
     "data": {
      "text/markdown": [
       "Critical Value = ± 1.9760131776791554"
      ],
      "text/plain": [
       "<IPython.core.display.Markdown object>"
      ]
     },
     "metadata": {},
     "output_type": "display_data"
    },
    {
     "data": {
      "text/markdown": [
       "So, the t-value must be greater than 1.9760131776791554 or less than - 1.9760131776791554 to reject the null hypothesis"
      ],
      "text/plain": [
       "<IPython.core.display.Markdown object>"
      ]
     },
     "metadata": {},
     "output_type": "display_data"
    }
   ],
   "source": [
    "t_critical_value = abs(calculate_t_critical_value(0.025, 149))\n",
    "\n",
    "display(Markdown(f\"Critical Value = \\xB1 {t_critical_value}\"))\n",
    "display(Markdown(f\"So, the t-value must be greater than {t_critical_value} or less than - {t_critical_value} to reject the null hypothesis\"))"
   ]
  },
  {
   "attachments": {},
   "cell_type": "markdown",
   "metadata": {},
   "source": [
    "Step 5 : Calculate T-Test and P-Value from Data Sample"
   ]
  },
  {
   "cell_type": "markdown",
   "metadata": {},
   "source": [
    "The formula of t-value:\n",
    "\n",
    "$$ t = \\frac{\\bar{x_{}} - μ_{0}} {s/\\sqrt{n}} $$"
   ]
  },
  {
   "cell_type": "code",
   "execution_count": 487,
   "metadata": {},
   "outputs": [
    {
     "data": {
      "text/html": [
       "<div>\n",
       "<style scoped>\n",
       "    .dataframe tbody tr th:only-of-type {\n",
       "        vertical-align: middle;\n",
       "    }\n",
       "\n",
       "    .dataframe tbody tr th {\n",
       "        vertical-align: top;\n",
       "    }\n",
       "\n",
       "    .dataframe thead th {\n",
       "        text-align: right;\n",
       "    }\n",
       "</style>\n",
       "<table border=\"1\" class=\"dataframe\">\n",
       "  <thead>\n",
       "    <tr style=\"text-align: right;\">\n",
       "      <th></th>\n",
       "      <th>fixed acidity</th>\n",
       "      <th>volatile acidity</th>\n",
       "      <th>citric acid</th>\n",
       "      <th>residual sugar</th>\n",
       "      <th>chlorides</th>\n",
       "      <th>free sulfur dioxide</th>\n",
       "      <th>total sulfur dioxide</th>\n",
       "      <th>density</th>\n",
       "      <th>pH</th>\n",
       "      <th>sulphates</th>\n",
       "      <th>alcohol</th>\n",
       "      <th>quality</th>\n",
       "    </tr>\n",
       "  </thead>\n",
       "  <tbody>\n",
       "    <tr>\n",
       "      <th>0</th>\n",
       "      <td>5.90</td>\n",
       "      <td>0.4451</td>\n",
       "      <td>0.1813</td>\n",
       "      <td>2.049401</td>\n",
       "      <td>0.070574</td>\n",
       "      <td>16.593818</td>\n",
       "      <td>42.27</td>\n",
       "      <td>0.9982</td>\n",
       "      <td>3.27</td>\n",
       "      <td>0.71</td>\n",
       "      <td>8.64</td>\n",
       "      <td>7</td>\n",
       "    </tr>\n",
       "    <tr>\n",
       "      <th>1</th>\n",
       "      <td>8.40</td>\n",
       "      <td>0.5768</td>\n",
       "      <td>0.2099</td>\n",
       "      <td>3.109590</td>\n",
       "      <td>0.101681</td>\n",
       "      <td>22.555519</td>\n",
       "      <td>16.01</td>\n",
       "      <td>0.9960</td>\n",
       "      <td>3.35</td>\n",
       "      <td>0.57</td>\n",
       "      <td>10.03</td>\n",
       "      <td>8</td>\n",
       "    </tr>\n",
       "    <tr>\n",
       "      <th>2</th>\n",
       "      <td>7.54</td>\n",
       "      <td>0.5918</td>\n",
       "      <td>0.3248</td>\n",
       "      <td>3.673744</td>\n",
       "      <td>0.072416</td>\n",
       "      <td>9.316866</td>\n",
       "      <td>35.52</td>\n",
       "      <td>0.9990</td>\n",
       "      <td>3.31</td>\n",
       "      <td>0.64</td>\n",
       "      <td>9.23</td>\n",
       "      <td>8</td>\n",
       "    </tr>\n",
       "    <tr>\n",
       "      <th>3</th>\n",
       "      <td>5.39</td>\n",
       "      <td>0.4201</td>\n",
       "      <td>0.3131</td>\n",
       "      <td>3.371815</td>\n",
       "      <td>0.072755</td>\n",
       "      <td>18.212300</td>\n",
       "      <td>41.97</td>\n",
       "      <td>0.9945</td>\n",
       "      <td>3.34</td>\n",
       "      <td>0.55</td>\n",
       "      <td>14.07</td>\n",
       "      <td>9</td>\n",
       "    </tr>\n",
       "    <tr>\n",
       "      <th>4</th>\n",
       "      <td>6.51</td>\n",
       "      <td>0.5675</td>\n",
       "      <td>0.1940</td>\n",
       "      <td>4.404723</td>\n",
       "      <td>0.066379</td>\n",
       "      <td>9.360591</td>\n",
       "      <td>46.27</td>\n",
       "      <td>0.9925</td>\n",
       "      <td>3.27</td>\n",
       "      <td>0.45</td>\n",
       "      <td>11.49</td>\n",
       "      <td>8</td>\n",
       "    </tr>\n",
       "    <tr>\n",
       "      <th>...</th>\n",
       "      <td>...</td>\n",
       "      <td>...</td>\n",
       "      <td>...</td>\n",
       "      <td>...</td>\n",
       "      <td>...</td>\n",
       "      <td>...</td>\n",
       "      <td>...</td>\n",
       "      <td>...</td>\n",
       "      <td>...</td>\n",
       "      <td>...</td>\n",
       "      <td>...</td>\n",
       "      <td>...</td>\n",
       "    </tr>\n",
       "    <tr>\n",
       "      <th>145</th>\n",
       "      <td>6.95</td>\n",
       "      <td>0.6208</td>\n",
       "      <td>0.2290</td>\n",
       "      <td>2.754654</td>\n",
       "      <td>0.112577</td>\n",
       "      <td>17.574028</td>\n",
       "      <td>49.56</td>\n",
       "      <td>0.9955</td>\n",
       "      <td>3.35</td>\n",
       "      <td>0.73</td>\n",
       "      <td>10.18</td>\n",
       "      <td>8</td>\n",
       "    </tr>\n",
       "    <tr>\n",
       "      <th>146</th>\n",
       "      <td>7.75</td>\n",
       "      <td>0.4674</td>\n",
       "      <td>0.3274</td>\n",
       "      <td>3.217126</td>\n",
       "      <td>0.108268</td>\n",
       "      <td>11.898973</td>\n",
       "      <td>35.76</td>\n",
       "      <td>0.9996</td>\n",
       "      <td>3.34</td>\n",
       "      <td>0.79</td>\n",
       "      <td>11.11</td>\n",
       "      <td>8</td>\n",
       "    </tr>\n",
       "    <tr>\n",
       "      <th>147</th>\n",
       "      <td>9.05</td>\n",
       "      <td>0.4682</td>\n",
       "      <td>0.2965</td>\n",
       "      <td>3.764248</td>\n",
       "      <td>0.079567</td>\n",
       "      <td>15.533967</td>\n",
       "      <td>27.50</td>\n",
       "      <td>0.9934</td>\n",
       "      <td>3.26</td>\n",
       "      <td>0.73</td>\n",
       "      <td>10.95</td>\n",
       "      <td>9</td>\n",
       "    </tr>\n",
       "    <tr>\n",
       "      <th>148</th>\n",
       "      <td>6.91</td>\n",
       "      <td>0.6403</td>\n",
       "      <td>0.1973</td>\n",
       "      <td>0.978649</td>\n",
       "      <td>0.050830</td>\n",
       "      <td>20.351469</td>\n",
       "      <td>38.92</td>\n",
       "      <td>0.9962</td>\n",
       "      <td>3.10</td>\n",
       "      <td>0.63</td>\n",
       "      <td>11.67</td>\n",
       "      <td>8</td>\n",
       "    </tr>\n",
       "    <tr>\n",
       "      <th>149</th>\n",
       "      <td>7.37</td>\n",
       "      <td>0.3637</td>\n",
       "      <td>0.3091</td>\n",
       "      <td>2.073881</td>\n",
       "      <td>0.058615</td>\n",
       "      <td>22.407884</td>\n",
       "      <td>64.03</td>\n",
       "      <td>0.9924</td>\n",
       "      <td>3.39</td>\n",
       "      <td>0.60</td>\n",
       "      <td>12.04</td>\n",
       "      <td>9</td>\n",
       "    </tr>\n",
       "  </tbody>\n",
       "</table>\n",
       "<p>150 rows × 12 columns</p>\n",
       "</div>"
      ],
      "text/plain": [
       "     fixed acidity  volatile acidity  citric acid  residual sugar  chlorides  \\\n",
       "0             5.90            0.4451       0.1813        2.049401   0.070574   \n",
       "1             8.40            0.5768       0.2099        3.109590   0.101681   \n",
       "2             7.54            0.5918       0.3248        3.673744   0.072416   \n",
       "3             5.39            0.4201       0.3131        3.371815   0.072755   \n",
       "4             6.51            0.5675       0.1940        4.404723   0.066379   \n",
       "..             ...               ...          ...             ...        ...   \n",
       "145           6.95            0.6208       0.2290        2.754654   0.112577   \n",
       "146           7.75            0.4674       0.3274        3.217126   0.108268   \n",
       "147           9.05            0.4682       0.2965        3.764248   0.079567   \n",
       "148           6.91            0.6403       0.1973        0.978649   0.050830   \n",
       "149           7.37            0.3637       0.3091        2.073881   0.058615   \n",
       "\n",
       "     free sulfur dioxide  total sulfur dioxide  density    pH  sulphates  \\\n",
       "0              16.593818                 42.27   0.9982  3.27       0.71   \n",
       "1              22.555519                 16.01   0.9960  3.35       0.57   \n",
       "2               9.316866                 35.52   0.9990  3.31       0.64   \n",
       "3              18.212300                 41.97   0.9945  3.34       0.55   \n",
       "4               9.360591                 46.27   0.9925  3.27       0.45   \n",
       "..                   ...                   ...      ...   ...        ...   \n",
       "145            17.574028                 49.56   0.9955  3.35       0.73   \n",
       "146            11.898973                 35.76   0.9996  3.34       0.79   \n",
       "147            15.533967                 27.50   0.9934  3.26       0.73   \n",
       "148            20.351469                 38.92   0.9962  3.10       0.63   \n",
       "149            22.407884                 64.03   0.9924  3.39       0.60   \n",
       "\n",
       "     alcohol  quality  \n",
       "0       8.64        7  \n",
       "1      10.03        8  \n",
       "2       9.23        8  \n",
       "3      14.07        9  \n",
       "4      11.49        8  \n",
       "..       ...      ...  \n",
       "145    10.18        8  \n",
       "146    11.11        8  \n",
       "147    10.95        9  \n",
       "148    11.67        8  \n",
       "149    12.04        9  \n",
       "\n",
       "[150 rows x 12 columns]"
      ]
     },
     "execution_count": 487,
     "metadata": {},
     "output_type": "execute_result"
    }
   ],
   "source": [
    "sample_first_150_anggur = df[:150]\n",
    "sample_first_150_anggur"
   ]
  },
  {
   "cell_type": "code",
   "execution_count": 488,
   "metadata": {},
   "outputs": [
    {
     "data": {
      "text/markdown": [
       "Computed Average : 0.6058666666666667"
      ],
      "text/plain": [
       "<IPython.core.display.Markdown object>"
      ]
     },
     "metadata": {},
     "output_type": "display_data"
    },
    {
     "data": {
      "text/markdown": [
       "Computed Standard Derivation : 0.10886964477104125"
      ],
      "text/plain": [
       "<IPython.core.display.Markdown object>"
      ]
     },
     "metadata": {},
     "output_type": "display_data"
    },
    {
     "data": {
      "text/markdown": [
       "T-Value : -4.964843393315918"
      ],
      "text/plain": [
       "<IPython.core.display.Markdown object>"
      ]
     },
     "metadata": {},
     "output_type": "display_data"
    },
    {
     "data": {
      "text/markdown": [
       "P-Value : 1.8590151211750339e-06"
      ],
      "text/plain": [
       "<IPython.core.display.Markdown object>"
      ]
     },
     "metadata": {},
     "output_type": "display_data"
    }
   ],
   "source": [
    "t_value, p_value = t_test_mean(sample_first_150_anggur, \"sulphates\", 0.65, 2)"
   ]
  },
  {
   "attachments": {},
   "cell_type": "markdown",
   "metadata": {},
   "source": [
    "Step 6 : Make a decision and conclusion\n",
    "\n",
    "<b>Reject H<sub>0</sub> and conclude that the mean Sulphates value is not equal to 0.65 but less than 0.65 because the T-Value is far less than the critical value (t < -1.976) and the P-Value is also far less than 0.05 (level of significance)</b>"
   ]
  },
  {
   "attachments": {},
   "cell_type": "markdown",
   "metadata": {},
   "source": [
    "### 4. Is the mean value of `total sulfur dioxide` below 35? "
   ]
  },
  {
   "attachments": {},
   "cell_type": "markdown",
   "metadata": {},
   "source": [
    "Step 1 : Specifying the null hypothesis (**H<sub>0</sub>**)\n",
    "\n",
    "**H<sub>0</sub> : *&mu;* = 35**"
   ]
  },
  {
   "attachments": {},
   "cell_type": "markdown",
   "metadata": {},
   "source": [
    "Step 2 : Specifying the alternative hypothesis (**H<sub>1</sub>**)\n",
    "\n",
    "**H<sub>1</sub> : *&mu;* < 35** (one-tailed test)"
   ]
  },
  {
   "attachments": {},
   "cell_type": "markdown",
   "metadata": {},
   "source": [
    "Step 3 : Decide the level of significance (α)\n",
    "\n",
    "**&alpha; = 0.05**"
   ]
  },
  {
   "attachments": {},
   "cell_type": "markdown",
   "metadata": {},
   "source": [
    "Step 4 : Choosing the appropriate statistical test and determine the critical area\n",
    "\n",
    "<b>\n",
    "Statistical test = T-Test &rarr; Variance of population is unknown<br>\n",
    "Critical area = t < t<sub>0.05, 999</sub>\n",
    "</b>"
   ]
  },
  {
   "cell_type": "code",
   "execution_count": 489,
   "metadata": {},
   "outputs": [
    {
     "data": {
      "text/markdown": [
       "Critical Value = ± -1.6463803454275356"
      ],
      "text/plain": [
       "<IPython.core.display.Markdown object>"
      ]
     },
     "metadata": {},
     "output_type": "display_data"
    },
    {
     "data": {
      "text/markdown": [
       "So, the t-value must be greater than -1.6463803454275356 or less than - -1.6463803454275356 to reject the null hypothesis"
      ],
      "text/plain": [
       "<IPython.core.display.Markdown object>"
      ]
     },
     "metadata": {},
     "output_type": "display_data"
    }
   ],
   "source": [
    "t_critical_value = calculate_t_critical_value(0.05, 999)\n",
    "\n",
    "display(Markdown(f\"Critical Value = \\xB1 {t_critical_value}\"))\n",
    "display(Markdown(f\"So, the t-value must be greater than {t_critical_value} or less than - {t_critical_value} to reject the null hypothesis\"))"
   ]
  },
  {
   "attachments": {},
   "cell_type": "markdown",
   "metadata": {},
   "source": [
    "Step 5 : Calculate T-Test and P-Value from Data Sample"
   ]
  },
  {
   "cell_type": "markdown",
   "metadata": {},
   "source": [
    "The formula of t-value:\n",
    "\n",
    "$$ t = \\frac{\\bar{x_{}} - μ_{0}} {s/\\sqrt{n}} $$"
   ]
  },
  {
   "cell_type": "code",
   "execution_count": 490,
   "metadata": {},
   "outputs": [
    {
     "data": {
      "text/markdown": [
       "Computed Average : 40.290150000000004"
      ],
      "text/plain": [
       "<IPython.core.display.Markdown object>"
      ]
     },
     "metadata": {},
     "output_type": "display_data"
    },
    {
     "data": {
      "text/markdown": [
       "Computed Standard Derivation : 9.965767376218295"
      ],
      "text/plain": [
       "<IPython.core.display.Markdown object>"
      ]
     },
     "metadata": {},
     "output_type": "display_data"
    },
    {
     "data": {
      "text/markdown": [
       "T-Value : 16.786387372296744"
      ],
      "text/plain": [
       "<IPython.core.display.Markdown object>"
      ]
     },
     "metadata": {},
     "output_type": "display_data"
    },
    {
     "data": {
      "text/markdown": [
       "P-Value : 1.0"
      ],
      "text/plain": [
       "<IPython.core.display.Markdown object>"
      ]
     },
     "metadata": {},
     "output_type": "display_data"
    }
   ],
   "source": [
    "t_value, p_value = t_test_mean(df, \"total sulfur dioxide\", 35, 1)"
   ]
  },
  {
   "attachments": {},
   "cell_type": "markdown",
   "metadata": {},
   "source": [
    "Step 6 : Make a decision and conclusion\n",
    "\n",
    "<b>Do not reject H<sub>0</sub> and cannot conclude that the mean total sulfur dioxide is less than 35 because the T-Value is not less than the critical value (t > -1.6464)</b>"
   ]
  },
  {
   "attachments": {},
   "cell_type": "markdown",
   "metadata": {},
   "source": [
    "### 5. Is the proportion of the `total sulfur dioxide` that is more than 40, not the same as 50%?"
   ]
  },
  {
   "attachments": {},
   "cell_type": "markdown",
   "metadata": {},
   "source": [
    "Step 1 : Specifying the null hypothesis (**H<sub>0</sub>**)\n",
    "\n",
    "**H<sub>0</sub> : p = 0.5**"
   ]
  },
  {
   "attachments": {},
   "cell_type": "markdown",
   "metadata": {},
   "source": [
    "Step 2 : Specifying the alternative hypothesis (**H<sub>1</sub>**)\n",
    "\n",
    "**H<sub>1</sub> : p ≠ 0.5**"
   ]
  },
  {
   "cell_type": "markdown",
   "metadata": {},
   "source": [
    "Step 3 : Decide the level of significance (α)\n",
    "\n",
    "**&alpha; = 0.05**"
   ]
  },
  {
   "attachments": {},
   "cell_type": "markdown",
   "metadata": {},
   "source": [
    "Step 4 : Choosing the appropriate statistical test and determine the critical area\n",
    "\n",
    "<b>\n",
    "Statistical test = Z-Test &rarr; Proportion, not mean<br>\n",
    "Critical area = Z < - Z<sub>0.025</sub> and Z > Z<sub>0.025</sub>\n",
    "</b>"
   ]
  },
  {
   "cell_type": "code",
   "execution_count": 491,
   "metadata": {},
   "outputs": [
    {
     "data": {
      "text/markdown": [
       "Critical Value = ± 1.9599639845400545"
      ],
      "text/plain": [
       "<IPython.core.display.Markdown object>"
      ]
     },
     "metadata": {},
     "output_type": "display_data"
    },
    {
     "data": {
      "text/markdown": [
       "So, the t-value must be greater than 1.9599639845400545 or less than - 1.9599639845400545 to reject the null hypothesis"
      ],
      "text/plain": [
       "<IPython.core.display.Markdown object>"
      ]
     },
     "metadata": {},
     "output_type": "display_data"
    }
   ],
   "source": [
    "z_critical_value = abs(scipy.stats.norm.ppf(0.05 / 2))\n",
    "\n",
    "display(Markdown(f\"Critical Value = \\xB1 {z_critical_value}\"))\n",
    "display(Markdown(f\"So, the t-value must be greater than {z_critical_value} or less than - {z_critical_value} to reject the null hypothesis\"))"
   ]
  },
  {
   "attachments": {},
   "cell_type": "markdown",
   "metadata": {},
   "source": [
    "Step 5 : Calculate Z-Test and P-Value from Data Sample"
   ]
  },
  {
   "attachments": {},
   "cell_type": "markdown",
   "metadata": {},
   "source": [
    "The formula of z-value:\n",
    "\n",
    "$$ Z = \\frac{\\hat{p} - p_0}{\\sqrt{\\frac{p_0(1-p_0)}{n}}} $$"
   ]
  },
  {
   "cell_type": "code",
   "execution_count": 492,
   "metadata": {},
   "outputs": [
    {
     "data": {
      "text/html": [
       "<div>\n",
       "<style scoped>\n",
       "    .dataframe tbody tr th:only-of-type {\n",
       "        vertical-align: middle;\n",
       "    }\n",
       "\n",
       "    .dataframe tbody tr th {\n",
       "        vertical-align: top;\n",
       "    }\n",
       "\n",
       "    .dataframe thead th {\n",
       "        text-align: right;\n",
       "    }\n",
       "</style>\n",
       "<table border=\"1\" class=\"dataframe\">\n",
       "  <thead>\n",
       "    <tr style=\"text-align: right;\">\n",
       "      <th></th>\n",
       "      <th>fixed acidity</th>\n",
       "      <th>volatile acidity</th>\n",
       "      <th>citric acid</th>\n",
       "      <th>residual sugar</th>\n",
       "      <th>chlorides</th>\n",
       "      <th>free sulfur dioxide</th>\n",
       "      <th>total sulfur dioxide</th>\n",
       "      <th>density</th>\n",
       "      <th>pH</th>\n",
       "      <th>sulphates</th>\n",
       "      <th>alcohol</th>\n",
       "      <th>quality</th>\n",
       "    </tr>\n",
       "  </thead>\n",
       "  <tbody>\n",
       "    <tr>\n",
       "      <th>0</th>\n",
       "      <td>5.90</td>\n",
       "      <td>0.4451</td>\n",
       "      <td>0.1813</td>\n",
       "      <td>2.049401</td>\n",
       "      <td>0.070574</td>\n",
       "      <td>16.593818</td>\n",
       "      <td>42.27</td>\n",
       "      <td>0.9982</td>\n",
       "      <td>3.27</td>\n",
       "      <td>0.71</td>\n",
       "      <td>8.64</td>\n",
       "      <td>7</td>\n",
       "    </tr>\n",
       "    <tr>\n",
       "      <th>3</th>\n",
       "      <td>5.39</td>\n",
       "      <td>0.4201</td>\n",
       "      <td>0.3131</td>\n",
       "      <td>3.371815</td>\n",
       "      <td>0.072755</td>\n",
       "      <td>18.212300</td>\n",
       "      <td>41.97</td>\n",
       "      <td>0.9945</td>\n",
       "      <td>3.34</td>\n",
       "      <td>0.55</td>\n",
       "      <td>14.07</td>\n",
       "      <td>9</td>\n",
       "    </tr>\n",
       "    <tr>\n",
       "      <th>4</th>\n",
       "      <td>6.51</td>\n",
       "      <td>0.5675</td>\n",
       "      <td>0.1940</td>\n",
       "      <td>4.404723</td>\n",
       "      <td>0.066379</td>\n",
       "      <td>9.360591</td>\n",
       "      <td>46.27</td>\n",
       "      <td>0.9925</td>\n",
       "      <td>3.27</td>\n",
       "      <td>0.45</td>\n",
       "      <td>11.49</td>\n",
       "      <td>8</td>\n",
       "    </tr>\n",
       "    <tr>\n",
       "      <th>5</th>\n",
       "      <td>9.18</td>\n",
       "      <td>0.3332</td>\n",
       "      <td>0.2476</td>\n",
       "      <td>2.633491</td>\n",
       "      <td>0.082304</td>\n",
       "      <td>12.232170</td>\n",
       "      <td>51.05</td>\n",
       "      <td>0.9965</td>\n",
       "      <td>3.40</td>\n",
       "      <td>0.63</td>\n",
       "      <td>10.82</td>\n",
       "      <td>8</td>\n",
       "    </tr>\n",
       "    <tr>\n",
       "      <th>6</th>\n",
       "      <td>4.29</td>\n",
       "      <td>0.4997</td>\n",
       "      <td>0.2932</td>\n",
       "      <td>3.781844</td>\n",
       "      <td>0.079649</td>\n",
       "      <td>10.152389</td>\n",
       "      <td>44.26</td>\n",
       "      <td>0.9969</td>\n",
       "      <td>3.47</td>\n",
       "      <td>0.44</td>\n",
       "      <td>9.76</td>\n",
       "      <td>7</td>\n",
       "    </tr>\n",
       "    <tr>\n",
       "      <th>...</th>\n",
       "      <td>...</td>\n",
       "      <td>...</td>\n",
       "      <td>...</td>\n",
       "      <td>...</td>\n",
       "      <td>...</td>\n",
       "      <td>...</td>\n",
       "      <td>...</td>\n",
       "      <td>...</td>\n",
       "      <td>...</td>\n",
       "      <td>...</td>\n",
       "      <td>...</td>\n",
       "      <td>...</td>\n",
       "    </tr>\n",
       "    <tr>\n",
       "      <th>992</th>\n",
       "      <td>5.62</td>\n",
       "      <td>0.4597</td>\n",
       "      <td>0.2868</td>\n",
       "      <td>2.314833</td>\n",
       "      <td>0.041796</td>\n",
       "      <td>21.445849</td>\n",
       "      <td>41.54</td>\n",
       "      <td>0.9980</td>\n",
       "      <td>3.27</td>\n",
       "      <td>0.71</td>\n",
       "      <td>11.23</td>\n",
       "      <td>8</td>\n",
       "    </tr>\n",
       "    <tr>\n",
       "      <th>993</th>\n",
       "      <td>4.88</td>\n",
       "      <td>0.5899</td>\n",
       "      <td>0.2721</td>\n",
       "      <td>3.004077</td>\n",
       "      <td>0.095569</td>\n",
       "      <td>22.288864</td>\n",
       "      <td>45.74</td>\n",
       "      <td>0.9947</td>\n",
       "      <td>3.23</td>\n",
       "      <td>0.79</td>\n",
       "      <td>8.57</td>\n",
       "      <td>6</td>\n",
       "    </tr>\n",
       "    <tr>\n",
       "      <th>995</th>\n",
       "      <td>7.96</td>\n",
       "      <td>0.6046</td>\n",
       "      <td>0.2662</td>\n",
       "      <td>1.592048</td>\n",
       "      <td>0.057555</td>\n",
       "      <td>14.892445</td>\n",
       "      <td>44.61</td>\n",
       "      <td>0.9975</td>\n",
       "      <td>3.35</td>\n",
       "      <td>0.54</td>\n",
       "      <td>10.41</td>\n",
       "      <td>8</td>\n",
       "    </tr>\n",
       "    <tr>\n",
       "      <th>997</th>\n",
       "      <td>6.11</td>\n",
       "      <td>0.4841</td>\n",
       "      <td>0.3720</td>\n",
       "      <td>2.377267</td>\n",
       "      <td>0.042806</td>\n",
       "      <td>21.624585</td>\n",
       "      <td>48.75</td>\n",
       "      <td>0.9928</td>\n",
       "      <td>3.23</td>\n",
       "      <td>0.55</td>\n",
       "      <td>9.94</td>\n",
       "      <td>7</td>\n",
       "    </tr>\n",
       "    <tr>\n",
       "      <th>998</th>\n",
       "      <td>7.76</td>\n",
       "      <td>0.3590</td>\n",
       "      <td>0.3208</td>\n",
       "      <td>4.294486</td>\n",
       "      <td>0.098276</td>\n",
       "      <td>12.746186</td>\n",
       "      <td>44.53</td>\n",
       "      <td>0.9952</td>\n",
       "      <td>3.30</td>\n",
       "      <td>0.66</td>\n",
       "      <td>9.76</td>\n",
       "      <td>8</td>\n",
       "    </tr>\n",
       "  </tbody>\n",
       "</table>\n",
       "<p>512 rows × 12 columns</p>\n",
       "</div>"
      ],
      "text/plain": [
       "     fixed acidity  volatile acidity  citric acid  residual sugar  chlorides  \\\n",
       "0             5.90            0.4451       0.1813        2.049401   0.070574   \n",
       "3             5.39            0.4201       0.3131        3.371815   0.072755   \n",
       "4             6.51            0.5675       0.1940        4.404723   0.066379   \n",
       "5             9.18            0.3332       0.2476        2.633491   0.082304   \n",
       "6             4.29            0.4997       0.2932        3.781844   0.079649   \n",
       "..             ...               ...          ...             ...        ...   \n",
       "992           5.62            0.4597       0.2868        2.314833   0.041796   \n",
       "993           4.88            0.5899       0.2721        3.004077   0.095569   \n",
       "995           7.96            0.6046       0.2662        1.592048   0.057555   \n",
       "997           6.11            0.4841       0.3720        2.377267   0.042806   \n",
       "998           7.76            0.3590       0.3208        4.294486   0.098276   \n",
       "\n",
       "     free sulfur dioxide  total sulfur dioxide  density    pH  sulphates  \\\n",
       "0              16.593818                 42.27   0.9982  3.27       0.71   \n",
       "3              18.212300                 41.97   0.9945  3.34       0.55   \n",
       "4               9.360591                 46.27   0.9925  3.27       0.45   \n",
       "5              12.232170                 51.05   0.9965  3.40       0.63   \n",
       "6              10.152389                 44.26   0.9969  3.47       0.44   \n",
       "..                   ...                   ...      ...   ...        ...   \n",
       "992            21.445849                 41.54   0.9980  3.27       0.71   \n",
       "993            22.288864                 45.74   0.9947  3.23       0.79   \n",
       "995            14.892445                 44.61   0.9975  3.35       0.54   \n",
       "997            21.624585                 48.75   0.9928  3.23       0.55   \n",
       "998            12.746186                 44.53   0.9952  3.30       0.66   \n",
       "\n",
       "     alcohol  quality  \n",
       "0       8.64        7  \n",
       "3      14.07        9  \n",
       "4      11.49        8  \n",
       "5      10.82        8  \n",
       "6       9.76        7  \n",
       "..       ...      ...  \n",
       "992    11.23        8  \n",
       "993     8.57        6  \n",
       "995    10.41        8  \n",
       "997     9.94        7  \n",
       "998     9.76        8  \n",
       "\n",
       "[512 rows x 12 columns]"
      ]
     },
     "execution_count": 492,
     "metadata": {},
     "output_type": "execute_result"
    }
   ],
   "source": [
    "tsd_more_than_40 = df[df[\"total sulfur dioxide\"] > 40]\n",
    "tsd_more_than_40"
   ]
  },
  {
   "cell_type": "code",
   "execution_count": 493,
   "metadata": {},
   "outputs": [
    {
     "data": {
      "text/markdown": [
       "n       : 1000"
      ],
      "text/plain": [
       "<IPython.core.display.Markdown object>"
      ]
     },
     "metadata": {},
     "output_type": "display_data"
    },
    {
     "data": {
      "text/markdown": [
       "x       : 512"
      ],
      "text/plain": [
       "<IPython.core.display.Markdown object>"
      ]
     },
     "metadata": {},
     "output_type": "display_data"
    },
    {
     "data": {
      "text/markdown": [
       "Z-Value : 0.7589466384404118"
      ],
      "text/plain": [
       "<IPython.core.display.Markdown object>"
      ]
     },
     "metadata": {},
     "output_type": "display_data"
    },
    {
     "data": {
      "text/markdown": [
       "P-Value : 0.4478844782641115"
      ],
      "text/plain": [
       "<IPython.core.display.Markdown object>"
      ]
     },
     "metadata": {},
     "output_type": "display_data"
    }
   ],
   "source": [
    "z_test_proportion(df, tsd_more_than_40, 0.5)"
   ]
  },
  {
   "attachments": {},
   "cell_type": "markdown",
   "metadata": {},
   "source": [
    "Step 6 : Make a decision and conclusion\n",
    "\n",
    "<b>Don't reject H<sub>0</sub> and cannot conclude that the proportion of total sulfur dioxide is not equal to 50 because the Z-Value is not less than the critical value (Z > -1.96) and not greater than the critical value (Z < 1.96)</b>"
   ]
  },
  {
   "attachments": {},
   "cell_type": "markdown",
   "metadata": {},
   "source": [
    "## Multi-sample Hypothesis Testing"
   ]
  },
  {
   "cell_type": "code",
   "execution_count": 494,
   "metadata": {},
   "outputs": [],
   "source": [
    "def compare_two_variance(sample1, sample2, LOS):\n",
    "    F = sample1.var() / sample2.var()\n",
    "    p = scipy.stats.f.cdf(F, len(sample1) - 1, len(sample2) - 1)\n",
    "\n",
    "    if p < LOS:\n",
    "        return False\n",
    "    else:\n",
    "        return True"
   ]
  },
  {
   "cell_type": "code",
   "execution_count": 495,
   "metadata": {},
   "outputs": [],
   "source": [
    "def two_sample_hypothesis_test(data1, data2, alpha, d0, tail, equal_var=False, operator=\"Not Equal\"):\n",
    "    \"\"\"\n",
    "    Perform a hypothesis test using the t-test.\n",
    "\n",
    "    Parameters:\n",
    "    data1 (series): The first data to be tested.\n",
    "    data2 (series): The second data to be tested.\n",
    "    alpha (float): The level of significance for the test.\n",
    "    d0 (float): The difference between mean.\n",
    "    tail (int): The type of test to be performed (1 or 2) tailed.\n",
    "    operator (string) : Less, Greater, or Not Equal\n",
    "\n",
    "    Returns:\n",
    "    results (Series): A Pandas Series containing the test statistic, p-value, and conclusion.\n",
    "    \"\"\"\n",
    "\n",
    "    # Calculate the sample variance\n",
    "    s1 = data1.std()\n",
    "    s2 = data2.std()\n",
    "    n1, n2 = len(data1), len(data2)\n",
    "    \n",
    "    # Perform the t-test\n",
    "    if equal_var:\n",
    "        # Calculate the degrees of freedom\n",
    "        dof = n1 + n2 - 2\n",
    "\n",
    "        # Calculate t-statistic\n",
    "        sp = sqrt(((n1-1) * (s1**2) + (n2-1) * (s2**2)) / (n1+n2-2))\n",
    "        t_stat = ((data1.mean() - data2.mean()) - d0)/(sp * sqrt(1/n1 + 1/n2))\n",
    "    else:\n",
    "        # Calculate the degrees of freedom\n",
    "        dof = (s1**2 / n1 + s2**2 / n2)**2 / (((s1**2/n1)**2/(n1-1)) + ((s2**2/n2)**2/(n2-1)))\n",
    "        t_stat = ((data1.mean() - data2.mean()) - d0)/(sqrt(s1**2/n1 + s2**2/n2))\n",
    "\n",
    "    if tail == 2:\n",
    "        p_val = 2 * (1 - scipy.stats.t.cdf(abs(t_stat), dof))\n",
    "    else:\n",
    "        p_val = scipy.stats.t.cdf(t_stat, dof)\n",
    "    \n",
    "    # Determine the critical value and the rejection region\n",
    "    if tail == 2:\n",
    "        cv = t.ppf(1 - alpha / 2, dof)\n",
    "        not_crit_region = (-cv, cv)\n",
    "    else:\n",
    "        cv = t.ppf(1 - alpha, dof)\n",
    "        if t_stat < 0:\n",
    "            not_crit_region = (-float(\"inf\"), -cv)\n",
    "        else:\n",
    "            not_crit_region = (cv, float(\"inf\"))\n",
    "\n",
    "    # Determine the conclusion\n",
    "    if tail == 2:\n",
    "        if p_val / 2 < alpha and t_stat not in not_crit_region:\n",
    "            conclusion = 'Reject the null hypothesis'\n",
    "        else:\n",
    "            conclusion = 'Fail to reject the null hypothesis'\n",
    "    else:\n",
    "        if operator == \"Less\":\n",
    "            if p_val < alpha and t_stat not in not_crit_region:\n",
    "                conclusion = 'Reject the null hypothesis'\n",
    "            else:\n",
    "                conclusion = 'Fail to reject the null hypothesis'\n",
    "        else: # Greater\n",
    "            if p_val > alpha and t_stat not in not_crit_region:\n",
    "                conclusion = 'Reject the null hypothesis'\n",
    "            else:\n",
    "                conclusion = 'Fail to reject the null hypothesis'\n",
    "\n",
    "    # Create a Pandas Series with the results\n",
    "    results = pd.Series({\n",
    "        'test statistic': t_stat,\n",
    "        'p-value': p_val,\n",
    "        'conclusion': conclusion\n",
    "    })\n",
    "\n",
    "    return results"
   ]
  },
  {
   "cell_type": "code",
   "execution_count": 496,
   "metadata": {},
   "outputs": [],
   "source": [
    "def calculate_f_critical_value(dfnum, dfden, alpha):\n",
    "    \"\"\"\n",
    "    Calculates the F critical value for a given alpha level and degrees of freedom\n",
    "    for the numerator and denominator.\n",
    "    \n",
    "    Parameters:\n",
    "    dfnum (int): Degrees of freedom for the numerator.\n",
    "    dfden (int): Degrees of freedom for the denominator.\n",
    "    alpha (float): Alpha level for the test.\n",
    "\n",
    "    Returns:\n",
    "    f_crit (float): F critical value.\n",
    "    \"\"\"\n",
    "\n",
    "    f_crit = f.ppf(1 - alpha, dfnum, dfden)\n",
    "    return f_crit"
   ]
  },
  {
   "attachments": {},
   "cell_type": "markdown",
   "metadata": {},
   "source": [
    "### 1. Can the mean of `fixed acidity` for the first and second half of the data be considered the same?"
   ]
  },
  {
   "attachments": {},
   "cell_type": "markdown",
   "metadata": {},
   "source": [
    "Step 1 : Specifying the null hypothesis (**H<sub>0</sub>**)\n",
    "\n",
    "**H<sub>0</sub> : mean of fixed acidity first half = mean of fixed acidity second half**"
   ]
  },
  {
   "attachments": {},
   "cell_type": "markdown",
   "metadata": {},
   "source": [
    "Step 2 : Specifying the alternative hypothesis (**H<sub>1</sub>**)\n",
    "\n",
    "**H<sub>1</sub> : mean of fixed acidity first half ≠ mean of fixed acidity second half**"
   ]
  },
  {
   "cell_type": "markdown",
   "metadata": {},
   "source": [
    "Step 3 : Decide the level of significance (α)\n",
    "\n",
    "**&alpha; = 0.05**"
   ]
  },
  {
   "attachments": {},
   "cell_type": "markdown",
   "metadata": {},
   "source": [
    "Step 4 : Choosing the appropriate statistical test and determine the critical area\n",
    "\n",
    "<b>\n",
    "Statistical test = T-Test &rarr; Variance of population is unknown but proofed that both variances are equal with F-Test<br>\n",
    "Critical area = t < - t<sub>0.025, 998</sub> and t > t<sub>0.025, 998</sub>\n",
    "</b>"
   ]
  },
  {
   "cell_type": "markdown",
   "metadata": {},
   "source": [
    "The formula of F-Test:\n",
    "\n",
    "$$ F=\\frac{s_1^2}{s_2^2} $$"
   ]
  },
  {
   "cell_type": "code",
   "execution_count": 497,
   "metadata": {},
   "outputs": [
    {
     "data": {
      "text/markdown": [
       "Variances are equal."
      ],
      "text/plain": [
       "<IPython.core.display.Markdown object>"
      ]
     },
     "metadata": {},
     "output_type": "display_data"
    }
   ],
   "source": [
    "eq_var = compare_two_variance(df['fixed acidity'][:len(df)//2], df['fixed acidity'][len(df)//2:], 0.05)\n",
    "\n",
    "if (eq_var):\n",
    "    display(Markdown(\"Variances are equal.\"))\n",
    "else:\n",
    "    display(Markdown(\"Variances are not equal.\"))"
   ]
  },
  {
   "cell_type": "code",
   "execution_count": 498,
   "metadata": {},
   "outputs": [
    {
     "data": {
      "text/markdown": [
       "Critical Value = ± 1.962343846216334"
      ],
      "text/plain": [
       "<IPython.core.display.Markdown object>"
      ]
     },
     "metadata": {},
     "output_type": "display_data"
    },
    {
     "data": {
      "text/markdown": [
       "So, the t-value must be greater than 1.962343846216334 or less than - 1.962343846216334 to reject the null hypothesis"
      ],
      "text/plain": [
       "<IPython.core.display.Markdown object>"
      ]
     },
     "metadata": {},
     "output_type": "display_data"
    }
   ],
   "source": [
    "t_critical_value = abs(calculate_t_critical_value(0.025, 998))\n",
    "\n",
    "display(Markdown(f\"Critical Value = \\xB1 {t_critical_value}\"))\n",
    "display(Markdown(f\"So, the t-value must be greater than {t_critical_value} or less than - {t_critical_value} to reject the null hypothesis\"))"
   ]
  },
  {
   "cell_type": "markdown",
   "metadata": {},
   "source": [
    "Step 5 : Calculate T-Test and P-Value from Data Sample"
   ]
  },
  {
   "attachments": {},
   "cell_type": "markdown",
   "metadata": {},
   "source": [
    "The formula of t-test two sample with equal variances but unknown:\n",
    "\n",
    "$$ t=\\frac{(\\bar{x_1}-\\bar{x_2}) - {d_0}}{s_p\\sqrt{\\frac{1}{n_1}+\\frac{1}{n_2}}} $$\n",
    "\n",
    "The formula of $s_p$ :\n",
    "\n",
    "$$ s_p=\\sqrt{\\frac{(n_1-1)s_1^2+(n_2-1)s_2^2}{n_1+n_2-2}} $$"
   ]
  },
  {
   "cell_type": "code",
   "execution_count": 499,
   "metadata": {},
   "outputs": [
    {
     "data": {
      "text/plain": [
       "test statistic                              0.026041\n",
       "p-value                                      0.97923\n",
       "conclusion        Fail to reject the null hypothesis\n",
       "dtype: object"
      ]
     },
     "execution_count": 499,
     "metadata": {},
     "output_type": "execute_result"
    }
   ],
   "source": [
    "two_sample_hypothesis_test(df['fixed acidity'][:len(df)//2], df['fixed acidity'][len(df)//2:], 0.05, 0, 2, eq_var)"
   ]
  },
  {
   "attachments": {},
   "cell_type": "markdown",
   "metadata": {},
   "source": [
    "Step 6 : Make a decision and conclusion\n",
    "\n",
    "<b>Don't reject H<sub>0</sub> and cannot conclude that the mean of fixed acidity first half is not equal to the mean of fixed acidity second half because the T-Value is not less than the critical value (T > -1.96) and not greater than the critical value (T < 1.96)</b>"
   ]
  },
  {
   "attachments": {},
   "cell_type": "markdown",
   "metadata": {},
   "source": [
    "### 2. Is the difference between the mean of `chlorides` for the first and second half of the data equals to 0.001?"
   ]
  },
  {
   "attachments": {},
   "cell_type": "markdown",
   "metadata": {},
   "source": [
    "Step 1 : Specifying the null hypothesis (**H<sub>0</sub>**)\n",
    "\n",
    "**H<sub>0</sub> : mean of chlorides first half - mean of chlorides second half = 0.001**"
   ]
  },
  {
   "attachments": {},
   "cell_type": "markdown",
   "metadata": {},
   "source": [
    "Step 2 : Specifying the alternative hypothesis (**H<sub>1</sub>**)\n",
    "\n",
    "**H<sub>1</sub> : mean of chlorides first half - mean of chlorides second half ≠ 0.001**"
   ]
  },
  {
   "cell_type": "markdown",
   "metadata": {},
   "source": [
    "Step 3 : Decide the level of significance (α)\n",
    "\n",
    "**&alpha; = 0.05**"
   ]
  },
  {
   "cell_type": "markdown",
   "metadata": {},
   "source": [
    "Step 4 : Choosing the appropriate statistical test and determine the critical area\n",
    "\n",
    "<b>\n",
    "Statistical test = T-Test &rarr; Variance of population is unknown but proofed that both variances are equal with F-Test<br>\n",
    "Critical area = t < - t<sub>0.025, 998</sub> and t > t<sub>0.025, 998</sub>\n",
    "</b>"
   ]
  },
  {
   "cell_type": "markdown",
   "metadata": {},
   "source": [
    "The formula of F-Test:\n",
    "\n",
    "$$ F=\\frac{s_1^2}{s_2^2} $$"
   ]
  },
  {
   "cell_type": "code",
   "execution_count": 500,
   "metadata": {},
   "outputs": [
    {
     "data": {
      "text/markdown": [
       "Variances are equal."
      ],
      "text/plain": [
       "<IPython.core.display.Markdown object>"
      ]
     },
     "metadata": {},
     "output_type": "display_data"
    }
   ],
   "source": [
    "eq_var = compare_two_variance(df['chlorides'][:len(df)//2], df['chlorides'][len(df)//2:], 0.05)\n",
    "\n",
    "if (eq_var):\n",
    "    display(Markdown(\"Variances are equal.\"))\n",
    "else:\n",
    "    display(Markdown(\"Variances are not equal.\"))"
   ]
  },
  {
   "cell_type": "code",
   "execution_count": 501,
   "metadata": {},
   "outputs": [
    {
     "data": {
      "text/markdown": [
       "Critical Value = ± 1.962343846216334"
      ],
      "text/plain": [
       "<IPython.core.display.Markdown object>"
      ]
     },
     "metadata": {},
     "output_type": "display_data"
    },
    {
     "data": {
      "text/markdown": [
       "So, the t-value must be greater than 1.962343846216334 or less than - 1.962343846216334 to reject the null hypothesis"
      ],
      "text/plain": [
       "<IPython.core.display.Markdown object>"
      ]
     },
     "metadata": {},
     "output_type": "display_data"
    }
   ],
   "source": [
    "t_critical_value = abs(calculate_t_critical_value(0.025, 998))\n",
    "\n",
    "display(Markdown(f\"Critical Value = \\xB1 {t_critical_value}\"))\n",
    "display(Markdown(f\"So, the t-value must be greater than {t_critical_value} or less than - {t_critical_value} to reject the null hypothesis\"))"
   ]
  },
  {
   "cell_type": "markdown",
   "metadata": {},
   "source": [
    "Step 5 : Calculate T-Test and P-Value from Data Sample"
   ]
  },
  {
   "cell_type": "markdown",
   "metadata": {},
   "source": [
    "The formula of t-test two sample with equal variances but unknown:\n",
    "\n",
    "$$ t=\\frac{(\\bar{x_1}-\\bar{x_2}) - {d_0}}{s_p\\sqrt{\\frac{1}{n_1}+\\frac{1}{n_2}}} $$\n",
    "\n",
    "The formula of $s_p$ :\n",
    "\n",
    "$$ s_p=\\sqrt{\\frac{(n_1-1)s_1^2+(n_2-1)s_2^2}{n_1+n_2-2}} $$"
   ]
  },
  {
   "cell_type": "code",
   "execution_count": 502,
   "metadata": {},
   "outputs": [
    {
     "data": {
      "text/plain": [
       "test statistic                             -0.467317\n",
       "p-value                                     0.640375\n",
       "conclusion        Fail to reject the null hypothesis\n",
       "dtype: object"
      ]
     },
     "execution_count": 502,
     "metadata": {},
     "output_type": "execute_result"
    }
   ],
   "source": [
    "two_sample_hypothesis_test(df['chlorides'][:len(df)//2], df['chlorides'][len(df)//2:], 0.05, 0.001, 2, eq_var)"
   ]
  },
  {
   "cell_type": "markdown",
   "metadata": {},
   "source": [
    "Step 6 : Make a decision and conclusion\n",
    "\n",
    "<b>Don't reject H<sub>0</sub> and cannot conclude that the mean of fixed acidity first half is not equal to the mean of fixed acidity second half because the T-Value is not less than the critical value (T > -1.96) and not greater than the critical value (T < 1.96)</b>"
   ]
  },
  {
   "attachments": {},
   "cell_type": "markdown",
   "metadata": {},
   "source": [
    "### 3. Can the mean of `volatile acidity` and `sulphates` for the first 25 rows of the data be considered the same?"
   ]
  },
  {
   "attachments": {},
   "cell_type": "markdown",
   "metadata": {},
   "source": [
    "Step 1 : Specifying the null hypothesis (**H<sub>0</sub>**)\n",
    "\n",
    "**H<sub>0</sub> : mean of volatile acidity first 25 rows = mean of sulphates first 25 rows**"
   ]
  },
  {
   "attachments": {},
   "cell_type": "markdown",
   "metadata": {},
   "source": [
    "Step 2 : Specifying the alternative hypothesis (**H<sub>1</sub>**)\n",
    "\n",
    "**H<sub>1</sub> : mean of volatile acidity first 25 rows ≠ mean of sulphates first 25 rows**"
   ]
  },
  {
   "cell_type": "markdown",
   "metadata": {},
   "source": [
    "Step 3 : Decide the level of significance (α)\n",
    "\n",
    "**&alpha; = 0.05**"
   ]
  },
  {
   "attachments": {},
   "cell_type": "markdown",
   "metadata": {},
   "source": [
    "Step 4 : Choosing the appropriate statistical test and determine the critical area\n",
    "\n",
    "<b>\n",
    "Statistical test = T-Test &rarr; Variance of population is unknown and proofed that both variances are equal with F-Test<br>\n",
    "Critical area = t < - t<sub>0.025, 48</sub> and t > t<sub>0.025, 48</sub>\n",
    "</b>"
   ]
  },
  {
   "cell_type": "markdown",
   "metadata": {},
   "source": [
    "The formula of F-Test:\n",
    "\n",
    "$$ F=\\frac{s_1^2}{s_2^2} $$"
   ]
  },
  {
   "cell_type": "code",
   "execution_count": 503,
   "metadata": {},
   "outputs": [
    {
     "data": {
      "text/markdown": [
       "Variances are equal."
      ],
      "text/plain": [
       "<IPython.core.display.Markdown object>"
      ]
     },
     "metadata": {},
     "output_type": "display_data"
    }
   ],
   "source": [
    "eq_var = compare_two_variance(df['volatile acidity'][:25], df['sulphates'][:25], 0.05)\n",
    "\n",
    "if (eq_var):\n",
    "    display(Markdown(\"Variances are equal.\"))\n",
    "else:\n",
    "    display(Markdown(\"Variances are not equal.\"))"
   ]
  },
  {
   "cell_type": "code",
   "execution_count": 504,
   "metadata": {},
   "outputs": [
    {
     "name": "stdout",
     "output_type": "stream",
     "text": [
      "Degree of freedom = 48\n"
     ]
    },
    {
     "data": {
      "text/markdown": [
       "Critical Value = ± 2.010634754696446"
      ],
      "text/plain": [
       "<IPython.core.display.Markdown object>"
      ]
     },
     "metadata": {},
     "output_type": "display_data"
    },
    {
     "data": {
      "text/markdown": [
       "So, the t-value must be greater than 2.010634754696446 or less than - 2.010634754696446 to reject the null hypothesis"
      ],
      "text/plain": [
       "<IPython.core.display.Markdown object>"
      ]
     },
     "metadata": {},
     "output_type": "display_data"
    }
   ],
   "source": [
    "s1 = df['volatile acidity'][:25].std()\n",
    "s2 = df['sulphates'][:25].std()\n",
    "n1, n2 = 25, 25\n",
    "dof = n1 + n2 - 2\n",
    "print(\"Degree of freedom =\", dof)\n",
    "\n",
    "t_critical_value = abs(calculate_t_critical_value(0.025, dof))\n",
    "\n",
    "display(Markdown(f\"Critical Value = \\xB1 {t_critical_value}\"))\n",
    "display(Markdown(f\"So, the t-value must be greater than {t_critical_value} or less than - {t_critical_value} to reject the null hypothesis\"))"
   ]
  },
  {
   "cell_type": "markdown",
   "metadata": {},
   "source": [
    "Step 5 : Calculate T-Test and P-Value from Data Sample"
   ]
  },
  {
   "cell_type": "markdown",
   "metadata": {},
   "source": [
    "The formula of t-test two sample with equal variances but unknown:\n",
    "\n",
    "$$ t=\\frac{(\\bar{x_1}-\\bar{x_2}) - {d_0}}{s_p\\sqrt{\\frac{1}{n_1}+\\frac{1}{n_2}}} $$\n",
    "\n",
    "The formula of $s_p$ :\n",
    "\n",
    "$$ s_p=\\sqrt{\\frac{(n_1-1)s_1^2+(n_2-1)s_2^2}{n_1+n_2-2}} $$"
   ]
  },
  {
   "cell_type": "code",
   "execution_count": 505,
   "metadata": {},
   "outputs": [
    {
     "data": {
      "text/plain": [
       "test statistic                     -2.637482\n",
       "p-value                             0.011223\n",
       "conclusion        Reject the null hypothesis\n",
       "dtype: object"
      ]
     },
     "execution_count": 505,
     "metadata": {},
     "output_type": "execute_result"
    }
   ],
   "source": [
    "two_sample_hypothesis_test(df['volatile acidity'][:25], df['sulphates'][:25], 0.05, 0, 2, eq_var)"
   ]
  },
  {
   "attachments": {},
   "cell_type": "markdown",
   "metadata": {},
   "source": [
    "Step 6 : Make a decision and conclusion\n",
    "\n",
    "<b>Reject H<sub>0</sub> and conclude that the mean of volatile acidity first 25 rows is not equal to the mean of sulphates first 25 rows because the T-Value is less than the critical value (T < -2.016) and the P-Value is also less than the level of significance.</b>"
   ]
  },
  {
   "attachments": {},
   "cell_type": "markdown",
   "metadata": {},
   "source": [
    "### 4. Can the variance of `residual sugar` for the first and second half of the data be considered the same?"
   ]
  },
  {
   "attachments": {},
   "cell_type": "markdown",
   "metadata": {},
   "source": [
    "Step 1 : Specifying the null hypothesis (**H<sub>0</sub>**)\n",
    "\n",
    "**H<sub>0</sub> : σ²<sub> First half </sub> = σ²<sub> Second half </sub>**"
   ]
  },
  {
   "attachments": {},
   "cell_type": "markdown",
   "metadata": {},
   "source": [
    "Step 2 : Specifying the alternative hypothesis (**H<sub>1</sub>**)\n",
    "\n",
    "**H<sub>1</sub> : σ²<sub> First half </sub> ≠ σ²<sub> Second half </sub>**"
   ]
  },
  {
   "cell_type": "markdown",
   "metadata": {},
   "source": [
    "Step 3 : Decide the level of significance (α)\n",
    "\n",
    "**&alpha; = 0.05**"
   ]
  },
  {
   "attachments": {},
   "cell_type": "markdown",
   "metadata": {},
   "source": [
    "Step 4 : Choosing the appropriate statistical test and determine the critical area\n",
    "\n",
    "<b>\n",
    "Statistical test = F-Test &rarr; Compare the ratio of the variances of the two samples to a critical value that depends on the degrees of freedom of the two samples.  \n",
    "\n",
    "Critical area = F < F<sub>0.95</sub>(499, 499) and F > F<sub>0.05</sub>(499, 499)\n",
    "</b>"
   ]
  },
  {
   "cell_type": "code",
   "execution_count": 506,
   "metadata": {},
   "outputs": [
    {
     "data": {
      "text/markdown": [
       "Critical Value Upper = ± 1.1918474156364356"
      ],
      "text/plain": [
       "<IPython.core.display.Markdown object>"
      ]
     },
     "metadata": {},
     "output_type": "display_data"
    },
    {
     "data": {
      "text/markdown": [
       "Critical Value Lower = ± 0.8390335766814657"
      ],
      "text/plain": [
       "<IPython.core.display.Markdown object>"
      ]
     },
     "metadata": {},
     "output_type": "display_data"
    },
    {
     "data": {
      "text/markdown": [
       "So, the t-value must be greater than 1.1918474156364356 or less than - 0.8390335766814657 to reject the null hypothesis"
      ],
      "text/plain": [
       "<IPython.core.display.Markdown object>"
      ]
     },
     "metadata": {},
     "output_type": "display_data"
    }
   ],
   "source": [
    "f_upper_critical_value = abs(calculate_f_critical_value(500, 500, 0.025))\n",
    "f_lower_critical_value = abs(calculate_f_critical_value(500, 500, 0.975))\n",
    "\n",
    "display(Markdown(f\"Critical Value Upper = \\xB1 {f_upper_critical_value}\"))\n",
    "display(Markdown(f\"Critical Value Lower = \\xB1 {f_lower_critical_value}\"))\n",
    "display(Markdown(f\"So, the t-value must be greater than {f_upper_critical_value} or less than - {f_lower_critical_value} to reject the null hypothesis\"))"
   ]
  },
  {
   "attachments": {},
   "cell_type": "markdown",
   "metadata": {},
   "source": [
    "Step 5 : Calculate F-Test from Sample Data"
   ]
  },
  {
   "attachments": {},
   "cell_type": "markdown",
   "metadata": {},
   "source": [
    "The formula of F-Test:\n",
    "\n",
    "$$ F=\\frac{s_1^2}{s_2^2} $$"
   ]
  },
  {
   "cell_type": "code",
   "execution_count": 507,
   "metadata": {},
   "outputs": [
    {
     "data": {
      "text/markdown": [
       "F-value = 0.9420041066941615"
      ],
      "text/plain": [
       "<IPython.core.display.Markdown object>"
      ]
     },
     "metadata": {},
     "output_type": "display_data"
    },
    {
     "data": {
      "text/markdown": [
       "P-value = 0.747589820237691"
      ],
      "text/plain": [
       "<IPython.core.display.Markdown object>"
      ]
     },
     "metadata": {},
     "output_type": "display_data"
    }
   ],
   "source": [
    "F = df['residual sugar'][:len(df)//2].var() / df['residual sugar'][len(df)//2:].var()\n",
    "p = scipy.stats.f.sf(F, len(df['residual sugar'][:len(df)//2]) - 1, len(df['residual sugar'][len(df)//2:]) - 1)\n",
    "display(Markdown(f\"F-value = {F}\"))\n",
    "display(Markdown(f\"P-value = {p}\"))"
   ]
  },
  {
   "cell_type": "code",
   "execution_count": 508,
   "metadata": {},
   "outputs": [
    {
     "data": {
      "text/markdown": [
       "Variances are equal."
      ],
      "text/plain": [
       "<IPython.core.display.Markdown object>"
      ]
     },
     "metadata": {},
     "output_type": "display_data"
    }
   ],
   "source": [
    "eq_var = compare_two_variance(df['residual sugar'][:len(df)//2], df['residual sugar'][len(df)//2:], 0.05)\n",
    "\n",
    "if (eq_var):\n",
    "    display(Markdown(\"Variances are equal.\"))\n",
    "else:\n",
    "    display(Markdown(\"Variances are not equal.\"))"
   ]
  },
  {
   "attachments": {},
   "cell_type": "markdown",
   "metadata": {},
   "source": [
    "Step 6 : Make a decision and conclusion\n",
    "\n",
    "<b>Do not reject H<sub>0</sub> and cannot conclude that the variance of the first half of residual sugar is not equal to the variance of the second half of residual sugar, as the F-Value is not less than the critical value (F > -1.16) and not greater than the critical value (F < 1.16)</b>"
   ]
  },
  {
   "attachments": {},
   "cell_type": "markdown",
   "metadata": {},
   "source": [
    "### 5. Can the proportion of `alcohol` having a value greater than 7 on the first and second half be considered the same?"
   ]
  },
  {
   "attachments": {},
   "cell_type": "markdown",
   "metadata": {},
   "source": [
    "Step 1 : Specifying the null hypothesis (**H<sub>0</sub>**)\n",
    "\n",
    "**H<sub>0</sub> : p<sub>1</sub> = p<sub>2</sub>**"
   ]
  },
  {
   "attachments": {},
   "cell_type": "markdown",
   "metadata": {},
   "source": [
    "Step 2 : Specifying the alternative hypothesis (**H<sub>1</sub>**)\n",
    "\n",
    "**H<sub>1</sub> : p<sub>1</sub> > p<sub>2</sub>**"
   ]
  },
  {
   "cell_type": "markdown",
   "metadata": {},
   "source": [
    "Step 3 : Decide the level of significance (α)\n",
    "\n",
    "**&alpha; = 0.05**"
   ]
  },
  {
   "attachments": {},
   "cell_type": "markdown",
   "metadata": {},
   "source": [
    "Step 4 : Choosing the appropriate statistical test and determine the critical area\n",
    "\n",
    "\n",
    "**Statistical test = Z-Test &rarr; Proportion, not mean**  \n",
    "\n",
    "**Critical area = Z > Z<sub>0.05</sub>**"
   ]
  },
  {
   "cell_type": "code",
   "execution_count": 509,
   "metadata": {},
   "outputs": [
    {
     "data": {
      "text/markdown": [
       "Critical Value = ± 1.9599639845400545"
      ],
      "text/plain": [
       "<IPython.core.display.Markdown object>"
      ]
     },
     "metadata": {},
     "output_type": "display_data"
    },
    {
     "data": {
      "text/markdown": [
       "So, the Z-Value must be greater than 1.9599639845400545 to reject the null hypothesis"
      ],
      "text/plain": [
       "<IPython.core.display.Markdown object>"
      ]
     },
     "metadata": {},
     "output_type": "display_data"
    }
   ],
   "source": [
    "z_critical_value = abs(scipy.stats.norm.ppf(0.05 / 2))\n",
    "\n",
    "display(Markdown(f\"Critical Value = \\xB1 {z_critical_value}\"))\n",
    "display(Markdown(f\"So, the Z-Value must be greater than {z_critical_value} to reject the null hypothesis\"))"
   ]
  },
  {
   "attachments": {},
   "cell_type": "markdown",
   "metadata": {},
   "source": [
    "Step 5 : Calculate Z-Test and P-Value from Data Sample"
   ]
  },
  {
   "attachments": {},
   "cell_type": "markdown",
   "metadata": {},
   "source": [
    "The formula of z-test two sample for proportion :\n",
    "\n",
    "$$ z=\\frac{\\hat{p}_1-\\hat{p}_2}{\\sqrt{\\hat{p}(1-\\hat{p})\\left(\\frac{1}{n_1}+\\frac{1}{n_2}\\right)}} $$\n",
    "\n",
    "The formula of $\\hat{p}$\n",
    "\n",
    "$$ \\hat{p}=\\frac{x_1+x_2}{n_1+n_2} $$"
   ]
  },
  {
   "cell_type": "code",
   "execution_count": 510,
   "metadata": {},
   "outputs": [],
   "source": [
    "first_half_alcohol = df[:len(df)//2].loc[df['alcohol'] > 7]\n",
    "second_half_alcohol = df[len(df)//2:].loc[df['alcohol'] > 7]"
   ]
  },
  {
   "cell_type": "code",
   "execution_count": 511,
   "metadata": {},
   "outputs": [
    {
     "data": {
      "text/html": [
       "<div>\n",
       "<style scoped>\n",
       "    .dataframe tbody tr th:only-of-type {\n",
       "        vertical-align: middle;\n",
       "    }\n",
       "\n",
       "    .dataframe tbody tr th {\n",
       "        vertical-align: top;\n",
       "    }\n",
       "\n",
       "    .dataframe thead th {\n",
       "        text-align: right;\n",
       "    }\n",
       "</style>\n",
       "<table border=\"1\" class=\"dataframe\">\n",
       "  <thead>\n",
       "    <tr style=\"text-align: right;\">\n",
       "      <th></th>\n",
       "      <th>fixed acidity</th>\n",
       "      <th>volatile acidity</th>\n",
       "      <th>citric acid</th>\n",
       "      <th>residual sugar</th>\n",
       "      <th>chlorides</th>\n",
       "      <th>free sulfur dioxide</th>\n",
       "      <th>total sulfur dioxide</th>\n",
       "      <th>density</th>\n",
       "      <th>pH</th>\n",
       "      <th>sulphates</th>\n",
       "      <th>alcohol</th>\n",
       "      <th>quality</th>\n",
       "    </tr>\n",
       "  </thead>\n",
       "  <tbody>\n",
       "    <tr>\n",
       "      <th>0</th>\n",
       "      <td>5.90</td>\n",
       "      <td>0.4451</td>\n",
       "      <td>0.1813</td>\n",
       "      <td>2.049401</td>\n",
       "      <td>0.070574</td>\n",
       "      <td>16.593818</td>\n",
       "      <td>42.27</td>\n",
       "      <td>0.9982</td>\n",
       "      <td>3.27</td>\n",
       "      <td>0.71</td>\n",
       "      <td>8.64</td>\n",
       "      <td>7</td>\n",
       "    </tr>\n",
       "    <tr>\n",
       "      <th>1</th>\n",
       "      <td>8.40</td>\n",
       "      <td>0.5768</td>\n",
       "      <td>0.2099</td>\n",
       "      <td>3.109590</td>\n",
       "      <td>0.101681</td>\n",
       "      <td>22.555519</td>\n",
       "      <td>16.01</td>\n",
       "      <td>0.9960</td>\n",
       "      <td>3.35</td>\n",
       "      <td>0.57</td>\n",
       "      <td>10.03</td>\n",
       "      <td>8</td>\n",
       "    </tr>\n",
       "    <tr>\n",
       "      <th>2</th>\n",
       "      <td>7.54</td>\n",
       "      <td>0.5918</td>\n",
       "      <td>0.3248</td>\n",
       "      <td>3.673744</td>\n",
       "      <td>0.072416</td>\n",
       "      <td>9.316866</td>\n",
       "      <td>35.52</td>\n",
       "      <td>0.9990</td>\n",
       "      <td>3.31</td>\n",
       "      <td>0.64</td>\n",
       "      <td>9.23</td>\n",
       "      <td>8</td>\n",
       "    </tr>\n",
       "    <tr>\n",
       "      <th>3</th>\n",
       "      <td>5.39</td>\n",
       "      <td>0.4201</td>\n",
       "      <td>0.3131</td>\n",
       "      <td>3.371815</td>\n",
       "      <td>0.072755</td>\n",
       "      <td>18.212300</td>\n",
       "      <td>41.97</td>\n",
       "      <td>0.9945</td>\n",
       "      <td>3.34</td>\n",
       "      <td>0.55</td>\n",
       "      <td>14.07</td>\n",
       "      <td>9</td>\n",
       "    </tr>\n",
       "    <tr>\n",
       "      <th>4</th>\n",
       "      <td>6.51</td>\n",
       "      <td>0.5675</td>\n",
       "      <td>0.1940</td>\n",
       "      <td>4.404723</td>\n",
       "      <td>0.066379</td>\n",
       "      <td>9.360591</td>\n",
       "      <td>46.27</td>\n",
       "      <td>0.9925</td>\n",
       "      <td>3.27</td>\n",
       "      <td>0.45</td>\n",
       "      <td>11.49</td>\n",
       "      <td>8</td>\n",
       "    </tr>\n",
       "    <tr>\n",
       "      <th>...</th>\n",
       "      <td>...</td>\n",
       "      <td>...</td>\n",
       "      <td>...</td>\n",
       "      <td>...</td>\n",
       "      <td>...</td>\n",
       "      <td>...</td>\n",
       "      <td>...</td>\n",
       "      <td>...</td>\n",
       "      <td>...</td>\n",
       "      <td>...</td>\n",
       "      <td>...</td>\n",
       "      <td>...</td>\n",
       "    </tr>\n",
       "    <tr>\n",
       "      <th>494</th>\n",
       "      <td>5.94</td>\n",
       "      <td>0.4406</td>\n",
       "      <td>0.3149</td>\n",
       "      <td>3.329801</td>\n",
       "      <td>0.097498</td>\n",
       "      <td>14.527711</td>\n",
       "      <td>37.93</td>\n",
       "      <td>0.9933</td>\n",
       "      <td>3.36</td>\n",
       "      <td>0.46</td>\n",
       "      <td>8.60</td>\n",
       "      <td>7</td>\n",
       "    </tr>\n",
       "    <tr>\n",
       "      <th>496</th>\n",
       "      <td>7.82</td>\n",
       "      <td>0.3760</td>\n",
       "      <td>0.2012</td>\n",
       "      <td>3.743606</td>\n",
       "      <td>0.056809</td>\n",
       "      <td>18.885695</td>\n",
       "      <td>47.21</td>\n",
       "      <td>0.9969</td>\n",
       "      <td>3.31</td>\n",
       "      <td>0.55</td>\n",
       "      <td>14.56</td>\n",
       "      <td>10</td>\n",
       "    </tr>\n",
       "    <tr>\n",
       "      <th>497</th>\n",
       "      <td>7.17</td>\n",
       "      <td>0.5158</td>\n",
       "      <td>0.1855</td>\n",
       "      <td>2.803720</td>\n",
       "      <td>0.092192</td>\n",
       "      <td>17.949297</td>\n",
       "      <td>66.99</td>\n",
       "      <td>0.9963</td>\n",
       "      <td>3.08</td>\n",
       "      <td>0.72</td>\n",
       "      <td>9.95</td>\n",
       "      <td>8</td>\n",
       "    </tr>\n",
       "    <tr>\n",
       "      <th>498</th>\n",
       "      <td>7.57</td>\n",
       "      <td>0.5686</td>\n",
       "      <td>0.2382</td>\n",
       "      <td>3.365912</td>\n",
       "      <td>0.041608</td>\n",
       "      <td>5.066432</td>\n",
       "      <td>48.37</td>\n",
       "      <td>0.9979</td>\n",
       "      <td>3.38</td>\n",
       "      <td>0.59</td>\n",
       "      <td>9.73</td>\n",
       "      <td>8</td>\n",
       "    </tr>\n",
       "    <tr>\n",
       "      <th>499</th>\n",
       "      <td>7.03</td>\n",
       "      <td>0.6953</td>\n",
       "      <td>0.3534</td>\n",
       "      <td>2.328736</td>\n",
       "      <td>0.071467</td>\n",
       "      <td>13.300705</td>\n",
       "      <td>49.99</td>\n",
       "      <td>0.9956</td>\n",
       "      <td>3.48</td>\n",
       "      <td>0.52</td>\n",
       "      <td>8.37</td>\n",
       "      <td>7</td>\n",
       "    </tr>\n",
       "  </tbody>\n",
       "</table>\n",
       "<p>495 rows × 12 columns</p>\n",
       "</div>"
      ],
      "text/plain": [
       "     fixed acidity  volatile acidity  citric acid  residual sugar  chlorides  \\\n",
       "0             5.90            0.4451       0.1813        2.049401   0.070574   \n",
       "1             8.40            0.5768       0.2099        3.109590   0.101681   \n",
       "2             7.54            0.5918       0.3248        3.673744   0.072416   \n",
       "3             5.39            0.4201       0.3131        3.371815   0.072755   \n",
       "4             6.51            0.5675       0.1940        4.404723   0.066379   \n",
       "..             ...               ...          ...             ...        ...   \n",
       "494           5.94            0.4406       0.3149        3.329801   0.097498   \n",
       "496           7.82            0.3760       0.2012        3.743606   0.056809   \n",
       "497           7.17            0.5158       0.1855        2.803720   0.092192   \n",
       "498           7.57            0.5686       0.2382        3.365912   0.041608   \n",
       "499           7.03            0.6953       0.3534        2.328736   0.071467   \n",
       "\n",
       "     free sulfur dioxide  total sulfur dioxide  density    pH  sulphates  \\\n",
       "0              16.593818                 42.27   0.9982  3.27       0.71   \n",
       "1              22.555519                 16.01   0.9960  3.35       0.57   \n",
       "2               9.316866                 35.52   0.9990  3.31       0.64   \n",
       "3              18.212300                 41.97   0.9945  3.34       0.55   \n",
       "4               9.360591                 46.27   0.9925  3.27       0.45   \n",
       "..                   ...                   ...      ...   ...        ...   \n",
       "494            14.527711                 37.93   0.9933  3.36       0.46   \n",
       "496            18.885695                 47.21   0.9969  3.31       0.55   \n",
       "497            17.949297                 66.99   0.9963  3.08       0.72   \n",
       "498             5.066432                 48.37   0.9979  3.38       0.59   \n",
       "499            13.300705                 49.99   0.9956  3.48       0.52   \n",
       "\n",
       "     alcohol  quality  \n",
       "0       8.64        7  \n",
       "1      10.03        8  \n",
       "2       9.23        8  \n",
       "3      14.07        9  \n",
       "4      11.49        8  \n",
       "..       ...      ...  \n",
       "494     8.60        7  \n",
       "496    14.56       10  \n",
       "497     9.95        8  \n",
       "498     9.73        8  \n",
       "499     8.37        7  \n",
       "\n",
       "[495 rows x 12 columns]"
      ]
     },
     "execution_count": 511,
     "metadata": {},
     "output_type": "execute_result"
    }
   ],
   "source": [
    "first_half_alcohol"
   ]
  },
  {
   "cell_type": "code",
   "execution_count": 512,
   "metadata": {},
   "outputs": [
    {
     "data": {
      "text/html": [
       "<div>\n",
       "<style scoped>\n",
       "    .dataframe tbody tr th:only-of-type {\n",
       "        vertical-align: middle;\n",
       "    }\n",
       "\n",
       "    .dataframe tbody tr th {\n",
       "        vertical-align: top;\n",
       "    }\n",
       "\n",
       "    .dataframe thead th {\n",
       "        text-align: right;\n",
       "    }\n",
       "</style>\n",
       "<table border=\"1\" class=\"dataframe\">\n",
       "  <thead>\n",
       "    <tr style=\"text-align: right;\">\n",
       "      <th></th>\n",
       "      <th>fixed acidity</th>\n",
       "      <th>volatile acidity</th>\n",
       "      <th>citric acid</th>\n",
       "      <th>residual sugar</th>\n",
       "      <th>chlorides</th>\n",
       "      <th>free sulfur dioxide</th>\n",
       "      <th>total sulfur dioxide</th>\n",
       "      <th>density</th>\n",
       "      <th>pH</th>\n",
       "      <th>sulphates</th>\n",
       "      <th>alcohol</th>\n",
       "      <th>quality</th>\n",
       "    </tr>\n",
       "  </thead>\n",
       "  <tbody>\n",
       "    <tr>\n",
       "      <th>500</th>\n",
       "      <td>8.10</td>\n",
       "      <td>0.6758</td>\n",
       "      <td>0.1956</td>\n",
       "      <td>2.684752</td>\n",
       "      <td>0.079678</td>\n",
       "      <td>16.506123</td>\n",
       "      <td>53.75</td>\n",
       "      <td>0.9972</td>\n",
       "      <td>3.24</td>\n",
       "      <td>0.72</td>\n",
       "      <td>12.75</td>\n",
       "      <td>9</td>\n",
       "    </tr>\n",
       "    <tr>\n",
       "      <th>501</th>\n",
       "      <td>7.28</td>\n",
       "      <td>0.6842</td>\n",
       "      <td>0.3041</td>\n",
       "      <td>3.834531</td>\n",
       "      <td>0.094940</td>\n",
       "      <td>14.675257</td>\n",
       "      <td>45.25</td>\n",
       "      <td>0.9945</td>\n",
       "      <td>3.27</td>\n",
       "      <td>0.60</td>\n",
       "      <td>10.24</td>\n",
       "      <td>8</td>\n",
       "    </tr>\n",
       "    <tr>\n",
       "      <th>502</th>\n",
       "      <td>6.88</td>\n",
       "      <td>0.4673</td>\n",
       "      <td>0.2766</td>\n",
       "      <td>3.513471</td>\n",
       "      <td>0.074843</td>\n",
       "      <td>11.967985</td>\n",
       "      <td>42.31</td>\n",
       "      <td>0.9947</td>\n",
       "      <td>3.35</td>\n",
       "      <td>0.49</td>\n",
       "      <td>11.34</td>\n",
       "      <td>8</td>\n",
       "    </tr>\n",
       "    <tr>\n",
       "      <th>503</th>\n",
       "      <td>8.32</td>\n",
       "      <td>0.4955</td>\n",
       "      <td>0.2549</td>\n",
       "      <td>1.572885</td>\n",
       "      <td>0.091232</td>\n",
       "      <td>13.856693</td>\n",
       "      <td>41.27</td>\n",
       "      <td>0.9971</td>\n",
       "      <td>3.46</td>\n",
       "      <td>0.43</td>\n",
       "      <td>10.72</td>\n",
       "      <td>8</td>\n",
       "    </tr>\n",
       "    <tr>\n",
       "      <th>504</th>\n",
       "      <td>8.71</td>\n",
       "      <td>0.3536</td>\n",
       "      <td>0.2398</td>\n",
       "      <td>1.705161</td>\n",
       "      <td>0.085907</td>\n",
       "      <td>23.880561</td>\n",
       "      <td>25.59</td>\n",
       "      <td>0.9960</td>\n",
       "      <td>3.38</td>\n",
       "      <td>0.59</td>\n",
       "      <td>11.09</td>\n",
       "      <td>8</td>\n",
       "    </tr>\n",
       "    <tr>\n",
       "      <th>...</th>\n",
       "      <td>...</td>\n",
       "      <td>...</td>\n",
       "      <td>...</td>\n",
       "      <td>...</td>\n",
       "      <td>...</td>\n",
       "      <td>...</td>\n",
       "      <td>...</td>\n",
       "      <td>...</td>\n",
       "      <td>...</td>\n",
       "      <td>...</td>\n",
       "      <td>...</td>\n",
       "      <td>...</td>\n",
       "    </tr>\n",
       "    <tr>\n",
       "      <th>995</th>\n",
       "      <td>7.96</td>\n",
       "      <td>0.6046</td>\n",
       "      <td>0.2662</td>\n",
       "      <td>1.592048</td>\n",
       "      <td>0.057555</td>\n",
       "      <td>14.892445</td>\n",
       "      <td>44.61</td>\n",
       "      <td>0.9975</td>\n",
       "      <td>3.35</td>\n",
       "      <td>0.54</td>\n",
       "      <td>10.41</td>\n",
       "      <td>8</td>\n",
       "    </tr>\n",
       "    <tr>\n",
       "      <th>996</th>\n",
       "      <td>8.48</td>\n",
       "      <td>0.4080</td>\n",
       "      <td>0.2227</td>\n",
       "      <td>0.681955</td>\n",
       "      <td>0.051627</td>\n",
       "      <td>23.548965</td>\n",
       "      <td>25.83</td>\n",
       "      <td>0.9972</td>\n",
       "      <td>3.41</td>\n",
       "      <td>0.46</td>\n",
       "      <td>9.91</td>\n",
       "      <td>8</td>\n",
       "    </tr>\n",
       "    <tr>\n",
       "      <th>997</th>\n",
       "      <td>6.11</td>\n",
       "      <td>0.4841</td>\n",
       "      <td>0.3720</td>\n",
       "      <td>2.377267</td>\n",
       "      <td>0.042806</td>\n",
       "      <td>21.624585</td>\n",
       "      <td>48.75</td>\n",
       "      <td>0.9928</td>\n",
       "      <td>3.23</td>\n",
       "      <td>0.55</td>\n",
       "      <td>9.94</td>\n",
       "      <td>7</td>\n",
       "    </tr>\n",
       "    <tr>\n",
       "      <th>998</th>\n",
       "      <td>7.76</td>\n",
       "      <td>0.3590</td>\n",
       "      <td>0.3208</td>\n",
       "      <td>4.294486</td>\n",
       "      <td>0.098276</td>\n",
       "      <td>12.746186</td>\n",
       "      <td>44.53</td>\n",
       "      <td>0.9952</td>\n",
       "      <td>3.30</td>\n",
       "      <td>0.66</td>\n",
       "      <td>9.76</td>\n",
       "      <td>8</td>\n",
       "    </tr>\n",
       "    <tr>\n",
       "      <th>999</th>\n",
       "      <td>5.87</td>\n",
       "      <td>0.5214</td>\n",
       "      <td>0.1883</td>\n",
       "      <td>2.179490</td>\n",
       "      <td>0.052923</td>\n",
       "      <td>16.203864</td>\n",
       "      <td>24.37</td>\n",
       "      <td>0.9983</td>\n",
       "      <td>3.29</td>\n",
       "      <td>0.70</td>\n",
       "      <td>10.17</td>\n",
       "      <td>7</td>\n",
       "    </tr>\n",
       "  </tbody>\n",
       "</table>\n",
       "<p>495 rows × 12 columns</p>\n",
       "</div>"
      ],
      "text/plain": [
       "     fixed acidity  volatile acidity  citric acid  residual sugar  chlorides  \\\n",
       "500           8.10            0.6758       0.1956        2.684752   0.079678   \n",
       "501           7.28            0.6842       0.3041        3.834531   0.094940   \n",
       "502           6.88            0.4673       0.2766        3.513471   0.074843   \n",
       "503           8.32            0.4955       0.2549        1.572885   0.091232   \n",
       "504           8.71            0.3536       0.2398        1.705161   0.085907   \n",
       "..             ...               ...          ...             ...        ...   \n",
       "995           7.96            0.6046       0.2662        1.592048   0.057555   \n",
       "996           8.48            0.4080       0.2227        0.681955   0.051627   \n",
       "997           6.11            0.4841       0.3720        2.377267   0.042806   \n",
       "998           7.76            0.3590       0.3208        4.294486   0.098276   \n",
       "999           5.87            0.5214       0.1883        2.179490   0.052923   \n",
       "\n",
       "     free sulfur dioxide  total sulfur dioxide  density    pH  sulphates  \\\n",
       "500            16.506123                 53.75   0.9972  3.24       0.72   \n",
       "501            14.675257                 45.25   0.9945  3.27       0.60   \n",
       "502            11.967985                 42.31   0.9947  3.35       0.49   \n",
       "503            13.856693                 41.27   0.9971  3.46       0.43   \n",
       "504            23.880561                 25.59   0.9960  3.38       0.59   \n",
       "..                   ...                   ...      ...   ...        ...   \n",
       "995            14.892445                 44.61   0.9975  3.35       0.54   \n",
       "996            23.548965                 25.83   0.9972  3.41       0.46   \n",
       "997            21.624585                 48.75   0.9928  3.23       0.55   \n",
       "998            12.746186                 44.53   0.9952  3.30       0.66   \n",
       "999            16.203864                 24.37   0.9983  3.29       0.70   \n",
       "\n",
       "     alcohol  quality  \n",
       "500    12.75        9  \n",
       "501    10.24        8  \n",
       "502    11.34        8  \n",
       "503    10.72        8  \n",
       "504    11.09        8  \n",
       "..       ...      ...  \n",
       "995    10.41        8  \n",
       "996     9.91        8  \n",
       "997     9.94        7  \n",
       "998     9.76        8  \n",
       "999    10.17        7  \n",
       "\n",
       "[495 rows x 12 columns]"
      ]
     },
     "execution_count": 512,
     "metadata": {},
     "output_type": "execute_result"
    }
   ],
   "source": [
    "second_half_alcohol"
   ]
  },
  {
   "cell_type": "code",
   "execution_count": 513,
   "metadata": {},
   "outputs": [
    {
     "data": {
      "text/markdown": [
       "p1-hat = 0.99"
      ],
      "text/plain": [
       "<IPython.core.display.Markdown object>"
      ]
     },
     "metadata": {},
     "output_type": "display_data"
    },
    {
     "data": {
      "text/markdown": [
       "p2-hat = 0.99"
      ],
      "text/plain": [
       "<IPython.core.display.Markdown object>"
      ]
     },
     "metadata": {},
     "output_type": "display_data"
    },
    {
     "data": {
      "text/markdown": [
       "p-hat = 0.99"
      ],
      "text/plain": [
       "<IPython.core.display.Markdown object>"
      ]
     },
     "metadata": {},
     "output_type": "display_data"
    }
   ],
   "source": [
    "x1 = len(first_half_alcohol)\n",
    "x2 = len(second_half_alcohol)\n",
    "n1, n2 = len(df) // 2, len(df) // 2\n",
    "p1 = x1 / n1\n",
    "p2 = x2 / n2\n",
    "p = (x1 + x2) / (n1 + n2)\n",
    "\n",
    "display(Markdown(f\"p1-hat = {p1}\"))\n",
    "display(Markdown(f\"p2-hat = {p2}\"))\n",
    "display(Markdown(f\"p-hat = {p}\"))"
   ]
  },
  {
   "cell_type": "code",
   "execution_count": 514,
   "metadata": {},
   "outputs": [
    {
     "data": {
      "text/markdown": [
       "Z-Value = 0.0"
      ],
      "text/plain": [
       "<IPython.core.display.Markdown object>"
      ]
     },
     "metadata": {},
     "output_type": "display_data"
    },
    {
     "data": {
      "text/markdown": [
       "P-Value = 0.5"
      ],
      "text/plain": [
       "<IPython.core.display.Markdown object>"
      ]
     },
     "metadata": {},
     "output_type": "display_data"
    }
   ],
   "source": [
    "z_value = (p1-p2) / sqrt(p * (1-p) * (1/n1 + 1/n2))\n",
    "p_value = scipy.stats.norm.sf(abs(z_value))\n",
    "\n",
    "display(Markdown(f\"Z-Value = {z_value}\"))\n",
    "display(Markdown(f\"P-Value = {p_value}\"))"
   ]
  },
  {
   "attachments": {},
   "cell_type": "markdown",
   "metadata": {},
   "source": [
    "Step 6 : Make a decision and conclusion\n",
    "\n",
    "<b>Do not reject H<sub>0</sub> as the proportion in the first and second half is exactly the same concluded by normal inspection and backed by the Z-test, having the Z-value less than the critical value (Z < 1.96).</b>"
   ]
  }
 ],
 "metadata": {
  "kernelspec": {
   "display_name": "Python 3",
   "language": "python",
   "name": "python3"
  },
  "language_info": {
   "codemirror_mode": {
    "name": "ipython",
    "version": 3
   },
   "file_extension": ".py",
   "mimetype": "text/x-python",
   "name": "python",
   "nbconvert_exporter": "python",
   "pygments_lexer": "ipython3",
   "version": "3.9.6"
  },
  "orig_nbformat": 4,
  "vscode": {
   "interpreter": {
    "hash": "aee8b7b246df8f9039afb4144a1f6fd8d2ca17a180786b69acc140d282b71a49"
   }
  }
 },
 "nbformat": 4,
 "nbformat_minor": 2
}
