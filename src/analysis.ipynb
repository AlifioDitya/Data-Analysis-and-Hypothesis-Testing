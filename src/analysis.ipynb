{
 "cells": [
  {
   "attachments": {},
   "cell_type": "markdown",
   "metadata": {},
   "source": [
    "# Tugas Besar Probabilitas dan Statistika\n",
    "### Analisis Data dan Tes Hipotesis\n",
    "\n",
    "<a href=\"https://github.com/maikeljh\">Michael Jonathan Halim - 13521124</a>  \n",
    "<a href=\"https://github.com/alifioditya\">Enrique Alifio Ditya - 13521142</a>"
   ]
  },
  {
   "attachments": {},
   "cell_type": "markdown",
   "metadata": {},
   "source": [
    "# Import Necessary Libraries"
   ]
  },
  {
   "cell_type": "code",
   "execution_count": 208,
   "metadata": {},
   "outputs": [],
   "source": [
    "import pandas as pd\n",
    "import numpy as np\n",
    "import matplotlib.pyplot as plt\n",
    "import seaborn as sns\n",
    "import plotly.express as px\n",
    "import scipy\n",
    "from math import sqrt\n",
    "from scipy.stats import t, f"
   ]
  },
  {
   "attachments": {},
   "cell_type": "markdown",
   "metadata": {},
   "source": [
    "# Import Dataset"
   ]
  },
  {
   "cell_type": "code",
   "execution_count": 209,
   "metadata": {},
   "outputs": [
    {
     "data": {
      "text/html": [
       "<div>\n",
       "<style scoped>\n",
       "    .dataframe tbody tr th:only-of-type {\n",
       "        vertical-align: middle;\n",
       "    }\n",
       "\n",
       "    .dataframe tbody tr th {\n",
       "        vertical-align: top;\n",
       "    }\n",
       "\n",
       "    .dataframe thead th {\n",
       "        text-align: right;\n",
       "    }\n",
       "</style>\n",
       "<table border=\"1\" class=\"dataframe\">\n",
       "  <thead>\n",
       "    <tr style=\"text-align: right;\">\n",
       "      <th></th>\n",
       "      <th>fixed acidity</th>\n",
       "      <th>volatile acidity</th>\n",
       "      <th>citric acid</th>\n",
       "      <th>residual sugar</th>\n",
       "      <th>chlorides</th>\n",
       "      <th>free sulfur dioxide</th>\n",
       "      <th>total sulfur dioxide</th>\n",
       "      <th>density</th>\n",
       "      <th>pH</th>\n",
       "      <th>sulphates</th>\n",
       "      <th>alcohol</th>\n",
       "      <th>quality</th>\n",
       "    </tr>\n",
       "  </thead>\n",
       "  <tbody>\n",
       "    <tr>\n",
       "      <th>0</th>\n",
       "      <td>5.90</td>\n",
       "      <td>0.4451</td>\n",
       "      <td>0.1813</td>\n",
       "      <td>2.049401</td>\n",
       "      <td>0.070574</td>\n",
       "      <td>16.593818</td>\n",
       "      <td>42.27</td>\n",
       "      <td>0.9982</td>\n",
       "      <td>3.27</td>\n",
       "      <td>0.71</td>\n",
       "      <td>8.64</td>\n",
       "      <td>7</td>\n",
       "    </tr>\n",
       "    <tr>\n",
       "      <th>1</th>\n",
       "      <td>8.40</td>\n",
       "      <td>0.5768</td>\n",
       "      <td>0.2099</td>\n",
       "      <td>3.109590</td>\n",
       "      <td>0.101681</td>\n",
       "      <td>22.555519</td>\n",
       "      <td>16.01</td>\n",
       "      <td>0.9960</td>\n",
       "      <td>3.35</td>\n",
       "      <td>0.57</td>\n",
       "      <td>10.03</td>\n",
       "      <td>8</td>\n",
       "    </tr>\n",
       "    <tr>\n",
       "      <th>2</th>\n",
       "      <td>7.54</td>\n",
       "      <td>0.5918</td>\n",
       "      <td>0.3248</td>\n",
       "      <td>3.673744</td>\n",
       "      <td>0.072416</td>\n",
       "      <td>9.316866</td>\n",
       "      <td>35.52</td>\n",
       "      <td>0.9990</td>\n",
       "      <td>3.31</td>\n",
       "      <td>0.64</td>\n",
       "      <td>9.23</td>\n",
       "      <td>8</td>\n",
       "    </tr>\n",
       "    <tr>\n",
       "      <th>3</th>\n",
       "      <td>5.39</td>\n",
       "      <td>0.4201</td>\n",
       "      <td>0.3131</td>\n",
       "      <td>3.371815</td>\n",
       "      <td>0.072755</td>\n",
       "      <td>18.212300</td>\n",
       "      <td>41.97</td>\n",
       "      <td>0.9945</td>\n",
       "      <td>3.34</td>\n",
       "      <td>0.55</td>\n",
       "      <td>14.07</td>\n",
       "      <td>9</td>\n",
       "    </tr>\n",
       "    <tr>\n",
       "      <th>4</th>\n",
       "      <td>6.51</td>\n",
       "      <td>0.5675</td>\n",
       "      <td>0.1940</td>\n",
       "      <td>4.404723</td>\n",
       "      <td>0.066379</td>\n",
       "      <td>9.360591</td>\n",
       "      <td>46.27</td>\n",
       "      <td>0.9925</td>\n",
       "      <td>3.27</td>\n",
       "      <td>0.45</td>\n",
       "      <td>11.49</td>\n",
       "      <td>8</td>\n",
       "    </tr>\n",
       "    <tr>\n",
       "      <th>...</th>\n",
       "      <td>...</td>\n",
       "      <td>...</td>\n",
       "      <td>...</td>\n",
       "      <td>...</td>\n",
       "      <td>...</td>\n",
       "      <td>...</td>\n",
       "      <td>...</td>\n",
       "      <td>...</td>\n",
       "      <td>...</td>\n",
       "      <td>...</td>\n",
       "      <td>...</td>\n",
       "      <td>...</td>\n",
       "    </tr>\n",
       "    <tr>\n",
       "      <th>995</th>\n",
       "      <td>7.96</td>\n",
       "      <td>0.6046</td>\n",
       "      <td>0.2662</td>\n",
       "      <td>1.592048</td>\n",
       "      <td>0.057555</td>\n",
       "      <td>14.892445</td>\n",
       "      <td>44.61</td>\n",
       "      <td>0.9975</td>\n",
       "      <td>3.35</td>\n",
       "      <td>0.54</td>\n",
       "      <td>10.41</td>\n",
       "      <td>8</td>\n",
       "    </tr>\n",
       "    <tr>\n",
       "      <th>996</th>\n",
       "      <td>8.48</td>\n",
       "      <td>0.4080</td>\n",
       "      <td>0.2227</td>\n",
       "      <td>0.681955</td>\n",
       "      <td>0.051627</td>\n",
       "      <td>23.548965</td>\n",
       "      <td>25.83</td>\n",
       "      <td>0.9972</td>\n",
       "      <td>3.41</td>\n",
       "      <td>0.46</td>\n",
       "      <td>9.91</td>\n",
       "      <td>8</td>\n",
       "    </tr>\n",
       "    <tr>\n",
       "      <th>997</th>\n",
       "      <td>6.11</td>\n",
       "      <td>0.4841</td>\n",
       "      <td>0.3720</td>\n",
       "      <td>2.377267</td>\n",
       "      <td>0.042806</td>\n",
       "      <td>21.624585</td>\n",
       "      <td>48.75</td>\n",
       "      <td>0.9928</td>\n",
       "      <td>3.23</td>\n",
       "      <td>0.55</td>\n",
       "      <td>9.94</td>\n",
       "      <td>7</td>\n",
       "    </tr>\n",
       "    <tr>\n",
       "      <th>998</th>\n",
       "      <td>7.76</td>\n",
       "      <td>0.3590</td>\n",
       "      <td>0.3208</td>\n",
       "      <td>4.294486</td>\n",
       "      <td>0.098276</td>\n",
       "      <td>12.746186</td>\n",
       "      <td>44.53</td>\n",
       "      <td>0.9952</td>\n",
       "      <td>3.30</td>\n",
       "      <td>0.66</td>\n",
       "      <td>9.76</td>\n",
       "      <td>8</td>\n",
       "    </tr>\n",
       "    <tr>\n",
       "      <th>999</th>\n",
       "      <td>5.87</td>\n",
       "      <td>0.5214</td>\n",
       "      <td>0.1883</td>\n",
       "      <td>2.179490</td>\n",
       "      <td>0.052923</td>\n",
       "      <td>16.203864</td>\n",
       "      <td>24.37</td>\n",
       "      <td>0.9983</td>\n",
       "      <td>3.29</td>\n",
       "      <td>0.70</td>\n",
       "      <td>10.17</td>\n",
       "      <td>7</td>\n",
       "    </tr>\n",
       "  </tbody>\n",
       "</table>\n",
       "<p>1000 rows × 12 columns</p>\n",
       "</div>"
      ],
      "text/plain": [
       "     fixed acidity  volatile acidity  citric acid  residual sugar  chlorides  \\\n",
       "0             5.90            0.4451       0.1813        2.049401   0.070574   \n",
       "1             8.40            0.5768       0.2099        3.109590   0.101681   \n",
       "2             7.54            0.5918       0.3248        3.673744   0.072416   \n",
       "3             5.39            0.4201       0.3131        3.371815   0.072755   \n",
       "4             6.51            0.5675       0.1940        4.404723   0.066379   \n",
       "..             ...               ...          ...             ...        ...   \n",
       "995           7.96            0.6046       0.2662        1.592048   0.057555   \n",
       "996           8.48            0.4080       0.2227        0.681955   0.051627   \n",
       "997           6.11            0.4841       0.3720        2.377267   0.042806   \n",
       "998           7.76            0.3590       0.3208        4.294486   0.098276   \n",
       "999           5.87            0.5214       0.1883        2.179490   0.052923   \n",
       "\n",
       "     free sulfur dioxide  total sulfur dioxide  density    pH  sulphates  \\\n",
       "0              16.593818                 42.27   0.9982  3.27       0.71   \n",
       "1              22.555519                 16.01   0.9960  3.35       0.57   \n",
       "2               9.316866                 35.52   0.9990  3.31       0.64   \n",
       "3              18.212300                 41.97   0.9945  3.34       0.55   \n",
       "4               9.360591                 46.27   0.9925  3.27       0.45   \n",
       "..                   ...                   ...      ...   ...        ...   \n",
       "995            14.892445                 44.61   0.9975  3.35       0.54   \n",
       "996            23.548965                 25.83   0.9972  3.41       0.46   \n",
       "997            21.624585                 48.75   0.9928  3.23       0.55   \n",
       "998            12.746186                 44.53   0.9952  3.30       0.66   \n",
       "999            16.203864                 24.37   0.9983  3.29       0.70   \n",
       "\n",
       "     alcohol  quality  \n",
       "0       8.64        7  \n",
       "1      10.03        8  \n",
       "2       9.23        8  \n",
       "3      14.07        9  \n",
       "4      11.49        8  \n",
       "..       ...      ...  \n",
       "995    10.41        8  \n",
       "996     9.91        8  \n",
       "997     9.94        7  \n",
       "998     9.76        8  \n",
       "999    10.17        7  \n",
       "\n",
       "[1000 rows x 12 columns]"
      ]
     },
     "execution_count": 209,
     "metadata": {},
     "output_type": "execute_result"
    }
   ],
   "source": [
    "df = pd.read_csv(\"../data/anggur.csv\")\n",
    "df"
   ]
  },
  {
   "attachments": {},
   "cell_type": "markdown",
   "metadata": {},
   "source": [
    "# Exploratory Data Analysis"
   ]
  },
  {
   "attachments": {},
   "cell_type": "markdown",
   "metadata": {},
   "source": [
    "For a full and thorough breakdown of the dataset, you can open the `EDA.html` file in the `public` folder."
   ]
  },
  {
   "attachments": {},
   "cell_type": "markdown",
   "metadata": {},
   "source": [
    "## Descriptive Statistics"
   ]
  },
  {
   "attachments": {},
   "cell_type": "markdown",
   "metadata": {},
   "source": [
    "### Missing Values"
   ]
  },
  {
   "cell_type": "code",
   "execution_count": 210,
   "metadata": {},
   "outputs": [
    {
     "name": "stdout",
     "output_type": "stream",
     "text": [
      "Missing Data: 0\n"
     ]
    }
   ],
   "source": [
    "missing_values = df.isnull().sum(axis=0)\n",
    "nan_cols = missing_values[missing_values > 0]\n",
    "print(\"Missing Data:\", len(nan_cols))"
   ]
  },
  {
   "attachments": {},
   "cell_type": "markdown",
   "metadata": {},
   "source": [
    "### Feature Information"
   ]
  },
  {
   "cell_type": "code",
   "execution_count": 211,
   "metadata": {},
   "outputs": [
    {
     "name": "stdout",
     "output_type": "stream",
     "text": [
      "<class 'pandas.core.frame.DataFrame'>\n",
      "RangeIndex: 1000 entries, 0 to 999\n",
      "Data columns (total 12 columns):\n",
      " #   Column                Non-Null Count  Dtype  \n",
      "---  ------                --------------  -----  \n",
      " 0   fixed acidity         1000 non-null   float64\n",
      " 1   volatile acidity      1000 non-null   float64\n",
      " 2   citric acid           1000 non-null   float64\n",
      " 3   residual sugar        1000 non-null   float64\n",
      " 4   chlorides             1000 non-null   float64\n",
      " 5   free sulfur dioxide   1000 non-null   float64\n",
      " 6   total sulfur dioxide  1000 non-null   float64\n",
      " 7   density               1000 non-null   float64\n",
      " 8   pH                    1000 non-null   float64\n",
      " 9   sulphates             1000 non-null   float64\n",
      " 10  alcohol               1000 non-null   float64\n",
      " 11  quality               1000 non-null   int64  \n",
      "dtypes: float64(11), int64(1)\n",
      "memory usage: 93.9 KB\n"
     ]
    }
   ],
   "source": [
    "df.info()"
   ]
  },
  {
   "attachments": {},
   "cell_type": "markdown",
   "metadata": {},
   "source": [
    "Based on the information above, all features are of numeric type"
   ]
  },
  {
   "attachments": {},
   "cell_type": "markdown",
   "metadata": {},
   "source": [
    "### Statistical Summary"
   ]
  },
  {
   "cell_type": "code",
   "execution_count": 212,
   "metadata": {},
   "outputs": [
    {
     "data": {
      "text/html": [
       "<div>\n",
       "<style scoped>\n",
       "    .dataframe tbody tr th:only-of-type {\n",
       "        vertical-align: middle;\n",
       "    }\n",
       "\n",
       "    .dataframe tbody tr th {\n",
       "        vertical-align: top;\n",
       "    }\n",
       "\n",
       "    .dataframe thead th {\n",
       "        text-align: right;\n",
       "    }\n",
       "</style>\n",
       "<table border=\"1\" class=\"dataframe\">\n",
       "  <thead>\n",
       "    <tr style=\"text-align: right;\">\n",
       "      <th></th>\n",
       "      <th>fixed acidity</th>\n",
       "      <th>volatile acidity</th>\n",
       "      <th>citric acid</th>\n",
       "      <th>residual sugar</th>\n",
       "      <th>chlorides</th>\n",
       "      <th>free sulfur dioxide</th>\n",
       "      <th>total sulfur dioxide</th>\n",
       "      <th>density</th>\n",
       "      <th>pH</th>\n",
       "      <th>sulphates</th>\n",
       "      <th>alcohol</th>\n",
       "      <th>quality</th>\n",
       "    </tr>\n",
       "  </thead>\n",
       "  <tbody>\n",
       "    <tr>\n",
       "      <th>count</th>\n",
       "      <td>1000.000000</td>\n",
       "      <td>1000.000000</td>\n",
       "      <td>1000.000000</td>\n",
       "      <td>1000.000000</td>\n",
       "      <td>1000.000000</td>\n",
       "      <td>1000.000000</td>\n",
       "      <td>1000.000000</td>\n",
       "      <td>1000.000000</td>\n",
       "      <td>1000.000000</td>\n",
       "      <td>1000.000000</td>\n",
       "      <td>1000.000000</td>\n",
       "      <td>1000.000000</td>\n",
       "    </tr>\n",
       "    <tr>\n",
       "      <th>mean</th>\n",
       "      <td>7.152530</td>\n",
       "      <td>0.520839</td>\n",
       "      <td>0.270517</td>\n",
       "      <td>2.567104</td>\n",
       "      <td>0.081195</td>\n",
       "      <td>14.907679</td>\n",
       "      <td>40.290150</td>\n",
       "      <td>0.995925</td>\n",
       "      <td>3.303610</td>\n",
       "      <td>0.598390</td>\n",
       "      <td>10.592280</td>\n",
       "      <td>7.958000</td>\n",
       "    </tr>\n",
       "    <tr>\n",
       "      <th>std</th>\n",
       "      <td>1.201598</td>\n",
       "      <td>0.095848</td>\n",
       "      <td>0.049098</td>\n",
       "      <td>0.987915</td>\n",
       "      <td>0.020111</td>\n",
       "      <td>4.888100</td>\n",
       "      <td>9.965767</td>\n",
       "      <td>0.002020</td>\n",
       "      <td>0.104875</td>\n",
       "      <td>0.100819</td>\n",
       "      <td>1.510706</td>\n",
       "      <td>0.902802</td>\n",
       "    </tr>\n",
       "    <tr>\n",
       "      <th>min</th>\n",
       "      <td>3.320000</td>\n",
       "      <td>0.139900</td>\n",
       "      <td>0.116700</td>\n",
       "      <td>0.032555</td>\n",
       "      <td>0.015122</td>\n",
       "      <td>0.194679</td>\n",
       "      <td>3.150000</td>\n",
       "      <td>0.988800</td>\n",
       "      <td>2.970000</td>\n",
       "      <td>0.290000</td>\n",
       "      <td>6.030000</td>\n",
       "      <td>5.000000</td>\n",
       "    </tr>\n",
       "    <tr>\n",
       "      <th>25%</th>\n",
       "      <td>6.377500</td>\n",
       "      <td>0.456100</td>\n",
       "      <td>0.237800</td>\n",
       "      <td>1.896330</td>\n",
       "      <td>0.066574</td>\n",
       "      <td>11.426717</td>\n",
       "      <td>33.785000</td>\n",
       "      <td>0.994600</td>\n",
       "      <td>3.230000</td>\n",
       "      <td>0.530000</td>\n",
       "      <td>9.560000</td>\n",
       "      <td>7.000000</td>\n",
       "    </tr>\n",
       "    <tr>\n",
       "      <th>50%</th>\n",
       "      <td>7.150000</td>\n",
       "      <td>0.524850</td>\n",
       "      <td>0.272200</td>\n",
       "      <td>2.519430</td>\n",
       "      <td>0.082167</td>\n",
       "      <td>14.860346</td>\n",
       "      <td>40.190000</td>\n",
       "      <td>0.996000</td>\n",
       "      <td>3.300000</td>\n",
       "      <td>0.595000</td>\n",
       "      <td>10.610000</td>\n",
       "      <td>8.000000</td>\n",
       "    </tr>\n",
       "    <tr>\n",
       "      <th>75%</th>\n",
       "      <td>8.000000</td>\n",
       "      <td>0.585375</td>\n",
       "      <td>0.302325</td>\n",
       "      <td>3.220873</td>\n",
       "      <td>0.095312</td>\n",
       "      <td>18.313098</td>\n",
       "      <td>47.022500</td>\n",
       "      <td>0.997200</td>\n",
       "      <td>3.370000</td>\n",
       "      <td>0.670000</td>\n",
       "      <td>11.622500</td>\n",
       "      <td>9.000000</td>\n",
       "    </tr>\n",
       "    <tr>\n",
       "      <th>max</th>\n",
       "      <td>11.490000</td>\n",
       "      <td>0.805100</td>\n",
       "      <td>0.409600</td>\n",
       "      <td>5.550755</td>\n",
       "      <td>0.140758</td>\n",
       "      <td>27.462525</td>\n",
       "      <td>69.960000</td>\n",
       "      <td>1.002600</td>\n",
       "      <td>3.710000</td>\n",
       "      <td>0.960000</td>\n",
       "      <td>15.020000</td>\n",
       "      <td>10.000000</td>\n",
       "    </tr>\n",
       "  </tbody>\n",
       "</table>\n",
       "</div>"
      ],
      "text/plain": [
       "       fixed acidity  volatile acidity  citric acid  residual sugar  \\\n",
       "count    1000.000000       1000.000000  1000.000000     1000.000000   \n",
       "mean        7.152530          0.520839     0.270517        2.567104   \n",
       "std         1.201598          0.095848     0.049098        0.987915   \n",
       "min         3.320000          0.139900     0.116700        0.032555   \n",
       "25%         6.377500          0.456100     0.237800        1.896330   \n",
       "50%         7.150000          0.524850     0.272200        2.519430   \n",
       "75%         8.000000          0.585375     0.302325        3.220873   \n",
       "max        11.490000          0.805100     0.409600        5.550755   \n",
       "\n",
       "         chlorides  free sulfur dioxide  total sulfur dioxide      density  \\\n",
       "count  1000.000000          1000.000000           1000.000000  1000.000000   \n",
       "mean      0.081195            14.907679             40.290150     0.995925   \n",
       "std       0.020111             4.888100              9.965767     0.002020   \n",
       "min       0.015122             0.194679              3.150000     0.988800   \n",
       "25%       0.066574            11.426717             33.785000     0.994600   \n",
       "50%       0.082167            14.860346             40.190000     0.996000   \n",
       "75%       0.095312            18.313098             47.022500     0.997200   \n",
       "max       0.140758            27.462525             69.960000     1.002600   \n",
       "\n",
       "                pH    sulphates      alcohol      quality  \n",
       "count  1000.000000  1000.000000  1000.000000  1000.000000  \n",
       "mean      3.303610     0.598390    10.592280     7.958000  \n",
       "std       0.104875     0.100819     1.510706     0.902802  \n",
       "min       2.970000     0.290000     6.030000     5.000000  \n",
       "25%       3.230000     0.530000     9.560000     7.000000  \n",
       "50%       3.300000     0.595000    10.610000     8.000000  \n",
       "75%       3.370000     0.670000    11.622500     9.000000  \n",
       "max       3.710000     0.960000    15.020000    10.000000  "
      ]
     },
     "execution_count": 212,
     "metadata": {},
     "output_type": "execute_result"
    }
   ],
   "source": [
    "df.describe()"
   ]
  },
  {
   "attachments": {},
   "cell_type": "markdown",
   "metadata": {},
   "source": [
    "### Unique Values"
   ]
  },
  {
   "cell_type": "code",
   "execution_count": 213,
   "metadata": {},
   "outputs": [
    {
     "data": {
      "text/plain": [
       "fixed acidity            417\n",
       "volatile acidity         879\n",
       "citric acid              769\n",
       "residual sugar          1000\n",
       "chlorides               1000\n",
       "free sulfur dioxide     1000\n",
       "total sulfur dioxide     881\n",
       "density                  107\n",
       "pH                        61\n",
       "sulphates                 60\n",
       "alcohol                  490\n",
       "quality                    6\n",
       "dtype: int64"
      ]
     },
     "execution_count": 213,
     "metadata": {},
     "output_type": "execute_result"
    }
   ],
   "source": [
    "df.nunique()"
   ]
  },
  {
   "attachments": {},
   "cell_type": "markdown",
   "metadata": {},
   "source": [
    "### Skewness"
   ]
  },
  {
   "cell_type": "code",
   "execution_count": 214,
   "metadata": {},
   "outputs": [
    {
     "data": {
      "text/plain": [
       "fixed acidity          -0.028879\n",
       "volatile acidity       -0.197699\n",
       "citric acid            -0.045576\n",
       "residual sugar          0.132638\n",
       "chlorides              -0.051319\n",
       "free sulfur dioxide     0.007130\n",
       "total sulfur dioxide   -0.024060\n",
       "density                -0.076883\n",
       "pH                      0.147673\n",
       "sulphates               0.149199\n",
       "alcohol                -0.018991\n",
       "quality                -0.089054\n",
       "dtype: float64"
      ]
     },
     "execution_count": 214,
     "metadata": {},
     "output_type": "execute_result"
    }
   ],
   "source": [
    "df.skew()"
   ]
  },
  {
   "attachments": {},
   "cell_type": "markdown",
   "metadata": {},
   "source": [
    "### Kurtosis"
   ]
  },
  {
   "cell_type": "code",
   "execution_count": 215,
   "metadata": {},
   "outputs": [
    {
     "data": {
      "text/plain": [
       "fixed acidity          -0.019292\n",
       "volatile acidity        0.161853\n",
       "citric acid            -0.104679\n",
       "residual sugar         -0.042980\n",
       "chlorides              -0.246508\n",
       "free sulfur dioxide    -0.364964\n",
       "total sulfur dioxide    0.063950\n",
       "density                 0.016366\n",
       "pH                      0.080910\n",
       "sulphates               0.064819\n",
       "alcohol                -0.131732\n",
       "quality                 0.108291\n",
       "dtype: float64"
      ]
     },
     "execution_count": 215,
     "metadata": {},
     "output_type": "execute_result"
    }
   ],
   "source": [
    "df.kurtosis()"
   ]
  },
  {
   "attachments": {},
   "cell_type": "markdown",
   "metadata": {},
   "source": [
    "### Quartiles and Interquartile Range"
   ]
  },
  {
   "cell_type": "code",
   "execution_count": 216,
   "metadata": {},
   "outputs": [],
   "source": [
    "# Examine interquartile range\n",
    "def iqr(data, col):\n",
    "    print(\"===============================\")\n",
    "    print(\"Column:\", col)\n",
    "    # Determine IQR for column\n",
    "    col_values = data[col].values\n",
    "    q25, q75 = np.percentile(col_values, 25), np.percentile(col_values, 75)\n",
    "    print('Quartile 25: {} | Quartile 75: {}'.format(q25, q75))\n",
    "    iqr = q75 - q25\n",
    "    print('IQR: {}'.format(iqr))\n",
    "    print()\n",
    "\n",
    "    # Determine the cut off (IQR * 1.5)\n",
    "    cut_off = iqr * 1.5\n",
    "    lower, upper = q25 - cut_off, q75 + cut_off\n",
    "    print('Cut Off: {}'.format(cut_off))\n",
    "    print('Lower bound: {}'.format(lower))\n",
    "    print('Upper bound: {}'.format(upper))\n",
    "    print(\"===============================\")\n",
    "    print()"
   ]
  },
  {
   "cell_type": "code",
   "execution_count": 217,
   "metadata": {},
   "outputs": [
    {
     "name": "stdout",
     "output_type": "stream",
     "text": [
      "===============================\n",
      "Column: fixed acidity\n",
      "Quartile 25: 6.3774999999999995 | Quartile 75: 8.0\n",
      "IQR: 1.6225000000000005\n",
      "\n",
      "Cut Off: 2.4337500000000007\n",
      "Lower bound: 3.9437499999999988\n",
      "Upper bound: 10.43375\n",
      "===============================\n",
      "\n",
      "===============================\n",
      "Column: volatile acidity\n",
      "Quartile 25: 0.4561 | Quartile 75: 0.585375\n",
      "IQR: 0.12927499999999997\n",
      "\n",
      "Cut Off: 0.19391249999999996\n",
      "Lower bound: 0.2621875\n",
      "Upper bound: 0.7792874999999999\n",
      "===============================\n",
      "\n",
      "===============================\n",
      "Column: citric acid\n",
      "Quartile 25: 0.2378 | Quartile 75: 0.302325\n",
      "IQR: 0.064525\n",
      "\n",
      "Cut Off: 0.0967875\n",
      "Lower bound: 0.1410125\n",
      "Upper bound: 0.3991125\n",
      "===============================\n",
      "\n",
      "===============================\n",
      "Column: residual sugar\n",
      "Quartile 25: 1.896329943488683 | Quartile 75: 3.220873482829786\n",
      "IQR: 1.3245435393411031\n",
      "\n",
      "Cut Off: 1.9868153090116547\n",
      "Lower bound: -0.09048536552297182\n",
      "Upper bound: 5.2076887918414405\n",
      "===============================\n",
      "\n",
      "===============================\n",
      "Column: chlorides\n",
      "Quartile 25: 0.06657363190977357 | Quartile 75: 0.09531150148556258\n",
      "IQR: 0.028737869575789013\n",
      "\n",
      "Cut Off: 0.04310680436368352\n",
      "Lower bound: 0.02346682754609005\n",
      "Upper bound: 0.1384183058492461\n",
      "===============================\n",
      "\n",
      "===============================\n",
      "Column: free sulfur dioxide\n",
      "Quartile 25: 11.426716949457617 | Quartile 75: 18.313097915395005\n",
      "IQR: 6.886380965937388\n",
      "\n",
      "Cut Off: 10.329571448906082\n",
      "Lower bound: 1.0971455005515356\n",
      "Upper bound: 28.642669364301085\n",
      "===============================\n",
      "\n",
      "===============================\n",
      "Column: total sulfur dioxide\n",
      "Quartile 25: 33.785 | Quartile 75: 47.0225\n",
      "IQR: 13.237500000000004\n",
      "\n",
      "Cut Off: 19.856250000000006\n",
      "Lower bound: 13.92874999999999\n",
      "Upper bound: 66.87875000000001\n",
      "===============================\n",
      "\n",
      "===============================\n",
      "Column: density\n",
      "Quartile 25: 0.9946 | Quartile 75: 0.9972\n",
      "IQR: 0.0025999999999999357\n",
      "\n",
      "Cut Off: 0.0038999999999999035\n",
      "Lower bound: 0.9907000000000001\n",
      "Upper bound: 1.0010999999999999\n",
      "===============================\n",
      "\n",
      "===============================\n",
      "Column: pH\n",
      "Quartile 25: 3.23 | Quartile 75: 3.37\n",
      "IQR: 0.14000000000000012\n",
      "\n",
      "Cut Off: 0.2100000000000002\n",
      "Lower bound: 3.0199999999999996\n",
      "Upper bound: 3.58\n",
      "===============================\n",
      "\n",
      "===============================\n",
      "Column: sulphates\n",
      "Quartile 25: 0.53 | Quartile 75: 0.67\n",
      "IQR: 0.14\n",
      "\n",
      "Cut Off: 0.21000000000000002\n",
      "Lower bound: 0.32\n",
      "Upper bound: 0.8800000000000001\n",
      "===============================\n",
      "\n",
      "===============================\n",
      "Column: alcohol\n",
      "Quartile 25: 9.56 | Quartile 75: 11.622499999999999\n",
      "IQR: 2.0624999999999982\n",
      "\n",
      "Cut Off: 3.0937499999999973\n",
      "Lower bound: 6.466250000000003\n",
      "Upper bound: 14.716249999999995\n",
      "===============================\n",
      "\n",
      "===============================\n",
      "Column: quality\n",
      "Quartile 25: 7.0 | Quartile 75: 9.0\n",
      "IQR: 2.0\n",
      "\n",
      "Cut Off: 3.0\n",
      "Lower bound: 4.0\n",
      "Upper bound: 12.0\n",
      "===============================\n",
      "\n"
     ]
    }
   ],
   "source": [
    "for col in df.columns:\n",
    "    iqr(df, col)"
   ]
  },
  {
   "attachments": {},
   "cell_type": "markdown",
   "metadata": {},
   "source": [
    "## Univariate Analysis"
   ]
  },
  {
   "attachments": {},
   "cell_type": "markdown",
   "metadata": {},
   "source": [
    "### Distribution"
   ]
  },
  {
   "cell_type": "code",
   "execution_count": 218,
   "metadata": {},
   "outputs": [
    {
     "data": {
      "image/png": "[encoded data removed]",
      "text/plain": [
       "<Figure size 1800x1080 with 12 Axes>"
      ]
     },
     "metadata": {
      "needs_background": "light"
     },
     "output_type": "display_data"
    }
   ],
   "source": [
    "# Examine the distribution of each columns\n",
    "# Create the subplot grid\n",
    "fig, ax = plt.subplots(3, 4, figsize=(25, 15))\n",
    "\n",
    "# Loop through the numerical columns\n",
    "for i, col in enumerate(df.columns):\n",
    "    sns.histplot(df[col].values, ax=ax[i // 4][i % 4], color='r', kde=True)\n",
    "    ax[i // 4][i % 4].set_title(f'Distribution of {col}', fontsize=14)\n",
    "\n",
    "plt.show()"
   ]
  },
  {
   "attachments": {},
   "cell_type": "markdown",
   "metadata": {},
   "source": [
    "### `Explaination Distributions`"
   ]
  },
  {
   "attachments": {},
   "cell_type": "markdown",
   "metadata": {},
   "source": [
    "Determine the alpha to reject that the attribute is normally distributed"
   ]
  },
  {
   "cell_type": "code",
   "execution_count": 219,
   "metadata": {},
   "outputs": [],
   "source": [
    "alpha = 0.05"
   ]
  },
  {
   "attachments": {},
   "cell_type": "markdown",
   "metadata": {},
   "source": [
    "`Fixed Acidity`"
   ]
  },
  {
   "cell_type": "code",
   "execution_count": 220,
   "metadata": {},
   "outputs": [
    {
     "name": "stdout",
     "output_type": "stream",
     "text": [
      "Fixed Acidity is normally distributed\n"
     ]
    }
   ],
   "source": [
    "statistic_value, p_value = scipy.stats.normaltest(df['fixed acidity'])\n",
    "\n",
    "if(p_value < alpha):\n",
    "    print(\"Fixed Acidity is not normally distributed\")\n",
    "else:\n",
    "    print(\"Fixed Acidity is normally distributed\")"
   ]
  },
  {
   "attachments": {},
   "cell_type": "markdown",
   "metadata": {},
   "source": [
    "`Volatile Acidity`"
   ]
  },
  {
   "cell_type": "code",
   "execution_count": 221,
   "metadata": {},
   "outputs": [
    {
     "name": "stdout",
     "output_type": "stream",
     "text": [
      "Volatile Acidity is not normally distributed\n"
     ]
    }
   ],
   "source": [
    "statistic_value, p_value = scipy.stats.normaltest(df['volatile acidity'])\n",
    "\n",
    "if(p_value < alpha):\n",
    "    print(\"Volatile Acidity is not normally distributed\")\n",
    "else:\n",
    "    print(\"Volatile Acidity is normally distributed\")"
   ]
  },
  {
   "attachments": {},
   "cell_type": "markdown",
   "metadata": {},
   "source": [
    "`Citric Acid`"
   ]
  },
  {
   "cell_type": "code",
   "execution_count": 222,
   "metadata": {},
   "outputs": [
    {
     "name": "stdout",
     "output_type": "stream",
     "text": [
      "Citric Acid is normally distributed\n"
     ]
    }
   ],
   "source": [
    "statistic_value, p_value = scipy.stats.normaltest(df['citric acid'])\n",
    "\n",
    "if(p_value < alpha):\n",
    "    print(\"Citric Acid is not normally distributed\")\n",
    "else:\n",
    "    print(\"Citric Acid is normally distributed\")"
   ]
  },
  {
   "attachments": {},
   "cell_type": "markdown",
   "metadata": {},
   "source": [
    "`Residual Sugar`"
   ]
  },
  {
   "cell_type": "code",
   "execution_count": 223,
   "metadata": {},
   "outputs": [
    {
     "name": "stdout",
     "output_type": "stream",
     "text": [
      "Residual Sugar is normally distributed\n"
     ]
    }
   ],
   "source": [
    "statistic_value, p_value = scipy.stats.normaltest(df['residual sugar'])\n",
    "\n",
    "if(p_value < alpha):\n",
    "    print(\"Residual Sugar is not normally distributed\")\n",
    "else:\n",
    "    print(\"Residual Sugar is normally distributed\")"
   ]
  },
  {
   "attachments": {},
   "cell_type": "markdown",
   "metadata": {},
   "source": [
    "`Chlorides`"
   ]
  },
  {
   "cell_type": "code",
   "execution_count": 224,
   "metadata": {},
   "outputs": [
    {
     "name": "stdout",
     "output_type": "stream",
     "text": [
      "Chlorides is normally distributed\n"
     ]
    }
   ],
   "source": [
    "statistic_value, p_value = scipy.stats.normaltest(df['chlorides'])\n",
    "\n",
    "if(p_value < alpha):\n",
    "    print(\"Chlorides is not normally distributed\")\n",
    "else:\n",
    "    print(\"Chlorides is normally distributed\")"
   ]
  },
  {
   "attachments": {},
   "cell_type": "markdown",
   "metadata": {},
   "source": [
    "`Free Sulfur Dioxide`"
   ]
  },
  {
   "cell_type": "code",
   "execution_count": 225,
   "metadata": {},
   "outputs": [
    {
     "name": "stdout",
     "output_type": "stream",
     "text": [
      "Free Sulfur Dioxide is not normally distributed\n"
     ]
    }
   ],
   "source": [
    "statistic_value, p_value = scipy.stats.normaltest(df['free sulfur dioxide'])\n",
    "\n",
    "if(p_value < alpha):\n",
    "    print(\"Free Sulfur Dioxide is not normally distributed\")\n",
    "else:\n",
    "    print(\"Free Sulfur Dioxide is normally distributed\")"
   ]
  },
  {
   "attachments": {},
   "cell_type": "markdown",
   "metadata": {},
   "source": [
    "`Total Sulfur Dioxide`"
   ]
  },
  {
   "cell_type": "code",
   "execution_count": 226,
   "metadata": {},
   "outputs": [
    {
     "name": "stdout",
     "output_type": "stream",
     "text": [
      "Total Sulfur Dioxide is normally distributed\n"
     ]
    }
   ],
   "source": [
    "statistic_value, p_value = scipy.stats.normaltest(df['total sulfur dioxide'])\n",
    "\n",
    "if(p_value < alpha):\n",
    "    print(\"Total Sulfur Dioxide is not normally distributed\")\n",
    "else:\n",
    "    print(\"Total Sulfur Dioxide is normally distributed\")"
   ]
  },
  {
   "attachments": {},
   "cell_type": "markdown",
   "metadata": {},
   "source": [
    "`Density`"
   ]
  },
  {
   "cell_type": "code",
   "execution_count": 227,
   "metadata": {},
   "outputs": [
    {
     "name": "stdout",
     "output_type": "stream",
     "text": [
      "Density is normally distributed\n"
     ]
    }
   ],
   "source": [
    "statistic_value, p_value = scipy.stats.normaltest(df['density'])\n",
    "\n",
    "if(p_value < alpha):\n",
    "    print(\"Density is not normally distributed\")\n",
    "else:\n",
    "    print(\"Density is normally distributed\")"
   ]
  },
  {
   "attachments": {},
   "cell_type": "markdown",
   "metadata": {},
   "source": [
    "`pH`"
   ]
  },
  {
   "cell_type": "code",
   "execution_count": 228,
   "metadata": {},
   "outputs": [
    {
     "name": "stdout",
     "output_type": "stream",
     "text": [
      "pH is normally distributed\n"
     ]
    }
   ],
   "source": [
    "statistic_value, p_value = scipy.stats.normaltest(df['pH'])\n",
    "\n",
    "if(p_value < alpha):\n",
    "    print(\"pH is not normally distributed\")\n",
    "else:\n",
    "    print(\"pH is normally distributed\")"
   ]
  },
  {
   "attachments": {},
   "cell_type": "markdown",
   "metadata": {},
   "source": [
    "`Sulphates`"
   ]
  },
  {
   "cell_type": "code",
   "execution_count": 229,
   "metadata": {},
   "outputs": [
    {
     "name": "stdout",
     "output_type": "stream",
     "text": [
      "Sulphates is normally distributed\n"
     ]
    }
   ],
   "source": [
    "statistic_value, p_value = scipy.stats.normaltest(df['sulphates'])\n",
    "\n",
    "if(p_value < alpha):\n",
    "    print(\"Sulphates is not normally distributed\")\n",
    "else:\n",
    "    print(\"Sulphates is normally distributed\")"
   ]
  },
  {
   "attachments": {},
   "cell_type": "markdown",
   "metadata": {},
   "source": [
    "`Alcohol`"
   ]
  },
  {
   "cell_type": "code",
   "execution_count": 230,
   "metadata": {},
   "outputs": [
    {
     "name": "stdout",
     "output_type": "stream",
     "text": [
      "Alcohol is normally distributed\n"
     ]
    }
   ],
   "source": [
    "statistic_value, p_value = scipy.stats.normaltest(df['alcohol'])\n",
    "\n",
    "if(p_value < alpha):\n",
    "    print(\"Alcohol is not normally distributed\")\n",
    "else:\n",
    "    print(\"Alcohol is normally distributed\")"
   ]
  },
  {
   "attachments": {},
   "cell_type": "markdown",
   "metadata": {},
   "source": [
    "`Quality`"
   ]
  },
  {
   "cell_type": "code",
   "execution_count": 231,
   "metadata": {},
   "outputs": [
    {
     "name": "stdout",
     "output_type": "stream",
     "text": [
      "Quality is normally distributed\n"
     ]
    }
   ],
   "source": [
    "statistic_value, p_value = scipy.stats.normaltest(df['quality'])\n",
    "\n",
    "if(p_value < alpha):\n",
    "    print(\"Quality is not normally distributed\")\n",
    "else:\n",
    "    print(\"Quality is normally distributed\")"
   ]
  },
  {
   "attachments": {},
   "cell_type": "markdown",
   "metadata": {},
   "source": [
    "### Boxplot"
   ]
  },
  {
   "cell_type": "code",
   "execution_count": 232,
   "metadata": {},
   "outputs": [
    {
     "data": {
      "image/png": "[encoded data removed]",
      "text/plain": [
       "<Figure size 1800x1440 with 12 Axes>"
      ]
     },
     "metadata": {
      "needs_background": "light"
     },
     "output_type": "display_data"
    }
   ],
   "source": [
    "# Examine the boxplot of each columns\n",
    "# Create the subplot grid\n",
    "fig, ax = plt.subplots(3, 4, figsize=(25, 20))\n",
    "\n",
    "# Loop through the numerical columns\n",
    "for i, col in enumerate(df.columns):\n",
    "    sns.boxplot(y=df[col].values, ax=ax[i // 4][i % 4])\n",
    "    ax[i // 4][i % 4].set_title(f'Boxplot for {col}', fontsize=14)\n",
    "    ax[i // 4][i % 4].set_ylabel('Values')\n",
    "    ax[i // 4][i % 4].set_xticklabels('')\n",
    "\n",
    "plt.show()"
   ]
  },
  {
   "attachments": {},
   "cell_type": "markdown",
   "metadata": {},
   "source": [
    "`Explain Boxplots Here`"
   ]
  },
  {
   "attachments": {},
   "cell_type": "markdown",
   "metadata": {},
   "source": [
    "### Proportion of the Target Variable"
   ]
  },
  {
   "cell_type": "code",
   "execution_count": 233,
   "metadata": {},
   "outputs": [],
   "source": [
    "# Plot class distribution\n",
    "def plot_classes(y):\n",
    "    counts = y.value_counts().sort_index()\n",
    "    counts = counts.rename_axis(\"Quality\").reset_index(name=\"Count\")\n",
    "    fig = px.pie(counts, values=\"Quality\", names=\"Count\" ,title=\"Quality Proportion Percentage\", template=\"seaborn\")\n",
    "    fig.update_traces(textposition=\"inside\", textinfo=\"value+percent+label\")\n",
    "    fig.show()\n",
    "    print(counts)\n",
    "    print()"
   ]
  },
  {
   "cell_type": "code",
   "execution_count": 234,
   "metadata": {},
   "outputs": [
    {
     "data": {
      "application/vnd.plotly.v1+json": {
       "config": {
        "plotlyServerURL": "https://plot.ly"
       },
       "data": [
        {
         "domain": {
          "x": [
           0,
           1
          ],
          "y": [
           0,
           1
          ]
         },
         "hovertemplate": "Count=%{label}<br>Quality=%{value}<extra></extra>",
         "labels": [
          5,
          38,
          248,
          449,
          223,
          37
         ],
         "legendgroup": "",
         "name": "",
         "showlegend": true,
         "textinfo": "value+percent+label",
         "textposition": "inside",
         "type": "pie",
         "values": [
          5,
          6,
          7,
          8,
          9,
          10
         ]
        }
       ],
       "layout": {
        "legend": {
         "tracegroupgap": 0
        },
        "template": {
         "data": {
          "bar": [
           {
            "error_x": {
             "color": "rgb(36,36,36)"
            },
            "error_y": {
             "color": "rgb(36,36,36)"
            },
            "marker": {
             "line": {
              "color": "rgb(234,234,242)",
              "width": 0.5
             },
             "pattern": {
              "fillmode": "overlay",
              "size": 10,
              "solidity": 0.2
             }
            },
            "type": "bar"
           }
          ],
          "barpolar": [
           {
            "marker": {
             "line": {
              "color": "rgb(234,234,242)",
              "width": 0.5
             },
             "pattern": {
              "fillmode": "overlay",
              "size": 10,
              "solidity": 0.2
             }
            },
            "type": "barpolar"
           }
          ],
          "carpet": [
           {
            "aaxis": {
             "endlinecolor": "rgb(36,36,36)",
             "gridcolor": "white",
             "linecolor": "white",
             "minorgridcolor": "white",
             "startlinecolor": "rgb(36,36,36)"
            },
            "baxis": {
             "endlinecolor": "rgb(36,36,36)",
             "gridcolor": "white",
             "linecolor": "white",
             "minorgridcolor": "white",
             "startlinecolor": "rgb(36,36,36)"
            },
            "type": "carpet"
           }
          ],
          "choropleth": [
           {
            "colorbar": {
             "outlinewidth": 0,
             "tickcolor": "rgb(36,36,36)",
             "ticklen": 8,
             "ticks": "outside",
             "tickwidth": 2
            },
            "type": "choropleth"
           }
          ],
          "contour": [
           {
            "colorbar": {
             "outlinewidth": 0,
             "tickcolor": "rgb(36,36,36)",
             "ticklen": 8,
             "ticks": "outside",
             "tickwidth": 2
            },
            "colorscale": [
             [
              0,
              "rgb(2,4,25)"
             ],
             [
              0.06274509803921569,
              "rgb(24,15,41)"
             ],
             [
              0.12549019607843137,
              "rgb(47,23,57)"
             ],
             [
              0.18823529411764706,
              "rgb(71,28,72)"
             ],
             [
              0.25098039215686274,
              "rgb(97,30,82)"
             ],
             [
              0.3137254901960784,
              "rgb(123,30,89)"
             ],
             [
              0.3764705882352941,
              "rgb(150,27,91)"
             ],
             [
              0.4392156862745098,
              "rgb(177,22,88)"
             ],
             [
              0.5019607843137255,
              "rgb(203,26,79)"
             ],
             [
              0.5647058823529412,
              "rgb(223,47,67)"
             ],
             [
              0.6274509803921569,
              "rgb(236,76,61)"
             ],
             [
              0.6901960784313725,
              "rgb(242,107,73)"
             ],
             [
              0.7529411764705882,
              "rgb(244,135,95)"
             ],
             [
              0.8156862745098039,
              "rgb(245,162,122)"
             ],
             [
              0.8784313725490196,
              "rgb(246,188,153)"
             ],
             [
              0.9411764705882353,
              "rgb(247,212,187)"
             ],
             [
              1,
              "rgb(250,234,220)"
             ]
            ],
            "type": "contour"
           }
          ],
          "contourcarpet": [
           {
            "colorbar": {
             "outlinewidth": 0,
             "tickcolor": "rgb(36,36,36)",
             "ticklen": 8,
             "ticks": "outside",
             "tickwidth": 2
            },
            "type": "contourcarpet"
           }
          ],
          "heatmap": [
           {
            "colorbar": {
             "outlinewidth": 0,
             "tickcolor": "rgb(36,36,36)",
             "ticklen": 8,
             "ticks": "outside",
             "tickwidth": 2
            },
            "colorscale": [
             [
              0,
              "rgb(2,4,25)"
             ],
             [
              0.06274509803921569,
              "rgb(24,15,41)"
             ],
             [
              0.12549019607843137,
              "rgb(47,23,57)"
             ],
             [
              0.18823529411764706,
              "rgb(71,28,72)"
             ],
             [
              0.25098039215686274,
              "rgb(97,30,82)"
             ],
             [
              0.3137254901960784,
              "rgb(123,30,89)"
             ],
             [
              0.3764705882352941,
              "rgb(150,27,91)"
             ],
             [
              0.4392156862745098,
              "rgb(177,22,88)"
             ],
             [
              0.5019607843137255,
              "rgb(203,26,79)"
             ],
             [
              0.5647058823529412,
              "rgb(223,47,67)"
             ],
             [
              0.6274509803921569,
              "rgb(236,76,61)"
             ],
             [
              0.6901960784313725,
              "rgb(242,107,73)"
             ],
             [
              0.7529411764705882,
              "rgb(244,135,95)"
             ],
             [
              0.8156862745098039,
              "rgb(245,162,122)"
             ],
             [
              0.8784313725490196,
              "rgb(246,188,153)"
             ],
             [
              0.9411764705882353,
              "rgb(247,212,187)"
             ],
             [
              1,
              "rgb(250,234,220)"
             ]
            ],
            "type": "heatmap"
           }
          ],
          "heatmapgl": [
           {
            "colorbar": {
             "outlinewidth": 0,
             "tickcolor": "rgb(36,36,36)",
             "ticklen": 8,
             "ticks": "outside",
             "tickwidth": 2
            },
            "colorscale": [
             [
              0,
              "rgb(2,4,25)"
             ],
             [
              0.06274509803921569,
              "rgb(24,15,41)"
             ],
             [
              0.12549019607843137,
              "rgb(47,23,57)"
             ],
             [
              0.18823529411764706,
              "rgb(71,28,72)"
             ],
             [
              0.25098039215686274,
              "rgb(97,30,82)"
             ],
             [
              0.3137254901960784,
              "rgb(123,30,89)"
             ],
             [
              0.3764705882352941,
              "rgb(150,27,91)"
             ],
             [
              0.4392156862745098,
              "rgb(177,22,88)"
             ],
             [
              0.5019607843137255,
              "rgb(203,26,79)"
             ],
             [
              0.5647058823529412,
              "rgb(223,47,67)"
             ],
             [
              0.6274509803921569,
              "rgb(236,76,61)"
             ],
             [
              0.6901960784313725,
              "rgb(242,107,73)"
             ],
             [
              0.7529411764705882,
              "rgb(244,135,95)"
             ],
             [
              0.8156862745098039,
              "rgb(245,162,122)"
             ],
             [
              0.8784313725490196,
              "rgb(246,188,153)"
             ],
             [
              0.9411764705882353,
              "rgb(247,212,187)"
             ],
             [
              1,
              "rgb(250,234,220)"
             ]
            ],
            "type": "heatmapgl"
           }
          ],
          "histogram": [
           {
            "marker": {
             "pattern": {
              "fillmode": "overlay",
              "size": 10,
              "solidity": 0.2
             }
            },
            "type": "histogram"
           }
          ],
          "histogram2d": [
           {
            "colorbar": {
             "outlinewidth": 0,
             "tickcolor": "rgb(36,36,36)",
             "ticklen": 8,
             "ticks": "outside",
             "tickwidth": 2
            },
            "colorscale": [
             [
              0,
              "rgb(2,4,25)"
             ],
             [
              0.06274509803921569,
              "rgb(24,15,41)"
             ],
             [
              0.12549019607843137,
              "rgb(47,23,57)"
             ],
             [
              0.18823529411764706,
              "rgb(71,28,72)"
             ],
             [
              0.25098039215686274,
              "rgb(97,30,82)"
             ],
             [
              0.3137254901960784,
              "rgb(123,30,89)"
             ],
             [
              0.3764705882352941,
              "rgb(150,27,91)"
             ],
             [
              0.4392156862745098,
              "rgb(177,22,88)"
             ],
             [
              0.5019607843137255,
              "rgb(203,26,79)"
             ],
             [
              0.5647058823529412,
              "rgb(223,47,67)"
             ],
             [
              0.6274509803921569,
              "rgb(236,76,61)"
             ],
             [
              0.6901960784313725,
              "rgb(242,107,73)"
             ],
             [
              0.7529411764705882,
              "rgb(244,135,95)"
             ],
             [
              0.8156862745098039,
              "rgb(245,162,122)"
             ],
             [
              0.8784313725490196,
              "rgb(246,188,153)"
             ],
             [
              0.9411764705882353,
              "rgb(247,212,187)"
             ],
             [
              1,
              "rgb(250,234,220)"
             ]
            ],
            "type": "histogram2d"
           }
          ],
          "histogram2dcontour": [
           {
            "colorbar": {
             "outlinewidth": 0,
             "tickcolor": "rgb(36,36,36)",
             "ticklen": 8,
             "ticks": "outside",
             "tickwidth": 2
            },
            "colorscale": [
             [
              0,
              "rgb(2,4,25)"
             ],
             [
              0.06274509803921569,
              "rgb(24,15,41)"
             ],
             [
              0.12549019607843137,
              "rgb(47,23,57)"
             ],
             [
              0.18823529411764706,
              "rgb(71,28,72)"
             ],
             [
              0.25098039215686274,
              "rgb(97,30,82)"
             ],
             [
              0.3137254901960784,
              "rgb(123,30,89)"
             ],
             [
              0.3764705882352941,
              "rgb(150,27,91)"
             ],
             [
              0.4392156862745098,
              "rgb(177,22,88)"
             ],
             [
              0.5019607843137255,
              "rgb(203,26,79)"
             ],
             [
              0.5647058823529412,
              "rgb(223,47,67)"
             ],
             [
              0.6274509803921569,
              "rgb(236,76,61)"
             ],
             [
              0.6901960784313725,
              "rgb(242,107,73)"
             ],
             [
              0.7529411764705882,
              "rgb(244,135,95)"
             ],
             [
              0.8156862745098039,
              "rgb(245,162,122)"
             ],
             [
              0.8784313725490196,
              "rgb(246,188,153)"
             ],
             [
              0.9411764705882353,
              "rgb(247,212,187)"
             ],
             [
              1,
              "rgb(250,234,220)"
             ]
            ],
            "type": "histogram2dcontour"
           }
          ],
          "mesh3d": [
           {
            "colorbar": {
             "outlinewidth": 0,
             "tickcolor": "rgb(36,36,36)",
             "ticklen": 8,
             "ticks": "outside",
             "tickwidth": 2
            },
            "type": "mesh3d"
           }
          ],
          "parcoords": [
           {
            "line": {
             "colorbar": {
              "outlinewidth": 0,
              "tickcolor": "rgb(36,36,36)",
              "ticklen": 8,
              "ticks": "outside",
              "tickwidth": 2
             }
            },
            "type": "parcoords"
           }
          ],
          "pie": [
           {
            "automargin": true,
            "type": "pie"
           }
          ],
          "scatter": [
           {
            "fillpattern": {
             "fillmode": "overlay",
             "size": 10,
             "solidity": 0.2
            },
            "type": "scatter"
           }
          ],
          "scatter3d": [
           {
            "line": {
             "colorbar": {
              "outlinewidth": 0,
              "tickcolor": "rgb(36,36,36)",
              "ticklen": 8,
              "ticks": "outside",
              "tickwidth": 2
             }
            },
            "marker": {
             "colorbar": {
              "outlinewidth": 0,
              "tickcolor": "rgb(36,36,36)",
              "ticklen": 8,
              "ticks": "outside",
              "tickwidth": 2
             }
            },
            "type": "scatter3d"
           }
          ],
          "scattercarpet": [
           {
            "marker": {
             "colorbar": {
              "outlinewidth": 0,
              "tickcolor": "rgb(36,36,36)",
              "ticklen": 8,
              "ticks": "outside",
              "tickwidth": 2
             }
            },
            "type": "scattercarpet"
           }
          ],
          "scattergeo": [
           {
            "marker": {
             "colorbar": {
              "outlinewidth": 0,
              "tickcolor": "rgb(36,36,36)",
              "ticklen": 8,
              "ticks": "outside",
              "tickwidth": 2
             }
            },
            "type": "scattergeo"
           }
          ],
          "scattergl": [
           {
            "marker": {
             "colorbar": {
              "outlinewidth": 0,
              "tickcolor": "rgb(36,36,36)",
              "ticklen": 8,
              "ticks": "outside",
              "tickwidth": 2
             }
            },
            "type": "scattergl"
           }
          ],
          "scattermapbox": [
           {
            "marker": {
             "colorbar": {
              "outlinewidth": 0,
              "tickcolor": "rgb(36,36,36)",
              "ticklen": 8,
              "ticks": "outside",
              "tickwidth": 2
             }
            },
            "type": "scattermapbox"
           }
          ],
          "scatterpolar": [
           {
            "marker": {
             "colorbar": {
              "outlinewidth": 0,
              "tickcolor": "rgb(36,36,36)",
              "ticklen": 8,
              "ticks": "outside",
              "tickwidth": 2
             }
            },
            "type": "scatterpolar"
           }
          ],
          "scatterpolargl": [
           {
            "marker": {
             "colorbar": {
              "outlinewidth": 0,
              "tickcolor": "rgb(36,36,36)",
              "ticklen": 8,
              "ticks": "outside",
              "tickwidth": 2
             }
            },
            "type": "scatterpolargl"
           }
          ],
          "scatterternary": [
           {
            "marker": {
             "colorbar": {
              "outlinewidth": 0,
              "tickcolor": "rgb(36,36,36)",
              "ticklen": 8,
              "ticks": "outside",
              "tickwidth": 2
             }
            },
            "type": "scatterternary"
           }
          ],
          "surface": [
           {
            "colorbar": {
             "outlinewidth": 0,
             "tickcolor": "rgb(36,36,36)",
             "ticklen": 8,
             "ticks": "outside",
             "tickwidth": 2
            },
            "colorscale": [
             [
              0,
              "rgb(2,4,25)"
             ],
             [
              0.06274509803921569,
              "rgb(24,15,41)"
             ],
             [
              0.12549019607843137,
              "rgb(47,23,57)"
             ],
             [
              0.18823529411764706,
              "rgb(71,28,72)"
             ],
             [
              0.25098039215686274,
              "rgb(97,30,82)"
             ],
             [
              0.3137254901960784,
              "rgb(123,30,89)"
             ],
             [
              0.3764705882352941,
              "rgb(150,27,91)"
             ],
             [
              0.4392156862745098,
              "rgb(177,22,88)"
             ],
             [
              0.5019607843137255,
              "rgb(203,26,79)"
             ],
             [
              0.5647058823529412,
              "rgb(223,47,67)"
             ],
             [
              0.6274509803921569,
              "rgb(236,76,61)"
             ],
             [
              0.6901960784313725,
              "rgb(242,107,73)"
             ],
             [
              0.7529411764705882,
              "rgb(244,135,95)"
             ],
             [
              0.8156862745098039,
              "rgb(245,162,122)"
             ],
             [
              0.8784313725490196,
              "rgb(246,188,153)"
             ],
             [
              0.9411764705882353,
              "rgb(247,212,187)"
             ],
             [
              1,
              "rgb(250,234,220)"
             ]
            ],
            "type": "surface"
           }
          ],
          "table": [
           {
            "cells": {
             "fill": {
              "color": "rgb(231,231,240)"
             },
             "line": {
              "color": "white"
             }
            },
            "header": {
             "fill": {
              "color": "rgb(183,183,191)"
             },
             "line": {
              "color": "white"
             }
            },
            "type": "table"
           }
          ]
         },
         "layout": {
          "annotationdefaults": {
           "arrowcolor": "rgb(67,103,167)"
          },
          "autotypenumbers": "strict",
          "coloraxis": {
           "colorbar": {
            "outlinewidth": 0,
            "tickcolor": "rgb(36,36,36)",
            "ticklen": 8,
            "ticks": "outside",
            "tickwidth": 2
           }
          },
          "colorscale": {
           "sequential": [
            [
             0,
             "rgb(2,4,25)"
            ],
            [
             0.06274509803921569,
             "rgb(24,15,41)"
            ],
            [
             0.12549019607843137,
             "rgb(47,23,57)"
            ],
            [
             0.18823529411764706,
             "rgb(71,28,72)"
            ],
            [
             0.25098039215686274,
             "rgb(97,30,82)"
            ],
            [
             0.3137254901960784,
             "rgb(123,30,89)"
            ],
            [
             0.3764705882352941,
             "rgb(150,27,91)"
            ],
            [
             0.4392156862745098,
             "rgb(177,22,88)"
            ],
            [
             0.5019607843137255,
             "rgb(203,26,79)"
            ],
            [
             0.5647058823529412,
             "rgb(223,47,67)"
            ],
            [
             0.6274509803921569,
             "rgb(236,76,61)"
            ],
            [
             0.6901960784313725,
             "rgb(242,107,73)"
            ],
            [
             0.7529411764705882,
             "rgb(244,135,95)"
            ],
            [
             0.8156862745098039,
             "rgb(245,162,122)"
            ],
            [
             0.8784313725490196,
             "rgb(246,188,153)"
            ],
            [
             0.9411764705882353,
             "rgb(247,212,187)"
            ],
            [
             1,
             "rgb(250,234,220)"
            ]
           ],
           "sequentialminus": [
            [
             0,
             "rgb(2,4,25)"
            ],
            [
             0.06274509803921569,
             "rgb(24,15,41)"
            ],
            [
             0.12549019607843137,
             "rgb(47,23,57)"
            ],
            [
             0.18823529411764706,
             "rgb(71,28,72)"
            ],
            [
             0.25098039215686274,
             "rgb(97,30,82)"
            ],
            [
             0.3137254901960784,
             "rgb(123,30,89)"
            ],
            [
             0.3764705882352941,
             "rgb(150,27,91)"
            ],
            [
             0.4392156862745098,
             "rgb(177,22,88)"
            ],
            [
             0.5019607843137255,
             "rgb(203,26,79)"
            ],
            [
             0.5647058823529412,
             "rgb(223,47,67)"
            ],
            [
             0.6274509803921569,
             "rgb(236,76,61)"
            ],
            [
             0.6901960784313725,
             "rgb(242,107,73)"
            ],
            [
             0.7529411764705882,
             "rgb(244,135,95)"
            ],
            [
             0.8156862745098039,
             "rgb(245,162,122)"
            ],
            [
             0.8784313725490196,
             "rgb(246,188,153)"
            ],
            [
             0.9411764705882353,
             "rgb(247,212,187)"
            ],
            [
             1,
             "rgb(250,234,220)"
            ]
           ]
          },
          "colorway": [
           "rgb(76,114,176)",
           "rgb(221,132,82)",
           "rgb(85,168,104)",
           "rgb(196,78,82)",
           "rgb(129,114,179)",
           "rgb(147,120,96)",
           "rgb(218,139,195)",
           "rgb(140,140,140)",
           "rgb(204,185,116)",
           "rgb(100,181,205)"
          ],
          "font": {
           "color": "rgb(36,36,36)"
          },
          "geo": {
           "bgcolor": "white",
           "lakecolor": "white",
           "landcolor": "rgb(234,234,242)",
           "showlakes": true,
           "showland": true,
           "subunitcolor": "white"
          },
          "hoverlabel": {
           "align": "left"
          },
          "hovermode": "closest",
          "paper_bgcolor": "white",
          "plot_bgcolor": "rgb(234,234,242)",
          "polar": {
           "angularaxis": {
            "gridcolor": "white",
            "linecolor": "white",
            "showgrid": true,
            "ticks": ""
           },
           "bgcolor": "rgb(234,234,242)",
           "radialaxis": {
            "gridcolor": "white",
            "linecolor": "white",
            "showgrid": true,
            "ticks": ""
           }
          },
          "scene": {
           "xaxis": {
            "backgroundcolor": "rgb(234,234,242)",
            "gridcolor": "white",
            "gridwidth": 2,
            "linecolor": "white",
            "showbackground": true,
            "showgrid": true,
            "ticks": "",
            "zerolinecolor": "white"
           },
           "yaxis": {
            "backgroundcolor": "rgb(234,234,242)",
            "gridcolor": "white",
            "gridwidth": 2,
            "linecolor": "white",
            "showbackground": true,
            "showgrid": true,
            "ticks": "",
            "zerolinecolor": "white"
           },
           "zaxis": {
            "backgroundcolor": "rgb(234,234,242)",
            "gridcolor": "white",
            "gridwidth": 2,
            "linecolor": "white",
            "showbackground": true,
            "showgrid": true,
            "ticks": "",
            "zerolinecolor": "white"
           }
          },
          "shapedefaults": {
           "fillcolor": "rgb(67,103,167)",
           "line": {
            "width": 0
           },
           "opacity": 0.5
          },
          "ternary": {
           "aaxis": {
            "gridcolor": "white",
            "linecolor": "white",
            "showgrid": true,
            "ticks": ""
           },
           "baxis": {
            "gridcolor": "white",
            "linecolor": "white",
            "showgrid": true,
            "ticks": ""
           },
           "bgcolor": "rgb(234,234,242)",
           "caxis": {
            "gridcolor": "white",
            "linecolor": "white",
            "showgrid": true,
            "ticks": ""
           }
          },
          "xaxis": {
           "automargin": true,
           "gridcolor": "white",
           "linecolor": "white",
           "showgrid": true,
           "ticks": "",
           "title": {
            "standoff": 15
           },
           "zerolinecolor": "white"
          },
          "yaxis": {
           "automargin": true,
           "gridcolor": "white",
           "linecolor": "white",
           "showgrid": true,
           "ticks": "",
           "title": {
            "standoff": 15
           },
           "zerolinecolor": "white"
          }
         }
        },
        "title": {
         "text": "Quality Proportion Percentage"
        }
       }
      }
     },
     "metadata": {},
     "output_type": "display_data"
    },
    {
     "name": "stdout",
     "output_type": "stream",
     "text": [
      "   Quality  Count\n",
      "0        5      5\n",
      "1        6     38\n",
      "2        7    248\n",
      "3        8    449\n",
      "4        9    223\n",
      "5       10     37\n",
      "\n"
     ]
    }
   ],
   "source": [
    "plot_classes(df['quality'])"
   ]
  },
  {
   "attachments": {},
   "cell_type": "markdown",
   "metadata": {},
   "source": [
    "## Multivariate Analysis"
   ]
  },
  {
   "attachments": {},
   "cell_type": "markdown",
   "metadata": {},
   "source": [
    "### Feature Correlation"
   ]
  },
  {
   "cell_type": "code",
   "execution_count": 235,
   "metadata": {},
   "outputs": [
    {
     "data": {
      "image/png": "[encoded data removed]",
      "text/plain": [
       "<Figure size 900x540 with 2 Axes>"
      ]
     },
     "metadata": {
      "needs_background": "light"
     },
     "output_type": "display_data"
    }
   ],
   "source": [
    "plt.figure(figsize = (12.5,7.5))\n",
    "plt.title(\"Correlation Matrix\", fontsize = 18)\n",
    "sns.heatmap(df.corr(), cmap = 'coolwarm_r', annot = True)\n",
    "plt.xticks(fontsize=12, rotation = 90)\n",
    "plt.yticks(fontsize=12, rotation = 0)\n",
    "plt.show()"
   ]
  },
  {
   "attachments": {},
   "cell_type": "markdown",
   "metadata": {},
   "source": [
    "### Alcohol vs Quality"
   ]
  },
  {
   "cell_type": "code",
   "execution_count": 236,
   "metadata": {},
   "outputs": [
    {
     "data": {
      "image/png": "[encoded data removed]",
      "text/plain": [
       "<Figure size 432x288 with 1 Axes>"
      ]
     },
     "metadata": {
      "needs_background": "light"
     },
     "output_type": "display_data"
    }
   ],
   "source": [
    "# Group the data by the 'quality' column and calculate the mean of 'alcohol'\n",
    "alcohol_by_quality = df.groupby('quality')['alcohol'].mean()\n",
    "\n",
    "# Plot a line chart of the average 'alcohol' value for each 'quality' level\n",
    "alcohol_by_quality.plot(kind='line', x='quality', y='alcohol')\n",
    "plt.xlabel('Quality')\n",
    "plt.ylabel('Average Alcohol')\n",
    "plt.title('Average Alcohol by Quality')\n",
    "plt.show()"
   ]
  },
  {
   "attachments": {},
   "cell_type": "markdown",
   "metadata": {},
   "source": [
    "### Fixed Acidity vs Quality"
   ]
  },
  {
   "cell_type": "code",
   "execution_count": 237,
   "metadata": {},
   "outputs": [
    {
     "data": {
      "image/png": "[encoded data removed]",
      "text/plain": [
       "<Figure size 432x288 with 1 Axes>"
      ]
     },
     "metadata": {
      "needs_background": "light"
     },
     "output_type": "display_data"
    }
   ],
   "source": [
    "# Group the data by the 'quality' column and calculate the mean of 'fixed acidity'\n",
    "fixed_acidity_by_quality = df.groupby('quality')['fixed acidity'].mean()\n",
    "\n",
    "# Plot a line chart of the average 'fixed acidity' value for each 'quality' level\n",
    "fixed_acidity_by_quality.plot(kind='line', x='quality', y='fixed acidity')\n",
    "plt.xlabel('Quality')\n",
    "plt.ylabel('Average Fixed Acidity')\n",
    "plt.title('Average Fixed Acidity by Quality')\n",
    "plt.show()"
   ]
  },
  {
   "attachments": {},
   "cell_type": "markdown",
   "metadata": {},
   "source": [
    "### Residual Sugar vs Alcohol"
   ]
  },
  {
   "cell_type": "code",
   "execution_count": 238,
   "metadata": {},
   "outputs": [
    {
     "data": {
      "image/png": "[encoded data removed]",
      "text/plain": [
       "<Figure size 432x288 with 1 Axes>"
      ]
     },
     "metadata": {
      "needs_background": "light"
     },
     "output_type": "display_data"
    }
   ],
   "source": [
    "# Group the data by the 'quality' column and calculate the mean of 'residual sugar'\n",
    "residual_sugar_by_quality = df.groupby('quality')['residual sugar'].mean()\n",
    "\n",
    "# Plot a line chart of the average 'residual sugar' value for each 'quality' level\n",
    "residual_sugar_by_quality.plot(kind='line', x='quality', y='residual sugar')\n",
    "plt.xlabel('Quality')\n",
    "plt.ylabel('Average Residual Sugar')\n",
    "plt.title('Average Residual Sugar by Quality')\n",
    "plt.show()"
   ]
  },
  {
   "attachments": {},
   "cell_type": "markdown",
   "metadata": {},
   "source": [
    "# Hypothesis Testing"
   ]
  },
  {
   "attachments": {},
   "cell_type": "markdown",
   "metadata": {},
   "source": [
    "## Single-sample Hypothesis"
   ]
  },
  {
   "cell_type": "code",
   "execution_count": 239,
   "metadata": {},
   "outputs": [],
   "source": [
    "def t_test_mean(sample, attribute, mean, tail):\n",
    "    computed_average = sample[attribute].mean()\n",
    "    computed_std = sample[attribute].std()\n",
    "\n",
    "    t_value = (computed_average - mean) / (computed_std / sqrt(len(sample)))\n",
    "    degree = len(sample) - 1\n",
    "\n",
    "    if (tail == 2):\n",
    "        p_value = 2 * (1 - scipy.stats.t.cdf(abs(t_value), degree))\n",
    "    else:\n",
    "        p_value = 1 - scipy.stats.t.cdf(abs(t_value), degree)\n",
    "\n",
    "    print(\"Computed Average :\", computed_average)\n",
    "    print(\"Computed Standard Derivation :\", computed_std)\n",
    "    print(\"T-Value :\", t_value)\n",
    "    print(\"P-Value :\", p_value)\n",
    "\n",
    "    return t_value, p_value"
   ]
  },
  {
   "cell_type": "code",
   "execution_count": 240,
   "metadata": {},
   "outputs": [],
   "source": [
    "def z_test_proportion(sample, qualified_sample, proportion):\n",
    "    n = len(sample)\n",
    "    x = len(qualified_sample)\n",
    "\n",
    "    p = x / n\n",
    "    z_value = (p - proportion) / sqrt((proportion * (1 - proportion) / n))\n",
    "    p_value = scipy.stats.norm.sf(abs(z_value)) * 2\n",
    "\n",
    "    print(\"n       :\", n)\n",
    "    print(\"x       :\", x)\n",
    "    print(\"Z-Value :\", z_value)\n",
    "    print(\"P-Value :\", p_value)\n",
    "    "
   ]
  },
  {
   "cell_type": "code",
   "execution_count": 241,
   "metadata": {},
   "outputs": [],
   "source": [
    "def calculate_t_critical_value(LOS, degree):\n",
    "    critical_value = scipy.stats.t.ppf(LOS, degree)\n",
    "\n",
    "    return critical_value"
   ]
  },
  {
   "attachments": {},
   "cell_type": "markdown",
   "metadata": {},
   "source": [
    "### 1. Is the mean `pH` value greater than 3.29?"
   ]
  },
  {
   "attachments": {},
   "cell_type": "markdown",
   "metadata": {},
   "source": [
    "Step 1 : Specifying the null hypothesis (<b>H<sub>0</sub>)\n",
    "\n",
    "<b>H<sub>0</sub> : *&mu;* = 3.29</b>"
   ]
  },
  {
   "attachments": {},
   "cell_type": "markdown",
   "metadata": {},
   "source": [
    "Step 2 : Specifying the alternative hypothesis (H<sub>1</sub>)\n",
    "\n",
    "<b>H<sub>1</sub> : *&mu;* > 3.29 (one-tailed test)</b>"
   ]
  },
  {
   "attachments": {},
   "cell_type": "markdown",
   "metadata": {},
   "source": [
    "Step 3 : Decide the level of significance (α)\n",
    "\n",
    "<b>α = 0.05</b>"
   ]
  },
  {
   "attachments": {},
   "cell_type": "markdown",
   "metadata": {},
   "source": [
    "Step 4 : Choosing the appropriate statistical test and determine the critical area\n",
    "\n",
    "<b>\n",
    "Statistical test = T-Test &rarr; Variance of population is unknown<br>\n",
    "Critical area = t > t<sub>0.95, 999</sub>\n",
    "</b>"
   ]
  },
  {
   "cell_type": "code",
   "execution_count": 242,
   "metadata": {},
   "outputs": [
    {
     "name": "stdout",
     "output_type": "stream",
     "text": [
      "Critical Value = 1.6463803454275356\n",
      "So, the t-value must be greater than 1.6463803454275356 to reject the null hypothesis\n"
     ]
    }
   ],
   "source": [
    "t_critical_value = abs(calculate_t_critical_value(0.05, len(df) - 1))\n",
    "print(\"Critical Value =\", t_critical_value)\n",
    "print(\"So, the t-value must be greater than\", t_critical_value, \"to reject the null hypothesis\")"
   ]
  },
  {
   "attachments": {},
   "cell_type": "markdown",
   "metadata": {},
   "source": [
    "Step 5 : Calculate T-Test and P-Value from Data Sample"
   ]
  },
  {
   "cell_type": "code",
   "execution_count": 243,
   "metadata": {},
   "outputs": [
    {
     "data": {
      "text/html": [
       "<div>\n",
       "<style scoped>\n",
       "    .dataframe tbody tr th:only-of-type {\n",
       "        vertical-align: middle;\n",
       "    }\n",
       "\n",
       "    .dataframe tbody tr th {\n",
       "        vertical-align: top;\n",
       "    }\n",
       "\n",
       "    .dataframe thead th {\n",
       "        text-align: right;\n",
       "    }\n",
       "</style>\n",
       "<table border=\"1\" class=\"dataframe\">\n",
       "  <thead>\n",
       "    <tr style=\"text-align: right;\">\n",
       "      <th></th>\n",
       "      <th>fixed acidity</th>\n",
       "      <th>volatile acidity</th>\n",
       "      <th>citric acid</th>\n",
       "      <th>residual sugar</th>\n",
       "      <th>chlorides</th>\n",
       "      <th>free sulfur dioxide</th>\n",
       "      <th>total sulfur dioxide</th>\n",
       "      <th>density</th>\n",
       "      <th>pH</th>\n",
       "      <th>sulphates</th>\n",
       "      <th>alcohol</th>\n",
       "      <th>quality</th>\n",
       "    </tr>\n",
       "  </thead>\n",
       "  <tbody>\n",
       "    <tr>\n",
       "      <th>0</th>\n",
       "      <td>5.90</td>\n",
       "      <td>0.4451</td>\n",
       "      <td>0.1813</td>\n",
       "      <td>2.049401</td>\n",
       "      <td>0.070574</td>\n",
       "      <td>16.593818</td>\n",
       "      <td>42.27</td>\n",
       "      <td>0.9982</td>\n",
       "      <td>3.27</td>\n",
       "      <td>0.71</td>\n",
       "      <td>8.64</td>\n",
       "      <td>7</td>\n",
       "    </tr>\n",
       "    <tr>\n",
       "      <th>1</th>\n",
       "      <td>8.40</td>\n",
       "      <td>0.5768</td>\n",
       "      <td>0.2099</td>\n",
       "      <td>3.109590</td>\n",
       "      <td>0.101681</td>\n",
       "      <td>22.555519</td>\n",
       "      <td>16.01</td>\n",
       "      <td>0.9960</td>\n",
       "      <td>3.35</td>\n",
       "      <td>0.57</td>\n",
       "      <td>10.03</td>\n",
       "      <td>8</td>\n",
       "    </tr>\n",
       "    <tr>\n",
       "      <th>2</th>\n",
       "      <td>7.54</td>\n",
       "      <td>0.5918</td>\n",
       "      <td>0.3248</td>\n",
       "      <td>3.673744</td>\n",
       "      <td>0.072416</td>\n",
       "      <td>9.316866</td>\n",
       "      <td>35.52</td>\n",
       "      <td>0.9990</td>\n",
       "      <td>3.31</td>\n",
       "      <td>0.64</td>\n",
       "      <td>9.23</td>\n",
       "      <td>8</td>\n",
       "    </tr>\n",
       "    <tr>\n",
       "      <th>3</th>\n",
       "      <td>5.39</td>\n",
       "      <td>0.4201</td>\n",
       "      <td>0.3131</td>\n",
       "      <td>3.371815</td>\n",
       "      <td>0.072755</td>\n",
       "      <td>18.212300</td>\n",
       "      <td>41.97</td>\n",
       "      <td>0.9945</td>\n",
       "      <td>3.34</td>\n",
       "      <td>0.55</td>\n",
       "      <td>14.07</td>\n",
       "      <td>9</td>\n",
       "    </tr>\n",
       "    <tr>\n",
       "      <th>4</th>\n",
       "      <td>6.51</td>\n",
       "      <td>0.5675</td>\n",
       "      <td>0.1940</td>\n",
       "      <td>4.404723</td>\n",
       "      <td>0.066379</td>\n",
       "      <td>9.360591</td>\n",
       "      <td>46.27</td>\n",
       "      <td>0.9925</td>\n",
       "      <td>3.27</td>\n",
       "      <td>0.45</td>\n",
       "      <td>11.49</td>\n",
       "      <td>8</td>\n",
       "    </tr>\n",
       "    <tr>\n",
       "      <th>...</th>\n",
       "      <td>...</td>\n",
       "      <td>...</td>\n",
       "      <td>...</td>\n",
       "      <td>...</td>\n",
       "      <td>...</td>\n",
       "      <td>...</td>\n",
       "      <td>...</td>\n",
       "      <td>...</td>\n",
       "      <td>...</td>\n",
       "      <td>...</td>\n",
       "      <td>...</td>\n",
       "      <td>...</td>\n",
       "    </tr>\n",
       "    <tr>\n",
       "      <th>995</th>\n",
       "      <td>7.96</td>\n",
       "      <td>0.6046</td>\n",
       "      <td>0.2662</td>\n",
       "      <td>1.592048</td>\n",
       "      <td>0.057555</td>\n",
       "      <td>14.892445</td>\n",
       "      <td>44.61</td>\n",
       "      <td>0.9975</td>\n",
       "      <td>3.35</td>\n",
       "      <td>0.54</td>\n",
       "      <td>10.41</td>\n",
       "      <td>8</td>\n",
       "    </tr>\n",
       "    <tr>\n",
       "      <th>996</th>\n",
       "      <td>8.48</td>\n",
       "      <td>0.4080</td>\n",
       "      <td>0.2227</td>\n",
       "      <td>0.681955</td>\n",
       "      <td>0.051627</td>\n",
       "      <td>23.548965</td>\n",
       "      <td>25.83</td>\n",
       "      <td>0.9972</td>\n",
       "      <td>3.41</td>\n",
       "      <td>0.46</td>\n",
       "      <td>9.91</td>\n",
       "      <td>8</td>\n",
       "    </tr>\n",
       "    <tr>\n",
       "      <th>997</th>\n",
       "      <td>6.11</td>\n",
       "      <td>0.4841</td>\n",
       "      <td>0.3720</td>\n",
       "      <td>2.377267</td>\n",
       "      <td>0.042806</td>\n",
       "      <td>21.624585</td>\n",
       "      <td>48.75</td>\n",
       "      <td>0.9928</td>\n",
       "      <td>3.23</td>\n",
       "      <td>0.55</td>\n",
       "      <td>9.94</td>\n",
       "      <td>7</td>\n",
       "    </tr>\n",
       "    <tr>\n",
       "      <th>998</th>\n",
       "      <td>7.76</td>\n",
       "      <td>0.3590</td>\n",
       "      <td>0.3208</td>\n",
       "      <td>4.294486</td>\n",
       "      <td>0.098276</td>\n",
       "      <td>12.746186</td>\n",
       "      <td>44.53</td>\n",
       "      <td>0.9952</td>\n",
       "      <td>3.30</td>\n",
       "      <td>0.66</td>\n",
       "      <td>9.76</td>\n",
       "      <td>8</td>\n",
       "    </tr>\n",
       "    <tr>\n",
       "      <th>999</th>\n",
       "      <td>5.87</td>\n",
       "      <td>0.5214</td>\n",
       "      <td>0.1883</td>\n",
       "      <td>2.179490</td>\n",
       "      <td>0.052923</td>\n",
       "      <td>16.203864</td>\n",
       "      <td>24.37</td>\n",
       "      <td>0.9983</td>\n",
       "      <td>3.29</td>\n",
       "      <td>0.70</td>\n",
       "      <td>10.17</td>\n",
       "      <td>7</td>\n",
       "    </tr>\n",
       "  </tbody>\n",
       "</table>\n",
       "<p>1000 rows × 12 columns</p>\n",
       "</div>"
      ],
      "text/plain": [
       "     fixed acidity  volatile acidity  citric acid  residual sugar  chlorides  \\\n",
       "0             5.90            0.4451       0.1813        2.049401   0.070574   \n",
       "1             8.40            0.5768       0.2099        3.109590   0.101681   \n",
       "2             7.54            0.5918       0.3248        3.673744   0.072416   \n",
       "3             5.39            0.4201       0.3131        3.371815   0.072755   \n",
       "4             6.51            0.5675       0.1940        4.404723   0.066379   \n",
       "..             ...               ...          ...             ...        ...   \n",
       "995           7.96            0.6046       0.2662        1.592048   0.057555   \n",
       "996           8.48            0.4080       0.2227        0.681955   0.051627   \n",
       "997           6.11            0.4841       0.3720        2.377267   0.042806   \n",
       "998           7.76            0.3590       0.3208        4.294486   0.098276   \n",
       "999           5.87            0.5214       0.1883        2.179490   0.052923   \n",
       "\n",
       "     free sulfur dioxide  total sulfur dioxide  density    pH  sulphates  \\\n",
       "0              16.593818                 42.27   0.9982  3.27       0.71   \n",
       "1              22.555519                 16.01   0.9960  3.35       0.57   \n",
       "2               9.316866                 35.52   0.9990  3.31       0.64   \n",
       "3              18.212300                 41.97   0.9945  3.34       0.55   \n",
       "4               9.360591                 46.27   0.9925  3.27       0.45   \n",
       "..                   ...                   ...      ...   ...        ...   \n",
       "995            14.892445                 44.61   0.9975  3.35       0.54   \n",
       "996            23.548965                 25.83   0.9972  3.41       0.46   \n",
       "997            21.624585                 48.75   0.9928  3.23       0.55   \n",
       "998            12.746186                 44.53   0.9952  3.30       0.66   \n",
       "999            16.203864                 24.37   0.9983  3.29       0.70   \n",
       "\n",
       "     alcohol  quality  \n",
       "0       8.64        7  \n",
       "1      10.03        8  \n",
       "2       9.23        8  \n",
       "3      14.07        9  \n",
       "4      11.49        8  \n",
       "..       ...      ...  \n",
       "995    10.41        8  \n",
       "996     9.91        8  \n",
       "997     9.94        7  \n",
       "998     9.76        8  \n",
       "999    10.17        7  \n",
       "\n",
       "[1000 rows x 12 columns]"
      ]
     },
     "execution_count": 243,
     "metadata": {},
     "output_type": "execute_result"
    }
   ],
   "source": [
    "df"
   ]
  },
  {
   "cell_type": "code",
   "execution_count": 244,
   "metadata": {},
   "outputs": [
    {
     "name": "stdout",
     "output_type": "stream",
     "text": [
      "Computed Average : 3.30361\n",
      "Computed Standard Derivation : 0.10487548220040166\n",
      "T-Value : 4.1037807933651145\n",
      "P-Value : 2.1979583063824748e-05\n"
     ]
    }
   ],
   "source": [
    "t_value, p_value = t_test_mean(df, \"pH\", 3.29, 1)"
   ]
  },
  {
   "attachments": {},
   "cell_type": "markdown",
   "metadata": {},
   "source": [
    "Step 6 : Make a decision and conclusion\n",
    "\n",
    "<b>Reject H<sub>0</sub> and conclude that the mean pH value is greater than 3.29 because the T-Value is greater than the critical value (t > 1.646) and the P-Value is also far less than 0.05 (level of significance)</b>"
   ]
  },
  {
   "attachments": {},
   "cell_type": "markdown",
   "metadata": {},
   "source": [
    "### 2. Is the mean of `Residual Sugar` not equal to 2.5?"
   ]
  },
  {
   "attachments": {},
   "cell_type": "markdown",
   "metadata": {},
   "source": [
    "Step 1 : Specifying the null hypothesis (<b>H<sub>0</sub>)\n",
    "\n",
    "<b>H<sub>0</sub> : mean Residual Sugar = 2.5</b>"
   ]
  },
  {
   "attachments": {},
   "cell_type": "markdown",
   "metadata": {},
   "source": [
    "Step 2 : Specifying the alternative hypothesis (H<sub>1</sub>)\n",
    "\n",
    "<b>H<sub>1</sub> : mean Residual Sugar ≠ 2.5 (two-tailed test)</b>"
   ]
  },
  {
   "cell_type": "markdown",
   "metadata": {},
   "source": [
    "Step 3 : Decide the level of significance (α)\n",
    "\n",
    "<b>α = 0.05</b>"
   ]
  },
  {
   "attachments": {},
   "cell_type": "markdown",
   "metadata": {},
   "source": [
    "Step 4 : Choosing the appropriate statistical test and determine the critical area\n",
    "\n",
    "<b>\n",
    "Statistical test = T-Test &rarr; Variance of population is unknown<br>\n",
    "Critical area = t < - t<sub>0.025, 999</sub> and t > t<sub>0.025, 999</sub>\n",
    "</b>"
   ]
  },
  {
   "cell_type": "code",
   "execution_count": 245,
   "metadata": {},
   "outputs": [
    {
     "name": "stdout",
     "output_type": "stream",
     "text": [
      "Critical Value = ± 1.962341461133449\n",
      "So, the t-value must be greater than 1.962341461133449 or less than -1.962341461133449 to reject the null hypothesis\n"
     ]
    }
   ],
   "source": [
    "t_critical_value = abs(calculate_t_critical_value(0.025, 999))\n",
    "print(\"Critical Value = \\xB1\", t_critical_value)\n",
    "print(\"So, the t-value must be greater than\", t_critical_value, \"or less than -\" + str(t_critical_value) , \"to reject the null hypothesis\")"
   ]
  },
  {
   "attachments": {},
   "cell_type": "markdown",
   "metadata": {},
   "source": [
    "Step 5 : Calculate T-Test and P-Value from Data Sample"
   ]
  },
  {
   "cell_type": "code",
   "execution_count": 246,
   "metadata": {},
   "outputs": [
    {
     "name": "stdout",
     "output_type": "stream",
     "text": [
      "Computed Average : 2.5671036825067595\n",
      "Computed Standard Derivation : 0.9879154365046929\n",
      "T-Value : 2.1479619435539523\n",
      "P-Value : 0.03195672670861671\n"
     ]
    }
   ],
   "source": [
    "t_value, p_value = t_test_mean(df, \"residual sugar\", 2.5, 2)"
   ]
  },
  {
   "attachments": {},
   "cell_type": "markdown",
   "metadata": {},
   "source": [
    "Step 6 : Make a decision and conclusion\n",
    "\n",
    "<b>Reject H<sub>0</sub> and conclude that the mean Residual Sugar value is not equal to 2.5 but greater than 2.5 because the T-Value is greater than the critical value (t > 1.962) and the P-Value is also less than 0.05 (level of significance)</b>"
   ]
  },
  {
   "attachments": {},
   "cell_type": "markdown",
   "metadata": {},
   "source": [
    "### 3. Is the mean value of the first 150 rows of the `sulphates` column not equal to 0.65?"
   ]
  },
  {
   "attachments": {},
   "cell_type": "markdown",
   "metadata": {},
   "source": [
    "Step 1 : Specifying the null hypothesis (<b>H<sub>0</sub>)\n",
    "\n",
    "<b>H<sub>0</sub> : *&mu;* = 0.65</b>"
   ]
  },
  {
   "attachments": {},
   "cell_type": "markdown",
   "metadata": {},
   "source": [
    "Step 2 : Specifying the alternative hypothesis (H<sub>1</sub>)\n",
    "\n",
    "<b>H<sub>1</sub> : *&mu;* ≠ 0.65 (two-tailed test)</b>"
   ]
  },
  {
   "cell_type": "markdown",
   "metadata": {},
   "source": [
    "Step 3 : Decide the level of significance (α)\n",
    "\n",
    "<b>α = 0.05</b>"
   ]
  },
  {
   "attachments": {},
   "cell_type": "markdown",
   "metadata": {},
   "source": [
    "Step 4 : Choosing the appropriate statistical test and determine the critical area\n",
    "\n",
    "<b>\n",
    "Statistical test = T-Test &rarr; Variance of population is unknown<br>\n",
    "Critical area = t < - t<sub>0.025, 149</sub> and t > t<sub>0.025, 149</sub>\n",
    "</b>"
   ]
  },
  {
   "cell_type": "code",
   "execution_count": 247,
   "metadata": {},
   "outputs": [
    {
     "name": "stdout",
     "output_type": "stream",
     "text": [
      "Critical Value = ± 1.9760131776791554\n",
      "So, the t-value must be greater than 1.9760131776791554 or less than -1.9760131776791554 to reject the null hypothesis\n"
     ]
    }
   ],
   "source": [
    "t_critical_value = abs(calculate_t_critical_value(0.025, 149))\n",
    "print(\"Critical Value = \\xB1\", t_critical_value)\n",
    "print(\"So, the t-value must be greater than\", t_critical_value, \"or less than -\" + str(t_critical_value) , \"to reject the null hypothesis\")"
   ]
  },
  {
   "attachments": {},
   "cell_type": "markdown",
   "metadata": {},
   "source": [
    "Step 5 : Calculate T-Test and P-Value from Data Sample"
   ]
  },
  {
   "cell_type": "code",
   "execution_count": 248,
   "metadata": {},
   "outputs": [
    {
     "data": {
      "text/html": [
       "<div>\n",
       "<style scoped>\n",
       "    .dataframe tbody tr th:only-of-type {\n",
       "        vertical-align: middle;\n",
       "    }\n",
       "\n",
       "    .dataframe tbody tr th {\n",
       "        vertical-align: top;\n",
       "    }\n",
       "\n",
       "    .dataframe thead th {\n",
       "        text-align: right;\n",
       "    }\n",
       "</style>\n",
       "<table border=\"1\" class=\"dataframe\">\n",
       "  <thead>\n",
       "    <tr style=\"text-align: right;\">\n",
       "      <th></th>\n",
       "      <th>fixed acidity</th>\n",
       "      <th>volatile acidity</th>\n",
       "      <th>citric acid</th>\n",
       "      <th>residual sugar</th>\n",
       "      <th>chlorides</th>\n",
       "      <th>free sulfur dioxide</th>\n",
       "      <th>total sulfur dioxide</th>\n",
       "      <th>density</th>\n",
       "      <th>pH</th>\n",
       "      <th>sulphates</th>\n",
       "      <th>alcohol</th>\n",
       "      <th>quality</th>\n",
       "    </tr>\n",
       "  </thead>\n",
       "  <tbody>\n",
       "    <tr>\n",
       "      <th>0</th>\n",
       "      <td>5.90</td>\n",
       "      <td>0.4451</td>\n",
       "      <td>0.1813</td>\n",
       "      <td>2.049401</td>\n",
       "      <td>0.070574</td>\n",
       "      <td>16.593818</td>\n",
       "      <td>42.27</td>\n",
       "      <td>0.9982</td>\n",
       "      <td>3.27</td>\n",
       "      <td>0.71</td>\n",
       "      <td>8.64</td>\n",
       "      <td>7</td>\n",
       "    </tr>\n",
       "    <tr>\n",
       "      <th>1</th>\n",
       "      <td>8.40</td>\n",
       "      <td>0.5768</td>\n",
       "      <td>0.2099</td>\n",
       "      <td>3.109590</td>\n",
       "      <td>0.101681</td>\n",
       "      <td>22.555519</td>\n",
       "      <td>16.01</td>\n",
       "      <td>0.9960</td>\n",
       "      <td>3.35</td>\n",
       "      <td>0.57</td>\n",
       "      <td>10.03</td>\n",
       "      <td>8</td>\n",
       "    </tr>\n",
       "    <tr>\n",
       "      <th>2</th>\n",
       "      <td>7.54</td>\n",
       "      <td>0.5918</td>\n",
       "      <td>0.3248</td>\n",
       "      <td>3.673744</td>\n",
       "      <td>0.072416</td>\n",
       "      <td>9.316866</td>\n",
       "      <td>35.52</td>\n",
       "      <td>0.9990</td>\n",
       "      <td>3.31</td>\n",
       "      <td>0.64</td>\n",
       "      <td>9.23</td>\n",
       "      <td>8</td>\n",
       "    </tr>\n",
       "    <tr>\n",
       "      <th>3</th>\n",
       "      <td>5.39</td>\n",
       "      <td>0.4201</td>\n",
       "      <td>0.3131</td>\n",
       "      <td>3.371815</td>\n",
       "      <td>0.072755</td>\n",
       "      <td>18.212300</td>\n",
       "      <td>41.97</td>\n",
       "      <td>0.9945</td>\n",
       "      <td>3.34</td>\n",
       "      <td>0.55</td>\n",
       "      <td>14.07</td>\n",
       "      <td>9</td>\n",
       "    </tr>\n",
       "    <tr>\n",
       "      <th>4</th>\n",
       "      <td>6.51</td>\n",
       "      <td>0.5675</td>\n",
       "      <td>0.1940</td>\n",
       "      <td>4.404723</td>\n",
       "      <td>0.066379</td>\n",
       "      <td>9.360591</td>\n",
       "      <td>46.27</td>\n",
       "      <td>0.9925</td>\n",
       "      <td>3.27</td>\n",
       "      <td>0.45</td>\n",
       "      <td>11.49</td>\n",
       "      <td>8</td>\n",
       "    </tr>\n",
       "    <tr>\n",
       "      <th>...</th>\n",
       "      <td>...</td>\n",
       "      <td>...</td>\n",
       "      <td>...</td>\n",
       "      <td>...</td>\n",
       "      <td>...</td>\n",
       "      <td>...</td>\n",
       "      <td>...</td>\n",
       "      <td>...</td>\n",
       "      <td>...</td>\n",
       "      <td>...</td>\n",
       "      <td>...</td>\n",
       "      <td>...</td>\n",
       "    </tr>\n",
       "    <tr>\n",
       "      <th>145</th>\n",
       "      <td>6.95</td>\n",
       "      <td>0.6208</td>\n",
       "      <td>0.2290</td>\n",
       "      <td>2.754654</td>\n",
       "      <td>0.112577</td>\n",
       "      <td>17.574028</td>\n",
       "      <td>49.56</td>\n",
       "      <td>0.9955</td>\n",
       "      <td>3.35</td>\n",
       "      <td>0.73</td>\n",
       "      <td>10.18</td>\n",
       "      <td>8</td>\n",
       "    </tr>\n",
       "    <tr>\n",
       "      <th>146</th>\n",
       "      <td>7.75</td>\n",
       "      <td>0.4674</td>\n",
       "      <td>0.3274</td>\n",
       "      <td>3.217126</td>\n",
       "      <td>0.108268</td>\n",
       "      <td>11.898973</td>\n",
       "      <td>35.76</td>\n",
       "      <td>0.9996</td>\n",
       "      <td>3.34</td>\n",
       "      <td>0.79</td>\n",
       "      <td>11.11</td>\n",
       "      <td>8</td>\n",
       "    </tr>\n",
       "    <tr>\n",
       "      <th>147</th>\n",
       "      <td>9.05</td>\n",
       "      <td>0.4682</td>\n",
       "      <td>0.2965</td>\n",
       "      <td>3.764248</td>\n",
       "      <td>0.079567</td>\n",
       "      <td>15.533967</td>\n",
       "      <td>27.50</td>\n",
       "      <td>0.9934</td>\n",
       "      <td>3.26</td>\n",
       "      <td>0.73</td>\n",
       "      <td>10.95</td>\n",
       "      <td>9</td>\n",
       "    </tr>\n",
       "    <tr>\n",
       "      <th>148</th>\n",
       "      <td>6.91</td>\n",
       "      <td>0.6403</td>\n",
       "      <td>0.1973</td>\n",
       "      <td>0.978649</td>\n",
       "      <td>0.050830</td>\n",
       "      <td>20.351469</td>\n",
       "      <td>38.92</td>\n",
       "      <td>0.9962</td>\n",
       "      <td>3.10</td>\n",
       "      <td>0.63</td>\n",
       "      <td>11.67</td>\n",
       "      <td>8</td>\n",
       "    </tr>\n",
       "    <tr>\n",
       "      <th>149</th>\n",
       "      <td>7.37</td>\n",
       "      <td>0.3637</td>\n",
       "      <td>0.3091</td>\n",
       "      <td>2.073881</td>\n",
       "      <td>0.058615</td>\n",
       "      <td>22.407884</td>\n",
       "      <td>64.03</td>\n",
       "      <td>0.9924</td>\n",
       "      <td>3.39</td>\n",
       "      <td>0.60</td>\n",
       "      <td>12.04</td>\n",
       "      <td>9</td>\n",
       "    </tr>\n",
       "  </tbody>\n",
       "</table>\n",
       "<p>150 rows × 12 columns</p>\n",
       "</div>"
      ],
      "text/plain": [
       "     fixed acidity  volatile acidity  citric acid  residual sugar  chlorides  \\\n",
       "0             5.90            0.4451       0.1813        2.049401   0.070574   \n",
       "1             8.40            0.5768       0.2099        3.109590   0.101681   \n",
       "2             7.54            0.5918       0.3248        3.673744   0.072416   \n",
       "3             5.39            0.4201       0.3131        3.371815   0.072755   \n",
       "4             6.51            0.5675       0.1940        4.404723   0.066379   \n",
       "..             ...               ...          ...             ...        ...   \n",
       "145           6.95            0.6208       0.2290        2.754654   0.112577   \n",
       "146           7.75            0.4674       0.3274        3.217126   0.108268   \n",
       "147           9.05            0.4682       0.2965        3.764248   0.079567   \n",
       "148           6.91            0.6403       0.1973        0.978649   0.050830   \n",
       "149           7.37            0.3637       0.3091        2.073881   0.058615   \n",
       "\n",
       "     free sulfur dioxide  total sulfur dioxide  density    pH  sulphates  \\\n",
       "0              16.593818                 42.27   0.9982  3.27       0.71   \n",
       "1              22.555519                 16.01   0.9960  3.35       0.57   \n",
       "2               9.316866                 35.52   0.9990  3.31       0.64   \n",
       "3              18.212300                 41.97   0.9945  3.34       0.55   \n",
       "4               9.360591                 46.27   0.9925  3.27       0.45   \n",
       "..                   ...                   ...      ...   ...        ...   \n",
       "145            17.574028                 49.56   0.9955  3.35       0.73   \n",
       "146            11.898973                 35.76   0.9996  3.34       0.79   \n",
       "147            15.533967                 27.50   0.9934  3.26       0.73   \n",
       "148            20.351469                 38.92   0.9962  3.10       0.63   \n",
       "149            22.407884                 64.03   0.9924  3.39       0.60   \n",
       "\n",
       "     alcohol  quality  \n",
       "0       8.64        7  \n",
       "1      10.03        8  \n",
       "2       9.23        8  \n",
       "3      14.07        9  \n",
       "4      11.49        8  \n",
       "..       ...      ...  \n",
       "145    10.18        8  \n",
       "146    11.11        8  \n",
       "147    10.95        9  \n",
       "148    11.67        8  \n",
       "149    12.04        9  \n",
       "\n",
       "[150 rows x 12 columns]"
      ]
     },
     "execution_count": 248,
     "metadata": {},
     "output_type": "execute_result"
    }
   ],
   "source": [
    "sample_first_150_anggur = df[:150]\n",
    "sample_first_150_anggur"
   ]
  },
  {
   "cell_type": "code",
   "execution_count": 249,
   "metadata": {},
   "outputs": [
    {
     "name": "stdout",
     "output_type": "stream",
     "text": [
      "Computed Average : 0.6058666666666667\n",
      "Computed Standard Derivation : 0.10886964477104125\n",
      "T-Value : -4.964843393315918\n",
      "P-Value : 1.8590151211750339e-06\n"
     ]
    }
   ],
   "source": [
    "t_value, p_value = t_test_mean(sample_first_150_anggur, \"sulphates\", 0.65, 2)"
   ]
  },
  {
   "attachments": {},
   "cell_type": "markdown",
   "metadata": {},
   "source": [
    "Step 6 : Make a decision and conclusion\n",
    "\n",
    "<b>Reject H<sub>0</sub> and conclude that the mean Sulphates value is not equal to 0.65 but less than 0.65 because the T-Value is far less than the critical value (t < -1.976) and the P-Value is also far less than 0.05 (level of significance)</b>"
   ]
  },
  {
   "attachments": {},
   "cell_type": "markdown",
   "metadata": {},
   "source": [
    "### 4. Is the mean value of `total sulfur dioxide` below 35? "
   ]
  },
  {
   "attachments": {},
   "cell_type": "markdown",
   "metadata": {},
   "source": [
    "Step 1 : Specifying the null hypothesis (**H<sub>0</sub>**)\n",
    "\n",
    "**H<sub>0</sub> : *&mu;* = 35**"
   ]
  },
  {
   "attachments": {},
   "cell_type": "markdown",
   "metadata": {},
   "source": [
    "Step 2 : Specifying the alternative hypothesis (**H<sub>1</sub>**)\n",
    "\n",
    "**H<sub>1</sub> : *&mu;* < 35** (one-tailed test)"
   ]
  },
  {
   "attachments": {},
   "cell_type": "markdown",
   "metadata": {},
   "source": [
    "Step 3 : Decide the level of significance (α)\n",
    "\n",
    "**&alpha; = 0.05**"
   ]
  },
  {
   "attachments": {},
   "cell_type": "markdown",
   "metadata": {},
   "source": [
    "Step 4 : Choosing the appropriate statistical test and determine the critical area\n",
    "\n",
    "<b>\n",
    "Statistical test = T-Test &rarr; Variance of population is unknown<br>\n",
    "Critical area = t < t<sub>0.05, 999</sub>\n",
    "</b>"
   ]
  },
  {
   "cell_type": "code",
   "execution_count": 250,
   "metadata": {},
   "outputs": [
    {
     "name": "stdout",
     "output_type": "stream",
     "text": [
      "Critical Value = -1.6463803454275356\n",
      "So, the t-value must be less than -1.6463803454275356 to reject the null hypothesis\n"
     ]
    }
   ],
   "source": [
    "t_critical_value = calculate_t_critical_value(0.05, 999)\n",
    "print(\"Critical Value =\", t_critical_value)\n",
    "print(\"So, the t-value must be less than \" + str(t_critical_value) , \"to reject the null hypothesis\")"
   ]
  },
  {
   "attachments": {},
   "cell_type": "markdown",
   "metadata": {},
   "source": [
    "Step 5 : Calculate T-Test and P-Value from Data Sample"
   ]
  },
  {
   "cell_type": "code",
   "execution_count": 251,
   "metadata": {},
   "outputs": [
    {
     "name": "stdout",
     "output_type": "stream",
     "text": [
      "Computed Average : 40.290150000000004\n",
      "Computed Standard Derivation : 9.965767376218295\n",
      "T-Value : 16.786387372296744\n",
      "P-Value : 0.0\n"
     ]
    }
   ],
   "source": [
    "t_value, p_value = t_test_mean(df, \"total sulfur dioxide\", 35, 1)"
   ]
  },
  {
   "attachments": {},
   "cell_type": "markdown",
   "metadata": {},
   "source": [
    "Step 6 : Make a decision and conclusion\n",
    "\n",
    "<b>Do not reject H<sub>0</sub> and cannot conclude that the mean total sulfur dioxide is less than 35 because the T-Value is not less than the critical value (t > -1.6464)</b>"
   ]
  },
  {
   "attachments": {},
   "cell_type": "markdown",
   "metadata": {},
   "source": [
    "### 5. Is the proportion of the `total sulfur dioxide` that is more than 40, not the same as 50%?"
   ]
  },
  {
   "attachments": {},
   "cell_type": "markdown",
   "metadata": {},
   "source": [
    "Step 1 : Specifying the null hypothesis (**H<sub>0</sub>**)\n",
    "\n",
    "**H<sub>0</sub> : p = 0.5**"
   ]
  },
  {
   "attachments": {},
   "cell_type": "markdown",
   "metadata": {},
   "source": [
    "Step 2 : Specifying the alternative hypothesis (**H<sub>1</sub>**)\n",
    "\n",
    "**H<sub>1</sub> : p ≠ 0.5**"
   ]
  },
  {
   "cell_type": "markdown",
   "metadata": {},
   "source": [
    "Step 3 : Decide the level of significance (α)\n",
    "\n",
    "**&alpha; = 0.05**"
   ]
  },
  {
   "attachments": {},
   "cell_type": "markdown",
   "metadata": {},
   "source": [
    "Step 4 : Choosing the appropriate statistical test and determine the critical area\n",
    "\n",
    "<b>\n",
    "Statistical test = Z-Test &rarr; Proportion, not mean<br>\n",
    "Critical area = Z < - Z<sub>0.025</sub> and Z > Z<sub>0.025</sub>\n",
    "</b>"
   ]
  },
  {
   "cell_type": "code",
   "execution_count": 252,
   "metadata": {},
   "outputs": [
    {
     "name": "stdout",
     "output_type": "stream",
     "text": [
      "Critical Value = ± 1.9599639845400545\n",
      "So, the Z-Value must be greater than 1.9599639845400545 or less than -1.9599639845400545 to reject the null hypothesis\n"
     ]
    }
   ],
   "source": [
    "z_critical_value = abs(scipy.stats.norm.ppf(0.05 / 2))\n",
    "print(\"Critical Value = \\xB1\", z_critical_value)\n",
    "print(\"So, the Z-Value must be greater than\", z_critical_value, \"or less than -\" + str(z_critical_value) , \"to reject the null hypothesis\")"
   ]
  },
  {
   "attachments": {},
   "cell_type": "markdown",
   "metadata": {},
   "source": [
    "Step 5 : Calculate T-Test and P-Value from Data Sample"
   ]
  },
  {
   "cell_type": "code",
   "execution_count": 253,
   "metadata": {},
   "outputs": [
    {
     "data": {
      "text/html": [
       "<div>\n",
       "<style scoped>\n",
       "    .dataframe tbody tr th:only-of-type {\n",
       "        vertical-align: middle;\n",
       "    }\n",
       "\n",
       "    .dataframe tbody tr th {\n",
       "        vertical-align: top;\n",
       "    }\n",
       "\n",
       "    .dataframe thead th {\n",
       "        text-align: right;\n",
       "    }\n",
       "</style>\n",
       "<table border=\"1\" class=\"dataframe\">\n",
       "  <thead>\n",
       "    <tr style=\"text-align: right;\">\n",
       "      <th></th>\n",
       "      <th>fixed acidity</th>\n",
       "      <th>volatile acidity</th>\n",
       "      <th>citric acid</th>\n",
       "      <th>residual sugar</th>\n",
       "      <th>chlorides</th>\n",
       "      <th>free sulfur dioxide</th>\n",
       "      <th>total sulfur dioxide</th>\n",
       "      <th>density</th>\n",
       "      <th>pH</th>\n",
       "      <th>sulphates</th>\n",
       "      <th>alcohol</th>\n",
       "      <th>quality</th>\n",
       "    </tr>\n",
       "  </thead>\n",
       "  <tbody>\n",
       "    <tr>\n",
       "      <th>0</th>\n",
       "      <td>5.90</td>\n",
       "      <td>0.4451</td>\n",
       "      <td>0.1813</td>\n",
       "      <td>2.049401</td>\n",
       "      <td>0.070574</td>\n",
       "      <td>16.593818</td>\n",
       "      <td>42.27</td>\n",
       "      <td>0.9982</td>\n",
       "      <td>3.27</td>\n",
       "      <td>0.71</td>\n",
       "      <td>8.64</td>\n",
       "      <td>7</td>\n",
       "    </tr>\n",
       "    <tr>\n",
       "      <th>3</th>\n",
       "      <td>5.39</td>\n",
       "      <td>0.4201</td>\n",
       "      <td>0.3131</td>\n",
       "      <td>3.371815</td>\n",
       "      <td>0.072755</td>\n",
       "      <td>18.212300</td>\n",
       "      <td>41.97</td>\n",
       "      <td>0.9945</td>\n",
       "      <td>3.34</td>\n",
       "      <td>0.55</td>\n",
       "      <td>14.07</td>\n",
       "      <td>9</td>\n",
       "    </tr>\n",
       "    <tr>\n",
       "      <th>4</th>\n",
       "      <td>6.51</td>\n",
       "      <td>0.5675</td>\n",
       "      <td>0.1940</td>\n",
       "      <td>4.404723</td>\n",
       "      <td>0.066379</td>\n",
       "      <td>9.360591</td>\n",
       "      <td>46.27</td>\n",
       "      <td>0.9925</td>\n",
       "      <td>3.27</td>\n",
       "      <td>0.45</td>\n",
       "      <td>11.49</td>\n",
       "      <td>8</td>\n",
       "    </tr>\n",
       "    <tr>\n",
       "      <th>5</th>\n",
       "      <td>9.18</td>\n",
       "      <td>0.3332</td>\n",
       "      <td>0.2476</td>\n",
       "      <td>2.633491</td>\n",
       "      <td>0.082304</td>\n",
       "      <td>12.232170</td>\n",
       "      <td>51.05</td>\n",
       "      <td>0.9965</td>\n",
       "      <td>3.40</td>\n",
       "      <td>0.63</td>\n",
       "      <td>10.82</td>\n",
       "      <td>8</td>\n",
       "    </tr>\n",
       "    <tr>\n",
       "      <th>6</th>\n",
       "      <td>4.29</td>\n",
       "      <td>0.4997</td>\n",
       "      <td>0.2932</td>\n",
       "      <td>3.781844</td>\n",
       "      <td>0.079649</td>\n",
       "      <td>10.152389</td>\n",
       "      <td>44.26</td>\n",
       "      <td>0.9969</td>\n",
       "      <td>3.47</td>\n",
       "      <td>0.44</td>\n",
       "      <td>9.76</td>\n",
       "      <td>7</td>\n",
       "    </tr>\n",
       "    <tr>\n",
       "      <th>...</th>\n",
       "      <td>...</td>\n",
       "      <td>...</td>\n",
       "      <td>...</td>\n",
       "      <td>...</td>\n",
       "      <td>...</td>\n",
       "      <td>...</td>\n",
       "      <td>...</td>\n",
       "      <td>...</td>\n",
       "      <td>...</td>\n",
       "      <td>...</td>\n",
       "      <td>...</td>\n",
       "      <td>...</td>\n",
       "    </tr>\n",
       "    <tr>\n",
       "      <th>992</th>\n",
       "      <td>5.62</td>\n",
       "      <td>0.4597</td>\n",
       "      <td>0.2868</td>\n",
       "      <td>2.314833</td>\n",
       "      <td>0.041796</td>\n",
       "      <td>21.445849</td>\n",
       "      <td>41.54</td>\n",
       "      <td>0.9980</td>\n",
       "      <td>3.27</td>\n",
       "      <td>0.71</td>\n",
       "      <td>11.23</td>\n",
       "      <td>8</td>\n",
       "    </tr>\n",
       "    <tr>\n",
       "      <th>993</th>\n",
       "      <td>4.88</td>\n",
       "      <td>0.5899</td>\n",
       "      <td>0.2721</td>\n",
       "      <td>3.004077</td>\n",
       "      <td>0.095569</td>\n",
       "      <td>22.288864</td>\n",
       "      <td>45.74</td>\n",
       "      <td>0.9947</td>\n",
       "      <td>3.23</td>\n",
       "      <td>0.79</td>\n",
       "      <td>8.57</td>\n",
       "      <td>6</td>\n",
       "    </tr>\n",
       "    <tr>\n",
       "      <th>995</th>\n",
       "      <td>7.96</td>\n",
       "      <td>0.6046</td>\n",
       "      <td>0.2662</td>\n",
       "      <td>1.592048</td>\n",
       "      <td>0.057555</td>\n",
       "      <td>14.892445</td>\n",
       "      <td>44.61</td>\n",
       "      <td>0.9975</td>\n",
       "      <td>3.35</td>\n",
       "      <td>0.54</td>\n",
       "      <td>10.41</td>\n",
       "      <td>8</td>\n",
       "    </tr>\n",
       "    <tr>\n",
       "      <th>997</th>\n",
       "      <td>6.11</td>\n",
       "      <td>0.4841</td>\n",
       "      <td>0.3720</td>\n",
       "      <td>2.377267</td>\n",
       "      <td>0.042806</td>\n",
       "      <td>21.624585</td>\n",
       "      <td>48.75</td>\n",
       "      <td>0.9928</td>\n",
       "      <td>3.23</td>\n",
       "      <td>0.55</td>\n",
       "      <td>9.94</td>\n",
       "      <td>7</td>\n",
       "    </tr>\n",
       "    <tr>\n",
       "      <th>998</th>\n",
       "      <td>7.76</td>\n",
       "      <td>0.3590</td>\n",
       "      <td>0.3208</td>\n",
       "      <td>4.294486</td>\n",
       "      <td>0.098276</td>\n",
       "      <td>12.746186</td>\n",
       "      <td>44.53</td>\n",
       "      <td>0.9952</td>\n",
       "      <td>3.30</td>\n",
       "      <td>0.66</td>\n",
       "      <td>9.76</td>\n",
       "      <td>8</td>\n",
       "    </tr>\n",
       "  </tbody>\n",
       "</table>\n",
       "<p>512 rows × 12 columns</p>\n",
       "</div>"
      ],
      "text/plain": [
       "     fixed acidity  volatile acidity  citric acid  residual sugar  chlorides  \\\n",
       "0             5.90            0.4451       0.1813        2.049401   0.070574   \n",
       "3             5.39            0.4201       0.3131        3.371815   0.072755   \n",
       "4             6.51            0.5675       0.1940        4.404723   0.066379   \n",
       "5             9.18            0.3332       0.2476        2.633491   0.082304   \n",
       "6             4.29            0.4997       0.2932        3.781844   0.079649   \n",
       "..             ...               ...          ...             ...        ...   \n",
       "992           5.62            0.4597       0.2868        2.314833   0.041796   \n",
       "993           4.88            0.5899       0.2721        3.004077   0.095569   \n",
       "995           7.96            0.6046       0.2662        1.592048   0.057555   \n",
       "997           6.11            0.4841       0.3720        2.377267   0.042806   \n",
       "998           7.76            0.3590       0.3208        4.294486   0.098276   \n",
       "\n",
       "     free sulfur dioxide  total sulfur dioxide  density    pH  sulphates  \\\n",
       "0              16.593818                 42.27   0.9982  3.27       0.71   \n",
       "3              18.212300                 41.97   0.9945  3.34       0.55   \n",
       "4               9.360591                 46.27   0.9925  3.27       0.45   \n",
       "5              12.232170                 51.05   0.9965  3.40       0.63   \n",
       "6              10.152389                 44.26   0.9969  3.47       0.44   \n",
       "..                   ...                   ...      ...   ...        ...   \n",
       "992            21.445849                 41.54   0.9980  3.27       0.71   \n",
       "993            22.288864                 45.74   0.9947  3.23       0.79   \n",
       "995            14.892445                 44.61   0.9975  3.35       0.54   \n",
       "997            21.624585                 48.75   0.9928  3.23       0.55   \n",
       "998            12.746186                 44.53   0.9952  3.30       0.66   \n",
       "\n",
       "     alcohol  quality  \n",
       "0       8.64        7  \n",
       "3      14.07        9  \n",
       "4      11.49        8  \n",
       "5      10.82        8  \n",
       "6       9.76        7  \n",
       "..       ...      ...  \n",
       "992    11.23        8  \n",
       "993     8.57        6  \n",
       "995    10.41        8  \n",
       "997     9.94        7  \n",
       "998     9.76        8  \n",
       "\n",
       "[512 rows x 12 columns]"
      ]
     },
     "execution_count": 253,
     "metadata": {},
     "output_type": "execute_result"
    }
   ],
   "source": [
    "tsd_more_than_40 = df[df[\"total sulfur dioxide\"] > 40]\n",
    "tsd_more_than_40"
   ]
  },
  {
   "cell_type": "code",
   "execution_count": 254,
   "metadata": {},
   "outputs": [
    {
     "name": "stdout",
     "output_type": "stream",
     "text": [
      "n       : 1000\n",
      "x       : 512\n",
      "Z-Value : 0.7589466384404118\n",
      "P-Value : 0.4478844782641115\n"
     ]
    }
   ],
   "source": [
    "z_test_proportion(df, tsd_more_than_40, 0.5)"
   ]
  },
  {
   "attachments": {},
   "cell_type": "markdown",
   "metadata": {},
   "source": [
    "Step 6 : Make a decision and conclusion\n",
    "\n",
    "<b>Don't reject H<sub>0</sub> and cannot conclude that the proportion of total sulfur dioxide is not equal to 50 because the Z-Value is not less than the critical value (Z > -1.96) and not greater than the critical value (Z < 1.96)</b>"
   ]
  },
  {
   "attachments": {},
   "cell_type": "markdown",
   "metadata": {},
   "source": [
    "## Multi-sample Hypothesis Testing"
   ]
  },
  {
   "cell_type": "code",
   "execution_count": 255,
   "metadata": {},
   "outputs": [],
   "source": [
    "def compare_two_variance(sample1, sample2, LOS):\n",
    "    F = sample1.var() / sample2.var()\n",
    "    p = scipy.stats.f.cdf(F, len(sample1) - 1, len(sample2) - 1)\n",
    "\n",
    "    if p < LOS:\n",
    "        return False\n",
    "    else:\n",
    "        return True"
   ]
  },
  {
   "cell_type": "code",
   "execution_count": 256,
   "metadata": {},
   "outputs": [],
   "source": [
    "def two_sample_hypothesis_test(data1, data2, alpha, d0, tail, equal_var=False):\n",
    "    \"\"\"\n",
    "    Perform a hypothesis test using the t-test.\n",
    "\n",
    "    Parameters:\n",
    "    data1 (series): The first data to be tested.\n",
    "    data2 (series): The second data to be tested.\n",
    "    alpha (float): The level of significance for the test.\n",
    "    d0 (float): The difference between mean.\n",
    "    tail (int): The type of test to be performed (1 or 2) tailed.\n",
    "\n",
    "    Returns:\n",
    "    results (Series): A Pandas Series containing the test statistic, p-value, and conclusion.\n",
    "    \"\"\"\n",
    "\n",
    "    # Calculate the sample variance\n",
    "    s1 = data1.std()\n",
    "    s2 = data2.std()\n",
    "    n1, n2 = len(data1), len(data2)\n",
    "    \n",
    "    # Perform the t-test\n",
    "    if equal_var:\n",
    "        # Calculate the degrees of freedom\n",
    "        dof = n1 + n2 - 2\n",
    "\n",
    "        # Calculate t-statistic\n",
    "        sp = sqrt(((n1-1) * (s1**2) + (n2-1) * (s2**2)) / (n1+n2-2))\n",
    "        t_stat = ((data1.mean() - data2.mean()) - d0)/(sp * sqrt(1/n1 + 1/n2))\n",
    "    else:\n",
    "        # Calculate the degrees of freedom\n",
    "        dof = (s1**2 / n1 + s2**2 / n2)**2 / (((s1**2/n1)**2/(n1-1)) + ((s2**2/n2)**2/(n2-1)))\n",
    "        t_stat = ((data1.mean() - data2.mean()) - d0)/(sqrt(s1**2/n1 + s2**2/n2))\n",
    "\n",
    "    if tail == 2:\n",
    "        p_val = 2 * (1 - scipy.stats.t.cdf(abs(t_stat), dof))\n",
    "    else:\n",
    "        p_val = 1 - scipy.stats.t.cdf(abs(t_stat), dof)\n",
    "    \n",
    "    # Determine the critical value and the rejection region\n",
    "    if tail == 2:\n",
    "        cv = t.ppf(1 - alpha / 2, dof)\n",
    "        not_crit_region = (-cv, cv)\n",
    "    else:\n",
    "        cv = t.ppf(1 - alpha, dof)\n",
    "        if t_stat < 0:\n",
    "            not_crit_region = (-float(\"inf\"), -cv)\n",
    "        else:\n",
    "            not_crit_region = (cv, float(\"inf\"))\n",
    "\n",
    "    # Determine the conclusion\n",
    "    if tail == 2:\n",
    "        if p_val / 2 < alpha and t_stat not in not_crit_region:\n",
    "            conclusion = 'Reject the null hypothesis'\n",
    "        else:\n",
    "            conclusion = 'Fail to reject the null hypothesis'\n",
    "    else:\n",
    "        if p_val < alpha and t_stat not in not_crit_region:\n",
    "            conclusion = 'Reject the null hypothesis'\n",
    "        else:\n",
    "            conclusion = 'Fail to reject the null hypothesis'\n",
    "\n",
    "    # Create a Pandas Series with the results\n",
    "    results = pd.Series({\n",
    "        'test statistic': t_stat,\n",
    "        'p-value': p_val,\n",
    "        'conclusion': conclusion\n",
    "    })\n",
    "\n",
    "    return results"
   ]
  },
  {
   "cell_type": "code",
   "execution_count": 257,
   "metadata": {},
   "outputs": [],
   "source": [
    "def calculate_f_critical_value(dfnum, dfden, alpha):\n",
    "    \"\"\"\n",
    "    Calculates the F critical value for a given alpha level and degrees of freedom\n",
    "    for the numerator and denominator.\n",
    "    \n",
    "    Parameters:\n",
    "    dfnum (int): Degrees of freedom for the numerator.\n",
    "    dfden (int): Degrees of freedom for the denominator.\n",
    "    alpha (float): Alpha level for the test.\n",
    "\n",
    "    Returns:\n",
    "    f_crit (float): F critical value.\n",
    "    \"\"\"\n",
    "\n",
    "    f_crit = f.ppf(1 - alpha, dfnum, dfden)\n",
    "    return f_crit"
   ]
  },
  {
   "attachments": {},
   "cell_type": "markdown",
   "metadata": {},
   "source": [
    "### 1. Can the mean of `fixed acidity` for the first and second half of the data be considered the same?"
   ]
  },
  {
   "attachments": {},
   "cell_type": "markdown",
   "metadata": {},
   "source": [
    "Step 1 : Specifying the null hypothesis (**H<sub>0</sub>**)\n",
    "\n",
    "**H<sub>0</sub> : mean of fixed acidity first half = mean of fixed acidity second half**"
   ]
  },
  {
   "attachments": {},
   "cell_type": "markdown",
   "metadata": {},
   "source": [
    "Step 2 : Specifying the alternative hypothesis (**H<sub>1</sub>**)\n",
    "\n",
    "**H<sub>1</sub> : mean of fixed acidity first half ≠ mean of fixed acidity second half**"
   ]
  },
  {
   "cell_type": "markdown",
   "metadata": {},
   "source": [
    "Step 3 : Decide the level of significance (α)\n",
    "\n",
    "**&alpha; = 0.05**"
   ]
  },
  {
   "attachments": {},
   "cell_type": "markdown",
   "metadata": {},
   "source": [
    "Step 4 : Choosing the appropriate statistical test and determine the critical area\n",
    "\n",
    "<b>\n",
    "Statistical test = T-Test &rarr; Variance of population is unknown but proofed that both variances are equal with F-Test<br>\n",
    "Critical area = t < - t<sub>0.025, 998</sub> and t > t<sub>0.025, 998</sub>\n",
    "</b>"
   ]
  },
  {
   "cell_type": "code",
   "execution_count": 258,
   "metadata": {},
   "outputs": [
    {
     "name": "stdout",
     "output_type": "stream",
     "text": [
      "Variances are equal.\n"
     ]
    }
   ],
   "source": [
    "eq_var = compare_two_variance(df['fixed acidity'][:len(df)//2], df['fixed acidity'][len(df)//2:], 0.05)\n",
    "\n",
    "if (eq_var):\n",
    "    print(\"Variances are equal.\")\n",
    "else:\n",
    "    print(\"Variances are not equal.\")"
   ]
  },
  {
   "cell_type": "code",
   "execution_count": 259,
   "metadata": {},
   "outputs": [
    {
     "name": "stdout",
     "output_type": "stream",
     "text": [
      "Critical Value = ± 1.962343846216334\n",
      "So, the t-value must be greater than 1.962343846216334 or less than -1.962343846216334 to reject the null hypothesis\n"
     ]
    }
   ],
   "source": [
    "t_critical_value = abs(calculate_t_critical_value(0.025, 998))\n",
    "print(\"Critical Value = \\xB1\", t_critical_value)\n",
    "print(\"So, the t-value must be greater than\", t_critical_value, \"or less than -\" + str(t_critical_value) , \"to reject the null hypothesis\")"
   ]
  },
  {
   "cell_type": "markdown",
   "metadata": {},
   "source": [
    "Step 5 : Calculate T-Test and P-Value from Data Sample"
   ]
  },
  {
   "cell_type": "code",
   "execution_count": 260,
   "metadata": {},
   "outputs": [
    {
     "data": {
      "text/plain": [
       "test statistic                              0.026041\n",
       "p-value                                      0.97923\n",
       "conclusion        Fail to reject the null hypothesis\n",
       "dtype: object"
      ]
     },
     "execution_count": 260,
     "metadata": {},
     "output_type": "execute_result"
    }
   ],
   "source": [
    "two_sample_hypothesis_test(df['fixed acidity'][:len(df)//2], df['fixed acidity'][len(df)//2:], 0.05, 0, 2, eq_var)"
   ]
  },
  {
   "attachments": {},
   "cell_type": "markdown",
   "metadata": {},
   "source": [
    "Step 6 : Make a decision and conclusion\n",
    "\n",
    "<b>Don't reject H<sub>0</sub> and cannot conclude that the mean of fixed acidity first half is not equal to the mean of fixed acidity second half because the T-Value is not less than the critical value (T > -1.96) and not greater than the critical value (T < 1.96)</b>"
   ]
  },
  {
   "attachments": {},
   "cell_type": "markdown",
   "metadata": {},
   "source": [
    "### 2. Is the difference between the mean of `chlorides` for the first and second half of the data equals to 0.001?"
   ]
  },
  {
   "attachments": {},
   "cell_type": "markdown",
   "metadata": {},
   "source": [
    "Step 1 : Specifying the null hypothesis (**H<sub>0</sub>**)\n",
    "\n",
    "**H<sub>0</sub> : mean of chlorides first half - mean of chlorides second half = 0.001**"
   ]
  },
  {
   "attachments": {},
   "cell_type": "markdown",
   "metadata": {},
   "source": [
    "Step 2 : Specifying the alternative hypothesis (**H<sub>1</sub>**)\n",
    "\n",
    "**H<sub>1</sub> : mean of chlorides first half - mean of chlorides second half ≠ 0.001**"
   ]
  },
  {
   "cell_type": "markdown",
   "metadata": {},
   "source": [
    "Step 3 : Decide the level of significance (α)\n",
    "\n",
    "**&alpha; = 0.05**"
   ]
  },
  {
   "cell_type": "markdown",
   "metadata": {},
   "source": [
    "Step 4 : Choosing the appropriate statistical test and determine the critical area\n",
    "\n",
    "<b>\n",
    "Statistical test = T-Test &rarr; Variance of population is unknown but proofed that both variances are equal with F-Test<br>\n",
    "Critical area = t < - t<sub>0.025, 998</sub> and t > t<sub>0.025, 998</sub>\n",
    "</b>"
   ]
  },
  {
   "cell_type": "code",
   "execution_count": 261,
   "metadata": {},
   "outputs": [
    {
     "name": "stdout",
     "output_type": "stream",
     "text": [
      "Variances are equal.\n"
     ]
    }
   ],
   "source": [
    "eq_var = compare_two_variance(df['chlorides'][:len(df)//2], df['chlorides'][len(df)//2:], 0.05)\n",
    "\n",
    "if (eq_var):\n",
    "    print(\"Variances are equal.\")\n",
    "else:\n",
    "    print(\"Variances are not equal.\")"
   ]
  },
  {
   "cell_type": "code",
   "execution_count": 262,
   "metadata": {},
   "outputs": [
    {
     "name": "stdout",
     "output_type": "stream",
     "text": [
      "Critical Value = ± 1.962343846216334\n",
      "So, the t-value must be greater than 1.962343846216334 or less than -1.962343846216334 to reject the null hypothesis\n"
     ]
    }
   ],
   "source": [
    "t_critical_value = abs(calculate_t_critical_value(0.025, 998))\n",
    "print(\"Critical Value = \\xB1\", t_critical_value)\n",
    "print(\"So, the t-value must be greater than\", t_critical_value, \"or less than -\" + str(t_critical_value) , \"to reject the null hypothesis\")"
   ]
  },
  {
   "cell_type": "markdown",
   "metadata": {},
   "source": [
    "Step 5 : Calculate T-Test and P-Value from Data Sample"
   ]
  },
  {
   "cell_type": "code",
   "execution_count": 263,
   "metadata": {},
   "outputs": [
    {
     "data": {
      "text/plain": [
       "test statistic                             -0.467317\n",
       "p-value                                     0.640375\n",
       "conclusion        Fail to reject the null hypothesis\n",
       "dtype: object"
      ]
     },
     "execution_count": 263,
     "metadata": {},
     "output_type": "execute_result"
    }
   ],
   "source": [
    "two_sample_hypothesis_test(df['chlorides'][:len(df)//2], df['chlorides'][len(df)//2:], 0.05, 0.001, 2, eq_var)"
   ]
  },
  {
   "cell_type": "markdown",
   "metadata": {},
   "source": [
    "Step 6 : Make a decision and conclusion\n",
    "\n",
    "<b>Don't reject H<sub>0</sub> and cannot conclude that the mean of fixed acidity first half is not equal to the mean of fixed acidity second half because the T-Value is not less than the critical value (T > -1.96) and not greater than the critical value (T < 1.96)</b>"
   ]
  },
  {
   "attachments": {},
   "cell_type": "markdown",
   "metadata": {},
   "source": [
    "### 3. Can the mean of `volatile acidity` and `sulphates` for the first 25 rows of the data be considered the same?"
   ]
  },
  {
   "attachments": {},
   "cell_type": "markdown",
   "metadata": {},
   "source": [
    "Step 1 : Specifying the null hypothesis (**H<sub>0</sub>**)\n",
    "\n",
    "**H<sub>0</sub> : mean of volatile acidity first 25 rows = mean of sulphates first 25 rows**"
   ]
  },
  {
   "attachments": {},
   "cell_type": "markdown",
   "metadata": {},
   "source": [
    "Step 2 : Specifying the alternative hypothesis (**H<sub>1</sub>**)\n",
    "\n",
    "**H<sub>1</sub> : mean of volatile acidity first 25 rows ≠ mean of sulphates first 25 rows**"
   ]
  },
  {
   "cell_type": "markdown",
   "metadata": {},
   "source": [
    "Step 3 : Decide the level of significance (α)\n",
    "\n",
    "**&alpha; = 0.05**"
   ]
  },
  {
   "attachments": {},
   "cell_type": "markdown",
   "metadata": {},
   "source": [
    "Step 4 : Choosing the appropriate statistical test and determine the critical area\n",
    "\n",
    "<b>\n",
    "Statistical test = T-Test &rarr; Variance of population is unknown and proofed that both variances are equal with F-Test<br>\n",
    "Critical area = t < - t<sub>0.025, 48</sub> and t > t<sub>0.025, 48</sub>\n",
    "</b>"
   ]
  },
  {
   "cell_type": "code",
   "execution_count": 264,
   "metadata": {},
   "outputs": [
    {
     "name": "stdout",
     "output_type": "stream",
     "text": [
      "Variances are equal.\n"
     ]
    }
   ],
   "source": [
    "eq_var = compare_two_variance(df['volatile acidity'][:25], df['sulphates'][:25], 0.05)\n",
    "\n",
    "if (eq_var):\n",
    "    print(\"Variances are equal.\")\n",
    "else:\n",
    "    print(\"Variances are not equal.\")"
   ]
  },
  {
   "cell_type": "code",
   "execution_count": 265,
   "metadata": {},
   "outputs": [
    {
     "name": "stdout",
     "output_type": "stream",
     "text": [
      "Degree of freedom = 48\n",
      "Critical Value = ± 2.010634754696446\n",
      "So, the t-value must be greater than 2.010634754696446 or less than -2.010634754696446 to reject the null hypothesis\n"
     ]
    }
   ],
   "source": [
    "s1 = df['volatile acidity'][:25].std()\n",
    "s2 = df['sulphates'][:25].std()\n",
    "n1, n2 = 25, 25\n",
    "dof = n1 + n2 - 2\n",
    "print(\"Degree of freedom =\", dof)\n",
    "\n",
    "t_critical_value = abs(calculate_t_critical_value(0.025, dof))\n",
    "print(\"Critical Value = \\xB1\", t_critical_value)\n",
    "print(\"So, the t-value must be greater than\", t_critical_value, \"or less than -\" + str(t_critical_value) , \"to reject the null hypothesis\")"
   ]
  },
  {
   "cell_type": "markdown",
   "metadata": {},
   "source": [
    "Step 5 : Calculate T-Test and P-Value from Data Sample"
   ]
  },
  {
   "cell_type": "code",
   "execution_count": 266,
   "metadata": {},
   "outputs": [
    {
     "data": {
      "text/plain": [
       "test statistic                     -2.637482\n",
       "p-value                             0.011223\n",
       "conclusion        Reject the null hypothesis\n",
       "dtype: object"
      ]
     },
     "execution_count": 266,
     "metadata": {},
     "output_type": "execute_result"
    }
   ],
   "source": [
    "two_sample_hypothesis_test(df['volatile acidity'][:25], df['sulphates'][:25], 0.05, 0, 2, eq_var)"
   ]
  },
  {
   "attachments": {},
   "cell_type": "markdown",
   "metadata": {},
   "source": [
    "Step 6 : Make a decision and conclusion\n",
    "\n",
    "<b>Reject H<sub>0</sub> and conclude that the mean of volatile acidity first 25 rows is not equal to the mean of sulphates first 25 rows because the T-Value is less than the critical value (T < -2.016) and the P-Value is also less than the level of significance.</b>"
   ]
  },
  {
   "attachments": {},
   "cell_type": "markdown",
   "metadata": {},
   "source": [
    "### 4. Can the variance of `residual sugar` for the first and second half of the data be considered the same?"
   ]
  },
  {
   "attachments": {},
   "cell_type": "markdown",
   "metadata": {},
   "source": [
    "Step 1 : Specifying the null hypothesis (**H<sub>0</sub>**)\n",
    "\n",
    "**H<sub>0</sub> : *&mu;*<sub> First half </sub> = *&mu;*<sub> Second half </sub>**"
   ]
  },
  {
   "attachments": {},
   "cell_type": "markdown",
   "metadata": {},
   "source": [
    "Step 2 : Specifying the alternative hypothesis (**H<sub>1</sub>**)\n",
    "\n",
    "**H<sub>1</sub> : *&mu;*<sub> First half </sub> ≠ *&mu;*<sub> Second half </sub>**"
   ]
  },
  {
   "cell_type": "markdown",
   "metadata": {},
   "source": [
    "Step 3 : Decide the level of significance (α)\n",
    "\n",
    "**&alpha; = 0.05**"
   ]
  },
  {
   "attachments": {},
   "cell_type": "markdown",
   "metadata": {},
   "source": [
    "Step 4 : Choosing the appropriate statistical test and determine the critical area\n",
    "\n",
    "<b>\n",
    "Statistical test = F-Test &rarr; Compare the ratio of the variances of the two samples to a critical value that depends on the degrees of freedom of the two samples.  \n",
    "\n",
    "Critical area = F < F<sub>0.95</sub>(499, 499) and F > F<sub>0.05</sub>(499, 499)\n",
    "</b>"
   ]
  },
  {
   "cell_type": "code",
   "execution_count": 267,
   "metadata": {},
   "outputs": [
    {
     "name": "stdout",
     "output_type": "stream",
     "text": [
      "Critical Value = ± 1.1586553765546113\n",
      "So, the F-value must be greater than 1.1586553765546113 or less than -1.1586553765546113 to reject the null hypothesis\n"
     ]
    }
   ],
   "source": [
    "f_critical_value = abs(calculate_f_critical_value(500, 500, 0.05))\n",
    "print(\"Critical Value = \\xB1\", f_critical_value)\n",
    "print(\"So, the F-value must be greater than\", f_critical_value, \"or less than -\" + str(f_critical_value) , \"to reject the null hypothesis\")"
   ]
  },
  {
   "attachments": {},
   "cell_type": "markdown",
   "metadata": {},
   "source": [
    "Step 5 : Calculate F-Test from Sample Data"
   ]
  },
  {
   "cell_type": "code",
   "execution_count": 268,
   "metadata": {},
   "outputs": [
    {
     "name": "stdout",
     "output_type": "stream",
     "text": [
      "F-value = 0.00831717669618766\n",
      "P-value = 0.9273531229296937\n"
     ]
    }
   ],
   "source": [
    "F, p = scipy.stats.f_oneway(df['residual sugar'][:len(df)//2], df['residual sugar'][len(df)//2:])\n",
    "\n",
    "print(f\"F-value = {F}\")\n",
    "print(f\"P-value = {p}\")"
   ]
  },
  {
   "cell_type": "code",
   "execution_count": 269,
   "metadata": {},
   "outputs": [
    {
     "name": "stdout",
     "output_type": "stream",
     "text": [
      "Variances are equal.\n"
     ]
    }
   ],
   "source": [
    "eq_var = compare_two_variance(df['residual sugar'][:len(df)//2], df['residual sugar'][len(df)//2:], 0.05)\n",
    "\n",
    "if (eq_var):\n",
    "    print(\"Variances are equal.\")\n",
    "else:\n",
    "    print(\"Variances are not equal.\")"
   ]
  },
  {
   "attachments": {},
   "cell_type": "markdown",
   "metadata": {},
   "source": [
    "Step 6 : Make a decision and conclusion\n",
    "\n",
    "<b>Do not reject H<sub>0</sub> and cannot conclude that the variance of the first half of residual sugar is not equal to the variance of the second half of residual sugar, as the F-Value is not less than the critical value (F > -1.16) and not greater than the critical value (F < 1.16)</b>"
   ]
  },
  {
   "attachments": {},
   "cell_type": "markdown",
   "metadata": {},
   "source": [
    "### 5. Can the proportion of `alcohol` having a value greater than 7 on the first and second half be considered the same?"
   ]
  },
  {
   "attachments": {},
   "cell_type": "markdown",
   "metadata": {},
   "source": [
    "Step 1 : Specifying the null hypothesis (**H<sub>0</sub>**)\n",
    "\n",
    "**H<sub>0</sub> : p<sub>1</sub> = p<sub>2</sub>**"
   ]
  },
  {
   "attachments": {},
   "cell_type": "markdown",
   "metadata": {},
   "source": [
    "Step 2 : Specifying the alternative hypothesis (**H<sub>1</sub>**)\n",
    "\n",
    "**H<sub>1</sub> : p<sub>1</sub> > p<sub>2</sub>**"
   ]
  },
  {
   "cell_type": "markdown",
   "metadata": {},
   "source": [
    "Step 3 : Decide the level of significance (α)\n",
    "\n",
    "**&alpha; = 0.05**"
   ]
  },
  {
   "attachments": {},
   "cell_type": "markdown",
   "metadata": {},
   "source": [
    "Step 4 : Choosing the appropriate statistical test and determine the critical area\n",
    "\n",
    "\n",
    "**Statistical test = Z-Test &rarr; Proportion, not mean**  \n",
    "\n",
    "**Critical area = Z > Z<sub>0.05</sub>**"
   ]
  },
  {
   "cell_type": "code",
   "execution_count": 270,
   "metadata": {},
   "outputs": [
    {
     "name": "stdout",
     "output_type": "stream",
     "text": [
      "Critical Value = ± 1.9599639845400545\n",
      "So, the Z-Value must be greater than 1.9599639845400545 to reject the null hypothesis\n"
     ]
    }
   ],
   "source": [
    "z_critical_value = abs(scipy.stats.norm.ppf(0.05 / 2))\n",
    "print(\"Critical Value = \\xB1\", z_critical_value)\n",
    "print(\"So, the Z-Value must be greater than\", z_critical_value, \"to reject the null hypothesis\")"
   ]
  },
  {
   "attachments": {},
   "cell_type": "markdown",
   "metadata": {},
   "source": [
    "Step 5 : Calculate Z-Test and P-Value from Data Sample"
   ]
  },
  {
   "cell_type": "code",
   "execution_count": 271,
   "metadata": {},
   "outputs": [],
   "source": [
    "first_half_alcohol = df[:len(df)//2].loc[df['alcohol'] > 7]\n",
    "second_half_alcohol = df[len(df)//2:].loc[df['alcohol'] > 7]"
   ]
  },
  {
   "cell_type": "code",
   "execution_count": 272,
   "metadata": {},
   "outputs": [
    {
     "data": {
      "text/html": [
       "<div>\n",
       "<style scoped>\n",
       "    .dataframe tbody tr th:only-of-type {\n",
       "        vertical-align: middle;\n",
       "    }\n",
       "\n",
       "    .dataframe tbody tr th {\n",
       "        vertical-align: top;\n",
       "    }\n",
       "\n",
       "    .dataframe thead th {\n",
       "        text-align: right;\n",
       "    }\n",
       "</style>\n",
       "<table border=\"1\" class=\"dataframe\">\n",
       "  <thead>\n",
       "    <tr style=\"text-align: right;\">\n",
       "      <th></th>\n",
       "      <th>fixed acidity</th>\n",
       "      <th>volatile acidity</th>\n",
       "      <th>citric acid</th>\n",
       "      <th>residual sugar</th>\n",
       "      <th>chlorides</th>\n",
       "      <th>free sulfur dioxide</th>\n",
       "      <th>total sulfur dioxide</th>\n",
       "      <th>density</th>\n",
       "      <th>pH</th>\n",
       "      <th>sulphates</th>\n",
       "      <th>alcohol</th>\n",
       "      <th>quality</th>\n",
       "    </tr>\n",
       "  </thead>\n",
       "  <tbody>\n",
       "    <tr>\n",
       "      <th>0</th>\n",
       "      <td>5.90</td>\n",
       "      <td>0.4451</td>\n",
       "      <td>0.1813</td>\n",
       "      <td>2.049401</td>\n",
       "      <td>0.070574</td>\n",
       "      <td>16.593818</td>\n",
       "      <td>42.27</td>\n",
       "      <td>0.9982</td>\n",
       "      <td>3.27</td>\n",
       "      <td>0.71</td>\n",
       "      <td>8.64</td>\n",
       "      <td>7</td>\n",
       "    </tr>\n",
       "    <tr>\n",
       "      <th>1</th>\n",
       "      <td>8.40</td>\n",
       "      <td>0.5768</td>\n",
       "      <td>0.2099</td>\n",
       "      <td>3.109590</td>\n",
       "      <td>0.101681</td>\n",
       "      <td>22.555519</td>\n",
       "      <td>16.01</td>\n",
       "      <td>0.9960</td>\n",
       "      <td>3.35</td>\n",
       "      <td>0.57</td>\n",
       "      <td>10.03</td>\n",
       "      <td>8</td>\n",
       "    </tr>\n",
       "    <tr>\n",
       "      <th>2</th>\n",
       "      <td>7.54</td>\n",
       "      <td>0.5918</td>\n",
       "      <td>0.3248</td>\n",
       "      <td>3.673744</td>\n",
       "      <td>0.072416</td>\n",
       "      <td>9.316866</td>\n",
       "      <td>35.52</td>\n",
       "      <td>0.9990</td>\n",
       "      <td>3.31</td>\n",
       "      <td>0.64</td>\n",
       "      <td>9.23</td>\n",
       "      <td>8</td>\n",
       "    </tr>\n",
       "    <tr>\n",
       "      <th>3</th>\n",
       "      <td>5.39</td>\n",
       "      <td>0.4201</td>\n",
       "      <td>0.3131</td>\n",
       "      <td>3.371815</td>\n",
       "      <td>0.072755</td>\n",
       "      <td>18.212300</td>\n",
       "      <td>41.97</td>\n",
       "      <td>0.9945</td>\n",
       "      <td>3.34</td>\n",
       "      <td>0.55</td>\n",
       "      <td>14.07</td>\n",
       "      <td>9</td>\n",
       "    </tr>\n",
       "    <tr>\n",
       "      <th>4</th>\n",
       "      <td>6.51</td>\n",
       "      <td>0.5675</td>\n",
       "      <td>0.1940</td>\n",
       "      <td>4.404723</td>\n",
       "      <td>0.066379</td>\n",
       "      <td>9.360591</td>\n",
       "      <td>46.27</td>\n",
       "      <td>0.9925</td>\n",
       "      <td>3.27</td>\n",
       "      <td>0.45</td>\n",
       "      <td>11.49</td>\n",
       "      <td>8</td>\n",
       "    </tr>\n",
       "    <tr>\n",
       "      <th>...</th>\n",
       "      <td>...</td>\n",
       "      <td>...</td>\n",
       "      <td>...</td>\n",
       "      <td>...</td>\n",
       "      <td>...</td>\n",
       "      <td>...</td>\n",
       "      <td>...</td>\n",
       "      <td>...</td>\n",
       "      <td>...</td>\n",
       "      <td>...</td>\n",
       "      <td>...</td>\n",
       "      <td>...</td>\n",
       "    </tr>\n",
       "    <tr>\n",
       "      <th>494</th>\n",
       "      <td>5.94</td>\n",
       "      <td>0.4406</td>\n",
       "      <td>0.3149</td>\n",
       "      <td>3.329801</td>\n",
       "      <td>0.097498</td>\n",
       "      <td>14.527711</td>\n",
       "      <td>37.93</td>\n",
       "      <td>0.9933</td>\n",
       "      <td>3.36</td>\n",
       "      <td>0.46</td>\n",
       "      <td>8.60</td>\n",
       "      <td>7</td>\n",
       "    </tr>\n",
       "    <tr>\n",
       "      <th>496</th>\n",
       "      <td>7.82</td>\n",
       "      <td>0.3760</td>\n",
       "      <td>0.2012</td>\n",
       "      <td>3.743606</td>\n",
       "      <td>0.056809</td>\n",
       "      <td>18.885695</td>\n",
       "      <td>47.21</td>\n",
       "      <td>0.9969</td>\n",
       "      <td>3.31</td>\n",
       "      <td>0.55</td>\n",
       "      <td>14.56</td>\n",
       "      <td>10</td>\n",
       "    </tr>\n",
       "    <tr>\n",
       "      <th>497</th>\n",
       "      <td>7.17</td>\n",
       "      <td>0.5158</td>\n",
       "      <td>0.1855</td>\n",
       "      <td>2.803720</td>\n",
       "      <td>0.092192</td>\n",
       "      <td>17.949297</td>\n",
       "      <td>66.99</td>\n",
       "      <td>0.9963</td>\n",
       "      <td>3.08</td>\n",
       "      <td>0.72</td>\n",
       "      <td>9.95</td>\n",
       "      <td>8</td>\n",
       "    </tr>\n",
       "    <tr>\n",
       "      <th>498</th>\n",
       "      <td>7.57</td>\n",
       "      <td>0.5686</td>\n",
       "      <td>0.2382</td>\n",
       "      <td>3.365912</td>\n",
       "      <td>0.041608</td>\n",
       "      <td>5.066432</td>\n",
       "      <td>48.37</td>\n",
       "      <td>0.9979</td>\n",
       "      <td>3.38</td>\n",
       "      <td>0.59</td>\n",
       "      <td>9.73</td>\n",
       "      <td>8</td>\n",
       "    </tr>\n",
       "    <tr>\n",
       "      <th>499</th>\n",
       "      <td>7.03</td>\n",
       "      <td>0.6953</td>\n",
       "      <td>0.3534</td>\n",
       "      <td>2.328736</td>\n",
       "      <td>0.071467</td>\n",
       "      <td>13.300705</td>\n",
       "      <td>49.99</td>\n",
       "      <td>0.9956</td>\n",
       "      <td>3.48</td>\n",
       "      <td>0.52</td>\n",
       "      <td>8.37</td>\n",
       "      <td>7</td>\n",
       "    </tr>\n",
       "  </tbody>\n",
       "</table>\n",
       "<p>495 rows × 12 columns</p>\n",
       "</div>"
      ],
      "text/plain": [
       "     fixed acidity  volatile acidity  citric acid  residual sugar  chlorides  \\\n",
       "0             5.90            0.4451       0.1813        2.049401   0.070574   \n",
       "1             8.40            0.5768       0.2099        3.109590   0.101681   \n",
       "2             7.54            0.5918       0.3248        3.673744   0.072416   \n",
       "3             5.39            0.4201       0.3131        3.371815   0.072755   \n",
       "4             6.51            0.5675       0.1940        4.404723   0.066379   \n",
       "..             ...               ...          ...             ...        ...   \n",
       "494           5.94            0.4406       0.3149        3.329801   0.097498   \n",
       "496           7.82            0.3760       0.2012        3.743606   0.056809   \n",
       "497           7.17            0.5158       0.1855        2.803720   0.092192   \n",
       "498           7.57            0.5686       0.2382        3.365912   0.041608   \n",
       "499           7.03            0.6953       0.3534        2.328736   0.071467   \n",
       "\n",
       "     free sulfur dioxide  total sulfur dioxide  density    pH  sulphates  \\\n",
       "0              16.593818                 42.27   0.9982  3.27       0.71   \n",
       "1              22.555519                 16.01   0.9960  3.35       0.57   \n",
       "2               9.316866                 35.52   0.9990  3.31       0.64   \n",
       "3              18.212300                 41.97   0.9945  3.34       0.55   \n",
       "4               9.360591                 46.27   0.9925  3.27       0.45   \n",
       "..                   ...                   ...      ...   ...        ...   \n",
       "494            14.527711                 37.93   0.9933  3.36       0.46   \n",
       "496            18.885695                 47.21   0.9969  3.31       0.55   \n",
       "497            17.949297                 66.99   0.9963  3.08       0.72   \n",
       "498             5.066432                 48.37   0.9979  3.38       0.59   \n",
       "499            13.300705                 49.99   0.9956  3.48       0.52   \n",
       "\n",
       "     alcohol  quality  \n",
       "0       8.64        7  \n",
       "1      10.03        8  \n",
       "2       9.23        8  \n",
       "3      14.07        9  \n",
       "4      11.49        8  \n",
       "..       ...      ...  \n",
       "494     8.60        7  \n",
       "496    14.56       10  \n",
       "497     9.95        8  \n",
       "498     9.73        8  \n",
       "499     8.37        7  \n",
       "\n",
       "[495 rows x 12 columns]"
      ]
     },
     "execution_count": 272,
     "metadata": {},
     "output_type": "execute_result"
    }
   ],
   "source": [
    "first_half_alcohol"
   ]
  },
  {
   "cell_type": "code",
   "execution_count": 273,
   "metadata": {},
   "outputs": [
    {
     "data": {
      "text/html": [
       "<div>\n",
       "<style scoped>\n",
       "    .dataframe tbody tr th:only-of-type {\n",
       "        vertical-align: middle;\n",
       "    }\n",
       "\n",
       "    .dataframe tbody tr th {\n",
       "        vertical-align: top;\n",
       "    }\n",
       "\n",
       "    .dataframe thead th {\n",
       "        text-align: right;\n",
       "    }\n",
       "</style>\n",
       "<table border=\"1\" class=\"dataframe\">\n",
       "  <thead>\n",
       "    <tr style=\"text-align: right;\">\n",
       "      <th></th>\n",
       "      <th>fixed acidity</th>\n",
       "      <th>volatile acidity</th>\n",
       "      <th>citric acid</th>\n",
       "      <th>residual sugar</th>\n",
       "      <th>chlorides</th>\n",
       "      <th>free sulfur dioxide</th>\n",
       "      <th>total sulfur dioxide</th>\n",
       "      <th>density</th>\n",
       "      <th>pH</th>\n",
       "      <th>sulphates</th>\n",
       "      <th>alcohol</th>\n",
       "      <th>quality</th>\n",
       "    </tr>\n",
       "  </thead>\n",
       "  <tbody>\n",
       "    <tr>\n",
       "      <th>500</th>\n",
       "      <td>8.10</td>\n",
       "      <td>0.6758</td>\n",
       "      <td>0.1956</td>\n",
       "      <td>2.684752</td>\n",
       "      <td>0.079678</td>\n",
       "      <td>16.506123</td>\n",
       "      <td>53.75</td>\n",
       "      <td>0.9972</td>\n",
       "      <td>3.24</td>\n",
       "      <td>0.72</td>\n",
       "      <td>12.75</td>\n",
       "      <td>9</td>\n",
       "    </tr>\n",
       "    <tr>\n",
       "      <th>501</th>\n",
       "      <td>7.28</td>\n",
       "      <td>0.6842</td>\n",
       "      <td>0.3041</td>\n",
       "      <td>3.834531</td>\n",
       "      <td>0.094940</td>\n",
       "      <td>14.675257</td>\n",
       "      <td>45.25</td>\n",
       "      <td>0.9945</td>\n",
       "      <td>3.27</td>\n",
       "      <td>0.60</td>\n",
       "      <td>10.24</td>\n",
       "      <td>8</td>\n",
       "    </tr>\n",
       "    <tr>\n",
       "      <th>502</th>\n",
       "      <td>6.88</td>\n",
       "      <td>0.4673</td>\n",
       "      <td>0.2766</td>\n",
       "      <td>3.513471</td>\n",
       "      <td>0.074843</td>\n",
       "      <td>11.967985</td>\n",
       "      <td>42.31</td>\n",
       "      <td>0.9947</td>\n",
       "      <td>3.35</td>\n",
       "      <td>0.49</td>\n",
       "      <td>11.34</td>\n",
       "      <td>8</td>\n",
       "    </tr>\n",
       "    <tr>\n",
       "      <th>503</th>\n",
       "      <td>8.32</td>\n",
       "      <td>0.4955</td>\n",
       "      <td>0.2549</td>\n",
       "      <td>1.572885</td>\n",
       "      <td>0.091232</td>\n",
       "      <td>13.856693</td>\n",
       "      <td>41.27</td>\n",
       "      <td>0.9971</td>\n",
       "      <td>3.46</td>\n",
       "      <td>0.43</td>\n",
       "      <td>10.72</td>\n",
       "      <td>8</td>\n",
       "    </tr>\n",
       "    <tr>\n",
       "      <th>504</th>\n",
       "      <td>8.71</td>\n",
       "      <td>0.3536</td>\n",
       "      <td>0.2398</td>\n",
       "      <td>1.705161</td>\n",
       "      <td>0.085907</td>\n",
       "      <td>23.880561</td>\n",
       "      <td>25.59</td>\n",
       "      <td>0.9960</td>\n",
       "      <td>3.38</td>\n",
       "      <td>0.59</td>\n",
       "      <td>11.09</td>\n",
       "      <td>8</td>\n",
       "    </tr>\n",
       "    <tr>\n",
       "      <th>...</th>\n",
       "      <td>...</td>\n",
       "      <td>...</td>\n",
       "      <td>...</td>\n",
       "      <td>...</td>\n",
       "      <td>...</td>\n",
       "      <td>...</td>\n",
       "      <td>...</td>\n",
       "      <td>...</td>\n",
       "      <td>...</td>\n",
       "      <td>...</td>\n",
       "      <td>...</td>\n",
       "      <td>...</td>\n",
       "    </tr>\n",
       "    <tr>\n",
       "      <th>995</th>\n",
       "      <td>7.96</td>\n",
       "      <td>0.6046</td>\n",
       "      <td>0.2662</td>\n",
       "      <td>1.592048</td>\n",
       "      <td>0.057555</td>\n",
       "      <td>14.892445</td>\n",
       "      <td>44.61</td>\n",
       "      <td>0.9975</td>\n",
       "      <td>3.35</td>\n",
       "      <td>0.54</td>\n",
       "      <td>10.41</td>\n",
       "      <td>8</td>\n",
       "    </tr>\n",
       "    <tr>\n",
       "      <th>996</th>\n",
       "      <td>8.48</td>\n",
       "      <td>0.4080</td>\n",
       "      <td>0.2227</td>\n",
       "      <td>0.681955</td>\n",
       "      <td>0.051627</td>\n",
       "      <td>23.548965</td>\n",
       "      <td>25.83</td>\n",
       "      <td>0.9972</td>\n",
       "      <td>3.41</td>\n",
       "      <td>0.46</td>\n",
       "      <td>9.91</td>\n",
       "      <td>8</td>\n",
       "    </tr>\n",
       "    <tr>\n",
       "      <th>997</th>\n",
       "      <td>6.11</td>\n",
       "      <td>0.4841</td>\n",
       "      <td>0.3720</td>\n",
       "      <td>2.377267</td>\n",
       "      <td>0.042806</td>\n",
       "      <td>21.624585</td>\n",
       "      <td>48.75</td>\n",
       "      <td>0.9928</td>\n",
       "      <td>3.23</td>\n",
       "      <td>0.55</td>\n",
       "      <td>9.94</td>\n",
       "      <td>7</td>\n",
       "    </tr>\n",
       "    <tr>\n",
       "      <th>998</th>\n",
       "      <td>7.76</td>\n",
       "      <td>0.3590</td>\n",
       "      <td>0.3208</td>\n",
       "      <td>4.294486</td>\n",
       "      <td>0.098276</td>\n",
       "      <td>12.746186</td>\n",
       "      <td>44.53</td>\n",
       "      <td>0.9952</td>\n",
       "      <td>3.30</td>\n",
       "      <td>0.66</td>\n",
       "      <td>9.76</td>\n",
       "      <td>8</td>\n",
       "    </tr>\n",
       "    <tr>\n",
       "      <th>999</th>\n",
       "      <td>5.87</td>\n",
       "      <td>0.5214</td>\n",
       "      <td>0.1883</td>\n",
       "      <td>2.179490</td>\n",
       "      <td>0.052923</td>\n",
       "      <td>16.203864</td>\n",
       "      <td>24.37</td>\n",
       "      <td>0.9983</td>\n",
       "      <td>3.29</td>\n",
       "      <td>0.70</td>\n",
       "      <td>10.17</td>\n",
       "      <td>7</td>\n",
       "    </tr>\n",
       "  </tbody>\n",
       "</table>\n",
       "<p>495 rows × 12 columns</p>\n",
       "</div>"
      ],
      "text/plain": [
       "     fixed acidity  volatile acidity  citric acid  residual sugar  chlorides  \\\n",
       "500           8.10            0.6758       0.1956        2.684752   0.079678   \n",
       "501           7.28            0.6842       0.3041        3.834531   0.094940   \n",
       "502           6.88            0.4673       0.2766        3.513471   0.074843   \n",
       "503           8.32            0.4955       0.2549        1.572885   0.091232   \n",
       "504           8.71            0.3536       0.2398        1.705161   0.085907   \n",
       "..             ...               ...          ...             ...        ...   \n",
       "995           7.96            0.6046       0.2662        1.592048   0.057555   \n",
       "996           8.48            0.4080       0.2227        0.681955   0.051627   \n",
       "997           6.11            0.4841       0.3720        2.377267   0.042806   \n",
       "998           7.76            0.3590       0.3208        4.294486   0.098276   \n",
       "999           5.87            0.5214       0.1883        2.179490   0.052923   \n",
       "\n",
       "     free sulfur dioxide  total sulfur dioxide  density    pH  sulphates  \\\n",
       "500            16.506123                 53.75   0.9972  3.24       0.72   \n",
       "501            14.675257                 45.25   0.9945  3.27       0.60   \n",
       "502            11.967985                 42.31   0.9947  3.35       0.49   \n",
       "503            13.856693                 41.27   0.9971  3.46       0.43   \n",
       "504            23.880561                 25.59   0.9960  3.38       0.59   \n",
       "..                   ...                   ...      ...   ...        ...   \n",
       "995            14.892445                 44.61   0.9975  3.35       0.54   \n",
       "996            23.548965                 25.83   0.9972  3.41       0.46   \n",
       "997            21.624585                 48.75   0.9928  3.23       0.55   \n",
       "998            12.746186                 44.53   0.9952  3.30       0.66   \n",
       "999            16.203864                 24.37   0.9983  3.29       0.70   \n",
       "\n",
       "     alcohol  quality  \n",
       "500    12.75        9  \n",
       "501    10.24        8  \n",
       "502    11.34        8  \n",
       "503    10.72        8  \n",
       "504    11.09        8  \n",
       "..       ...      ...  \n",
       "995    10.41        8  \n",
       "996     9.91        8  \n",
       "997     9.94        7  \n",
       "998     9.76        8  \n",
       "999    10.17        7  \n",
       "\n",
       "[495 rows x 12 columns]"
      ]
     },
     "execution_count": 273,
     "metadata": {},
     "output_type": "execute_result"
    }
   ],
   "source": [
    "second_half_alcohol"
   ]
  },
  {
   "cell_type": "code",
   "execution_count": 274,
   "metadata": {},
   "outputs": [
    {
     "name": "stdout",
     "output_type": "stream",
     "text": [
      "p1-hat = 0.99\n",
      "p2-hat = 0.99\n",
      "p-hat = 0.99\n"
     ]
    }
   ],
   "source": [
    "x1 = len(first_half_alcohol)\n",
    "x2 = len(second_half_alcohol)\n",
    "n1, n2 = len(df) // 2, len(df) // 2\n",
    "p1 = x1 / n1\n",
    "p2 = x2 / n2\n",
    "p = (x1 + x2) / (n1 + n2)\n",
    "\n",
    "print(\"p1-hat =\", p1)\n",
    "print(\"p2-hat =\", p2)\n",
    "print(\"p-hat =\", p)"
   ]
  },
  {
   "cell_type": "code",
   "execution_count": 275,
   "metadata": {},
   "outputs": [
    {
     "name": "stdout",
     "output_type": "stream",
     "text": [
      "Z-Value = 0.0\n",
      "P-Value = 1.0\n"
     ]
    }
   ],
   "source": [
    "z_value = (p1-p2) / sqrt(p * (1-p) * (1/n1 + 1/n2))\n",
    "p_value = scipy.stats.norm.sf(abs(z_value)) * 2\n",
    "\n",
    "print(\"Z-Value =\", z_value)\n",
    "print(\"P-Value =\", p_value)"
   ]
  },
  {
   "attachments": {},
   "cell_type": "markdown",
   "metadata": {},
   "source": [
    "Step 6 : Make a decision and conclusion\n",
    "\n",
    "<b>Do not reject H<sub>0</sub> as the proportion in the first and second half is exactly the same concluded by normal inspection and backed by the Z-test, having the Z-value less than the critical value (Z < 1.96).</b>"
   ]
  }
 ],
 "metadata": {
  "kernelspec": {
   "display_name": "Python 3",
   "language": "python",
   "name": "python3"
  },
  "language_info": {
   "codemirror_mode": {
    "name": "ipython",
    "version": 3
   },
   "file_extension": ".py",
   "mimetype": "text/x-python",
   "name": "python",
   "nbconvert_exporter": "python",
   "pygments_lexer": "ipython3",
   "version": "3.9.6"
  },
  "orig_nbformat": 4,
  "vscode": {
   "interpreter": {
    "hash": "aee8b7b246df8f9039afb4144a1f6fd8d2ca17a180786b69acc140d282b71a49"
   }
  }
 },
 "nbformat": 4,
 "nbformat_minor": 2
}
